{
 "cells": [
  {
   "cell_type": "code",
   "execution_count": 6,
   "metadata": {},
   "outputs": [],
   "source": [
    "import pandas as pd\n",
    "import numpy as np\n",
    "import seaborn as sns\n",
    "import matplotlib.pyplot as plt\n",
    "import statsmodels.api as sm\n",
    "from sklearn.linear_model import LinearRegression\n",
    "\n",
    "%matplotlib inline"
   ]
  },
  {
   "cell_type": "code",
   "execution_count": 2,
   "metadata": {},
   "outputs": [
    {
     "data": {
      "text/html": [
       "<div>\n",
       "<style scoped>\n",
       "    .dataframe tbody tr th:only-of-type {\n",
       "        vertical-align: middle;\n",
       "    }\n",
       "\n",
       "    .dataframe tbody tr th {\n",
       "        vertical-align: top;\n",
       "    }\n",
       "\n",
       "    .dataframe thead th {\n",
       "        text-align: right;\n",
       "    }\n",
       "</style>\n",
       "<table border=\"1\" class=\"dataframe\">\n",
       "  <thead>\n",
       "    <tr style=\"text-align: right;\">\n",
       "      <th></th>\n",
       "      <th>mpg</th>\n",
       "      <th>cylinders</th>\n",
       "      <th>displacement</th>\n",
       "      <th>horsepower</th>\n",
       "      <th>weight</th>\n",
       "      <th>acceleration</th>\n",
       "      <th>year</th>\n",
       "      <th>origin</th>\n",
       "    </tr>\n",
       "    <tr>\n",
       "      <th>name</th>\n",
       "      <th></th>\n",
       "      <th></th>\n",
       "      <th></th>\n",
       "      <th></th>\n",
       "      <th></th>\n",
       "      <th></th>\n",
       "      <th></th>\n",
       "      <th></th>\n",
       "    </tr>\n",
       "  </thead>\n",
       "  <tbody>\n",
       "    <tr>\n",
       "      <th>chevrolet chevelle malibu</th>\n",
       "      <td>18.0</td>\n",
       "      <td>8</td>\n",
       "      <td>307.0</td>\n",
       "      <td>130</td>\n",
       "      <td>3504</td>\n",
       "      <td>12.0</td>\n",
       "      <td>70</td>\n",
       "      <td>1</td>\n",
       "    </tr>\n",
       "    <tr>\n",
       "      <th>buick skylark 320</th>\n",
       "      <td>15.0</td>\n",
       "      <td>8</td>\n",
       "      <td>350.0</td>\n",
       "      <td>165</td>\n",
       "      <td>3693</td>\n",
       "      <td>11.5</td>\n",
       "      <td>70</td>\n",
       "      <td>1</td>\n",
       "    </tr>\n",
       "    <tr>\n",
       "      <th>plymouth satellite</th>\n",
       "      <td>18.0</td>\n",
       "      <td>8</td>\n",
       "      <td>318.0</td>\n",
       "      <td>150</td>\n",
       "      <td>3436</td>\n",
       "      <td>11.0</td>\n",
       "      <td>70</td>\n",
       "      <td>1</td>\n",
       "    </tr>\n",
       "    <tr>\n",
       "      <th>amc rebel sst</th>\n",
       "      <td>16.0</td>\n",
       "      <td>8</td>\n",
       "      <td>304.0</td>\n",
       "      <td>150</td>\n",
       "      <td>3433</td>\n",
       "      <td>12.0</td>\n",
       "      <td>70</td>\n",
       "      <td>1</td>\n",
       "    </tr>\n",
       "    <tr>\n",
       "      <th>ford torino</th>\n",
       "      <td>17.0</td>\n",
       "      <td>8</td>\n",
       "      <td>302.0</td>\n",
       "      <td>140</td>\n",
       "      <td>3449</td>\n",
       "      <td>10.5</td>\n",
       "      <td>70</td>\n",
       "      <td>1</td>\n",
       "    </tr>\n",
       "  </tbody>\n",
       "</table>\n",
       "</div>"
      ],
      "text/plain": [
       "                            mpg  cylinders  displacement  horsepower  weight  \\\n",
       "name                                                                           \n",
       "chevrolet chevelle malibu  18.0          8         307.0         130    3504   \n",
       "buick skylark 320          15.0          8         350.0         165    3693   \n",
       "plymouth satellite         18.0          8         318.0         150    3436   \n",
       "amc rebel sst              16.0          8         304.0         150    3433   \n",
       "ford torino                17.0          8         302.0         140    3449   \n",
       "\n",
       "                           acceleration  year  origin  \n",
       "name                                                   \n",
       "chevrolet chevelle malibu          12.0    70       1  \n",
       "buick skylark 320                  11.5    70       1  \n",
       "plymouth satellite                 11.0    70       1  \n",
       "amc rebel sst                      12.0    70       1  \n",
       "ford torino                        10.5    70       1  "
      ]
     },
     "execution_count": 2,
     "metadata": {},
     "output_type": "execute_result"
    }
   ],
   "source": [
    "dataset_file = '../datasets/Auto.csv'\n",
    "data = pd.read_csv(dataset_file, index_col='name')\n",
    "data = data.loc[data.horsepower != '?']\n",
    "data.horsepower = data.horsepower.apply(int)\n",
    "data.head()"
   ]
  },
  {
   "cell_type": "code",
   "execution_count": 28,
   "metadata": {},
   "outputs": [],
   "source": [
    "train_data = data.sample(frac=.5, random_state=1)\n",
    "test_data = data.drop(train_data.index)\n",
    "train_X = train_data.horsepower.values.reshape(-1, 1)\n",
    "train_X_2 = np.hstack([train_X, train_X ** 2])\n",
    "train_X_3 = np.hstack([train_X, train_X ** 2, train_X ** 3])\n",
    "test_X = test_data.horsepower.values.reshape(-1, 1)\n",
    "test_X_2 = np.hstack([test_X, test_X ** 2])\n",
    "test_X_3 = np.hstack([test_X, test_X ** 2, test_X ** 3])\n",
    "train_y = train_data.mpg\n",
    "test_y = test_data.mpg"
   ]
  },
  {
   "cell_type": "code",
   "execution_count": 29,
   "metadata": {},
   "outputs": [
    {
     "data": {
      "text/plain": [
       "25.01423339941708"
      ]
     },
     "execution_count": 29,
     "metadata": {},
     "output_type": "execute_result"
    }
   ],
   "source": [
    "model = LinearRegression().fit(train_X, train_y)\n",
    "(test_y - model.predict(test_X)).pow(2).mean()"
   ]
  },
  {
   "cell_type": "code",
   "execution_count": 30,
   "metadata": {},
   "outputs": [
    {
     "data": {
      "text/plain": [
       "20.942287489569363"
      ]
     },
     "execution_count": 30,
     "metadata": {},
     "output_type": "execute_result"
    }
   ],
   "source": [
    "model2 = LinearRegression().fit(train_X_2, train_y)\n",
    "(test_y - model2.predict(test_X_2)).pow(2).mean()"
   ]
  },
  {
   "cell_type": "code",
   "execution_count": 31,
   "metadata": {},
   "outputs": [
    {
     "data": {
      "text/plain": [
       "20.87712085084548"
      ]
     },
     "execution_count": 31,
     "metadata": {},
     "output_type": "execute_result"
    }
   ],
   "source": [
    "model3 = LinearRegression().fit(train_X_3, train_y)\n",
    "(test_y - model3.predict(test_X_3)).pow(2).mean()"
   ]
  },
  {
   "cell_type": "code",
   "execution_count": 67,
   "metadata": {},
   "outputs": [],
   "source": [
    "train_data = data.sample(frac=.5, random_state=5)\n",
    "test_data = data.drop(train_data.index)\n",
    "train_X = train_data.horsepower.values.reshape(-1, 1)\n",
    "train_X_2 = np.hstack([train_X, train_X ** 2])\n",
    "train_X_3 = np.hstack([train_X, train_X ** 2, train_X ** 3])\n",
    "test_X = test_data.horsepower.values.reshape(-1, 1)\n",
    "test_X_2 = np.hstack([test_X, test_X ** 2])\n",
    "test_X_3 = np.hstack([test_X, test_X ** 2, test_X ** 3])\n",
    "train_y = train_data.mpg\n",
    "test_y = test_data.mpg"
   ]
  },
  {
   "cell_type": "code",
   "execution_count": 68,
   "metadata": {},
   "outputs": [
    {
     "name": "stdout",
     "output_type": "stream",
     "text": [
      "20.44845821786757\n",
      "15.436639885482204\n",
      "15.353884023392903\n"
     ]
    }
   ],
   "source": [
    "model = LinearRegression().fit(train_X, train_y)\n",
    "print((test_y - model.predict(test_X)).pow(2).mean())\n",
    "model2 = LinearRegression().fit(train_X_2, train_y)\n",
    "print((test_y - model2.predict(test_X_2)).pow(2).mean())\n",
    "model3 = LinearRegression().fit(train_X_3, train_y)\n",
    "print((test_y - model3.predict(test_X_3)).pow(2).mean())"
   ]
  },
  {
   "cell_type": "code",
   "execution_count": 62,
   "metadata": {
    "scrolled": false
   },
   "outputs": [
    {
     "data": {
      "text/plain": [
       "20.191528029182596"
      ]
     },
     "execution_count": 62,
     "metadata": {},
     "output_type": "execute_result"
    }
   ],
   "source": [
    "loocv_error = 0\n",
    "for i in range(test_X.shape[0]):\n",
    "    model = LinearRegression().fit(np.delete(train_X, i).reshape(-1, 1), np.delete(train_y.to_list(), i))\n",
    "    loocv_error += ((np.delete(test_y.to_list(), i) - model.predict(np.delete(test_X, i).reshape(-1, 1))) ** 2).mean()\n",
    "loocv_error / train_X.shape[0]"
   ]
  },
  {
   "cell_type": "code",
   "execution_count": 79,
   "metadata": {},
   "outputs": [
    {
     "data": {
      "text/plain": [
       "11.499112188721568"
      ]
     },
     "execution_count": 79,
     "metadata": {},
     "output_type": "execute_result"
    }
   ],
   "source": [
    "loocv_error = 0\n",
    "for i in range(test_X_2.shape[0]):\n",
    "    model = LinearRegression().fit(np.delete(train_X_2, i, axis=0), np.delete(train_y.to_list(), i))\n",
    "    loocv_error += ((np.delete(test_y.to_list(), i) - model.predict(np.delete(test_X_2, i, axis=0))) ** 2).mean()\n",
    "loocv_error / train_X_2.shape[0]"
   ]
  },
  {
   "cell_type": "code",
   "execution_count": 80,
   "metadata": {},
   "outputs": [
    {
     "data": {
      "text/plain": [
       "11.438497535998787"
      ]
     },
     "execution_count": 80,
     "metadata": {},
     "output_type": "execute_result"
    }
   ],
   "source": [
    "loocv_error = 0\n",
    "for i in range(test_X_3.shape[0]):\n",
    "    model = LinearRegression().fit(np.delete(train_X_3, i, axis=0), np.delete(train_y.to_list(), i))\n",
    "    loocv_error += ((np.delete(test_y.to_list(), i) - model.predict(np.delete(test_X_3, i, axis=0))) ** 2).mean()\n",
    "loocv_error / train_X_3.shape[0]"
   ]
  },
  {
   "cell_type": "code",
   "execution_count": 81,
   "metadata": {},
   "outputs": [],
   "source": [
    "from sklearn.model_selection import KFold"
   ]
  },
  {
   "cell_type": "code",
   "execution_count": 97,
   "metadata": {},
   "outputs": [],
   "source": [
    "cv = KFold(10, shuffle=True, random_state=1)"
   ]
  },
  {
   "cell_type": "code",
   "execution_count": 98,
   "metadata": {},
   "outputs": [
    {
     "data": {
      "text/plain": [
       "28.58442114404799"
      ]
     },
     "execution_count": 98,
     "metadata": {},
     "output_type": "execute_result"
    }
   ],
   "source": [
    "cv_error = 0\n",
    "X = train_X\n",
    "y = train_y\n",
    "for train, test in cv.split(X):\n",
    "    model = LinearRegression().fit(X[train], y[train])\n",
    "    cv_error += ((y[test] - model.predict(X[test])) ** 2).mean()\n",
    "cv_error / 10"
   ]
  },
  {
   "cell_type": "code",
   "execution_count": 99,
   "metadata": {},
   "outputs": [
    {
     "data": {
      "text/plain": [
       "23.99543085741586"
      ]
     },
     "execution_count": 99,
     "metadata": {},
     "output_type": "execute_result"
    }
   ],
   "source": [
    "cv_error = 0\n",
    "for train, test in cv.split(X):\n",
    "    model = LinearRegression().fit(train_X_2[train], y[train])\n",
    "    cv_error += ((y[test] - model.predict(train_X_2[test])) ** 2).mean()\n",
    "cv_error / 10"
   ]
  },
  {
   "cell_type": "code",
   "execution_count": 100,
   "metadata": {},
   "outputs": [
    {
     "data": {
      "text/plain": [
       "24.531021279265218"
      ]
     },
     "execution_count": 100,
     "metadata": {},
     "output_type": "execute_result"
    }
   ],
   "source": [
    "cv_error = 0\n",
    "for train, test in cv.split(X):\n",
    "    model = LinearRegression().fit(train_X_3[train], y[train])\n",
    "    cv_error += ((y[test] - model.predict(train_X_3[test])) ** 2).mean()\n",
    "cv_error / 10"
   ]
  },
  {
   "cell_type": "code",
   "execution_count": null,
   "metadata": {},
   "outputs": [],
   "source": [
    "dataset_file = '../datasets/'"
   ]
  }
 ],
 "metadata": {
  "kernelspec": {
   "display_name": "Python 3",
   "language": "python",
   "name": "python3"
  },
  "language_info": {
   "codemirror_mode": {
    "name": "ipython",
    "version": 3
   },
   "file_extension": ".py",
   "mimetype": "text/x-python",
   "name": "python",
   "nbconvert_exporter": "python",
   "pygments_lexer": "ipython3",
   "version": "3.8.2"
  }
 },
 "nbformat": 4,
 "nbformat_minor": 4
}
