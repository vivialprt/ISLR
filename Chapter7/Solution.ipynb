{
 "cells": [
  {
   "cell_type": "code",
   "execution_count": 2,
   "metadata": {},
   "outputs": [],
   "source": [
    "import pandas as pd\n",
    "import numpy as np\n",
    "import matplotlib.pyplot as plt\n",
    "import seaborn as sns\n",
    "\n",
    "%matplotlib inline"
   ]
  },
  {
   "cell_type": "markdown",
   "metadata": {},
   "source": [
    "# Ex. 6"
   ]
  },
  {
   "cell_type": "code",
   "execution_count": 3,
   "metadata": {},
   "outputs": [
    {
     "data": {
      "text/html": [
       "<div>\n",
       "<style scoped>\n",
       "    .dataframe tbody tr th:only-of-type {\n",
       "        vertical-align: middle;\n",
       "    }\n",
       "\n",
       "    .dataframe tbody tr th {\n",
       "        vertical-align: top;\n",
       "    }\n",
       "\n",
       "    .dataframe thead th {\n",
       "        text-align: right;\n",
       "    }\n",
       "</style>\n",
       "<table border=\"1\" class=\"dataframe\">\n",
       "  <thead>\n",
       "    <tr style=\"text-align: right;\">\n",
       "      <th></th>\n",
       "      <th>year</th>\n",
       "      <th>age</th>\n",
       "      <th>maritl</th>\n",
       "      <th>race</th>\n",
       "      <th>education</th>\n",
       "      <th>region</th>\n",
       "      <th>jobclass</th>\n",
       "      <th>health</th>\n",
       "      <th>health_ins</th>\n",
       "      <th>logwage</th>\n",
       "      <th>wage</th>\n",
       "    </tr>\n",
       "  </thead>\n",
       "  <tbody>\n",
       "    <tr>\n",
       "      <th>231655</th>\n",
       "      <td>2006</td>\n",
       "      <td>18</td>\n",
       "      <td>1. Never Married</td>\n",
       "      <td>1. White</td>\n",
       "      <td>1. &lt; HS Grad</td>\n",
       "      <td>2. Middle Atlantic</td>\n",
       "      <td>1. Industrial</td>\n",
       "      <td>1. &lt;=Good</td>\n",
       "      <td>2. No</td>\n",
       "      <td>4.318063</td>\n",
       "      <td>75.043154</td>\n",
       "    </tr>\n",
       "    <tr>\n",
       "      <th>86582</th>\n",
       "      <td>2004</td>\n",
       "      <td>24</td>\n",
       "      <td>1. Never Married</td>\n",
       "      <td>1. White</td>\n",
       "      <td>4. College Grad</td>\n",
       "      <td>2. Middle Atlantic</td>\n",
       "      <td>2. Information</td>\n",
       "      <td>2. &gt;=Very Good</td>\n",
       "      <td>2. No</td>\n",
       "      <td>4.255273</td>\n",
       "      <td>70.476020</td>\n",
       "    </tr>\n",
       "    <tr>\n",
       "      <th>161300</th>\n",
       "      <td>2003</td>\n",
       "      <td>45</td>\n",
       "      <td>2. Married</td>\n",
       "      <td>1. White</td>\n",
       "      <td>3. Some College</td>\n",
       "      <td>2. Middle Atlantic</td>\n",
       "      <td>1. Industrial</td>\n",
       "      <td>1. &lt;=Good</td>\n",
       "      <td>1. Yes</td>\n",
       "      <td>4.875061</td>\n",
       "      <td>130.982177</td>\n",
       "    </tr>\n",
       "    <tr>\n",
       "      <th>155159</th>\n",
       "      <td>2003</td>\n",
       "      <td>43</td>\n",
       "      <td>2. Married</td>\n",
       "      <td>3. Asian</td>\n",
       "      <td>4. College Grad</td>\n",
       "      <td>2. Middle Atlantic</td>\n",
       "      <td>2. Information</td>\n",
       "      <td>2. &gt;=Very Good</td>\n",
       "      <td>1. Yes</td>\n",
       "      <td>5.041393</td>\n",
       "      <td>154.685293</td>\n",
       "    </tr>\n",
       "    <tr>\n",
       "      <th>11443</th>\n",
       "      <td>2005</td>\n",
       "      <td>50</td>\n",
       "      <td>4. Divorced</td>\n",
       "      <td>1. White</td>\n",
       "      <td>2. HS Grad</td>\n",
       "      <td>2. Middle Atlantic</td>\n",
       "      <td>2. Information</td>\n",
       "      <td>1. &lt;=Good</td>\n",
       "      <td>1. Yes</td>\n",
       "      <td>4.318063</td>\n",
       "      <td>75.043154</td>\n",
       "    </tr>\n",
       "  </tbody>\n",
       "</table>\n",
       "</div>"
      ],
      "text/plain": [
       "        year  age            maritl      race        education  \\\n",
       "231655  2006   18  1. Never Married  1. White     1. < HS Grad   \n",
       "86582   2004   24  1. Never Married  1. White  4. College Grad   \n",
       "161300  2003   45        2. Married  1. White  3. Some College   \n",
       "155159  2003   43        2. Married  3. Asian  4. College Grad   \n",
       "11443   2005   50       4. Divorced  1. White       2. HS Grad   \n",
       "\n",
       "                    region        jobclass          health health_ins  \\\n",
       "231655  2. Middle Atlantic   1. Industrial       1. <=Good      2. No   \n",
       "86582   2. Middle Atlantic  2. Information  2. >=Very Good      2. No   \n",
       "161300  2. Middle Atlantic   1. Industrial       1. <=Good     1. Yes   \n",
       "155159  2. Middle Atlantic  2. Information  2. >=Very Good     1. Yes   \n",
       "11443   2. Middle Atlantic  2. Information       1. <=Good     1. Yes   \n",
       "\n",
       "         logwage        wage  \n",
       "231655  4.318063   75.043154  \n",
       "86582   4.255273   70.476020  \n",
       "161300  4.875061  130.982177  \n",
       "155159  5.041393  154.685293  \n",
       "11443   4.318063   75.043154  "
      ]
     },
     "execution_count": 3,
     "metadata": {},
     "output_type": "execute_result"
    }
   ],
   "source": [
    "dataset_file = '../datasets/Wage.csv'\n",
    "data = pd.read_csv(dataset_file, index_col=0)\n",
    "data.head()"
   ]
  },
  {
   "cell_type": "code",
   "execution_count": 4,
   "metadata": {},
   "outputs": [],
   "source": [
    "from sklearn.model_selection import KFold\n",
    "from sklearn.preprocessing import PolynomialFeatures\n",
    "from sklearn.metrics import mean_squared_error\n",
    "import statsmodels.api as sm"
   ]
  },
  {
   "cell_type": "code",
   "execution_count": 5,
   "metadata": {},
   "outputs": [],
   "source": [
    "degrees = np.arange(1, 11)\n",
    "metrics = pd.Series(dtype=np.float64, index=degrees)\n",
    "cv = KFold(n_splits=10, shuffle=True, random_state=1)\n",
    "for degree in degrees:\n",
    "    errors = []\n",
    "    for train, test in cv.split(data):\n",
    "        model = sm.OLS(\n",
    "            data.wage.iloc[train],\n",
    "            PolynomialFeatures(degree=degree).fit_transform(data.age.iloc[train].to_frame())\n",
    "        ).fit()\n",
    "        errors.append(mean_squared_error(\n",
    "            data.wage.iloc[test],\n",
    "            model.predict(PolynomialFeatures(degree=degree).fit_transform(data.age.iloc[test].to_frame()))\n",
    "        ))\n",
    "    metrics.loc[degree] = np.mean(errors)"
   ]
  },
  {
   "cell_type": "code",
   "execution_count": 6,
   "metadata": {},
   "outputs": [
    {
     "data": {
      "image/png": "[encoded data removed]",
      "text/plain": [
       "<Figure size 720x432 with 1 Axes>"
      ]
     },
     "metadata": {
      "needs_background": "light"
     },
     "output_type": "display_data"
    }
   ],
   "source": [
    "plt.figure(figsize=(10,6))\n",
    "plt.plot(metrics.index, metrics, 'o-')\n",
    "best_cv = metrics.idxmin()"
   ]
  },
  {
   "cell_type": "code",
   "execution_count": 7,
   "metadata": {},
   "outputs": [
    {
     "data": {
      "text/html": [
       "<div>\n",
       "<style scoped>\n",
       "    .dataframe tbody tr th:only-of-type {\n",
       "        vertical-align: middle;\n",
       "    }\n",
       "\n",
       "    .dataframe tbody tr th {\n",
       "        vertical-align: top;\n",
       "    }\n",
       "\n",
       "    .dataframe thead th {\n",
       "        text-align: right;\n",
       "    }\n",
       "</style>\n",
       "<table border=\"1\" class=\"dataframe\">\n",
       "  <thead>\n",
       "    <tr style=\"text-align: right;\">\n",
       "      <th></th>\n",
       "      <th>df_resid</th>\n",
       "      <th>ssr</th>\n",
       "      <th>df_diff</th>\n",
       "      <th>ss_diff</th>\n",
       "      <th>F</th>\n",
       "      <th>Pr(&gt;F)</th>\n",
       "    </tr>\n",
       "  </thead>\n",
       "  <tbody>\n",
       "    <tr>\n",
       "      <th>0</th>\n",
       "      <td>2998.0</td>\n",
       "      <td>5.022216e+06</td>\n",
       "      <td>0.0</td>\n",
       "      <td>NaN</td>\n",
       "      <td>NaN</td>\n",
       "      <td>NaN</td>\n",
       "    </tr>\n",
       "    <tr>\n",
       "      <th>1</th>\n",
       "      <td>2997.0</td>\n",
       "      <td>4.793430e+06</td>\n",
       "      <td>1.0</td>\n",
       "      <td>228786.010128</td>\n",
       "      <td>143.518656</td>\n",
       "      <td>2.449930e-32</td>\n",
       "    </tr>\n",
       "    <tr>\n",
       "      <th>2</th>\n",
       "      <td>2996.0</td>\n",
       "      <td>4.777674e+06</td>\n",
       "      <td>1.0</td>\n",
       "      <td>15755.693664</td>\n",
       "      <td>9.883629</td>\n",
       "      <td>1.683872e-03</td>\n",
       "    </tr>\n",
       "    <tr>\n",
       "      <th>3</th>\n",
       "      <td>2995.0</td>\n",
       "      <td>4.771604e+06</td>\n",
       "      <td>1.0</td>\n",
       "      <td>6070.152124</td>\n",
       "      <td>3.807838</td>\n",
       "      <td>5.110636e-02</td>\n",
       "    </tr>\n",
       "    <tr>\n",
       "      <th>4</th>\n",
       "      <td>2994.0</td>\n",
       "      <td>4.770322e+06</td>\n",
       "      <td>1.0</td>\n",
       "      <td>1282.563017</td>\n",
       "      <td>0.804558</td>\n",
       "      <td>3.698061e-01</td>\n",
       "    </tr>\n",
       "    <tr>\n",
       "      <th>5</th>\n",
       "      <td>2993.0</td>\n",
       "      <td>4.766389e+06</td>\n",
       "      <td>1.0</td>\n",
       "      <td>3932.257631</td>\n",
       "      <td>2.466726</td>\n",
       "      <td>1.163856e-01</td>\n",
       "    </tr>\n",
       "    <tr>\n",
       "      <th>6</th>\n",
       "      <td>2993.0</td>\n",
       "      <td>4.764599e+06</td>\n",
       "      <td>-0.0</td>\n",
       "      <td>1790.494628</td>\n",
       "      <td>-inf</td>\n",
       "      <td>NaN</td>\n",
       "    </tr>\n",
       "    <tr>\n",
       "      <th>7</th>\n",
       "      <td>2993.0</td>\n",
       "      <td>4.764136e+06</td>\n",
       "      <td>-0.0</td>\n",
       "      <td>462.435544</td>\n",
       "      <td>-inf</td>\n",
       "      <td>NaN</td>\n",
       "    </tr>\n",
       "    <tr>\n",
       "      <th>8</th>\n",
       "      <td>2993.0</td>\n",
       "      <td>4.764981e+06</td>\n",
       "      <td>-0.0</td>\n",
       "      <td>-844.242937</td>\n",
       "      <td>inf</td>\n",
       "      <td>NaN</td>\n",
       "    </tr>\n",
       "    <tr>\n",
       "      <th>9</th>\n",
       "      <td>2993.0</td>\n",
       "      <td>4.771202e+06</td>\n",
       "      <td>-0.0</td>\n",
       "      <td>-6221.454329</td>\n",
       "      <td>inf</td>\n",
       "      <td>NaN</td>\n",
       "    </tr>\n",
       "  </tbody>\n",
       "</table>\n",
       "</div>"
      ],
      "text/plain": [
       "   df_resid           ssr  df_diff        ss_diff           F        Pr(>F)\n",
       "0    2998.0  5.022216e+06      0.0            NaN         NaN           NaN\n",
       "1    2997.0  4.793430e+06      1.0  228786.010128  143.518656  2.449930e-32\n",
       "2    2996.0  4.777674e+06      1.0   15755.693664    9.883629  1.683872e-03\n",
       "3    2995.0  4.771604e+06      1.0    6070.152124    3.807838  5.110636e-02\n",
       "4    2994.0  4.770322e+06      1.0    1282.563017    0.804558  3.698061e-01\n",
       "5    2993.0  4.766389e+06      1.0    3932.257631    2.466726  1.163856e-01\n",
       "6    2993.0  4.764599e+06     -0.0    1790.494628        -inf           NaN\n",
       "7    2993.0  4.764136e+06     -0.0     462.435544        -inf           NaN\n",
       "8    2993.0  4.764981e+06     -0.0    -844.242937         inf           NaN\n",
       "9    2993.0  4.771202e+06     -0.0   -6221.454329         inf           NaN"
      ]
     },
     "execution_count": 7,
     "metadata": {},
     "output_type": "execute_result"
    }
   ],
   "source": [
    "models = [sm.OLS(data.wage, PolynomialFeatures(degree=degree).fit_transform(data.age.to_frame())).fit() for degree in degrees]\n",
    "sm.stats.anova_lm(*models)"
   ]
  },
  {
   "cell_type": "markdown",
   "metadata": {},
   "source": [
    "ANOVA shows that using models with degree higher than 2 is inefficient, however CV suggests the model of degree 7."
   ]
  },
  {
   "cell_type": "code",
   "execution_count": 8,
   "metadata": {},
   "outputs": [
    {
     "data": {
      "text/plain": [
       "[<matplotlib.lines.Line2D at 0x7f4bd32283a0>]"
      ]
     },
     "execution_count": 8,
     "metadata": {},
     "output_type": "execute_result"
    },
    {
     "data": {
      "image/png": "[encoded data removed]",
      "text/plain": [
       "<Figure size 432x288 with 1 Axes>"
      ]
     },
     "metadata": {
      "needs_background": "light"
     },
     "output_type": "display_data"
    }
   ],
   "source": [
    "model = sm.OLS(data.wage, PolynomialFeatures(degree=best_cv).fit_transform(data.age.to_frame())).fit()\n",
    "plt.plot(data.age, model.predict(PolynomialFeatures(degree=best_cv).fit_transform(data.age.to_frame())), 'o')"
   ]
  },
  {
   "cell_type": "code",
   "execution_count": 9,
   "metadata": {},
   "outputs": [],
   "source": [
    "cuts_nums = np.arange(1, 21)\n",
    "metrics = pd.Series(dtype=np.float64, index=cuts_nums)\n",
    "cv = KFold(n_splits=10, shuffle=True, random_state=1)\n",
    "for cuts_num in cuts_nums:\n",
    "    errors = []\n",
    "    for train, test in cv.split(data):\n",
    "        cut_age_train, bins = pd.cut(data.age.iloc[train], cuts_num, retbins=True)\n",
    "        cut_age_train = pd.get_dummies(cut_age_train).iloc[:, 1:]\n",
    "        cut_age_test = pd.cut(data.age.iloc[test], bins=bins)\n",
    "        cut_age_test = pd.get_dummies(cut_age_test).iloc[:, 1:]\n",
    "        model = sm.OLS(\n",
    "            data.wage.iloc[train],\n",
    "            sm.add_constant(cut_age_train)\n",
    "        ).fit()\n",
    "        errors.append(mean_squared_error(\n",
    "            data.wage.iloc[test],\n",
    "            model.predict(sm.add_constant(cut_age_test))\n",
    "        ))\n",
    "    metrics.loc[cuts_num] = np.mean(errors)"
   ]
  },
  {
   "cell_type": "code",
   "execution_count": 10,
   "metadata": {},
   "outputs": [
    {
     "data": {
      "image/png": "[encoded data removed]",
      "text/plain": [
       "<Figure size 720x432 with 1 Axes>"
      ]
     },
     "metadata": {
      "needs_background": "light"
     },
     "output_type": "display_data"
    }
   ],
   "source": [
    "plt.figure(figsize=(10,6))\n",
    "plt.plot(metrics.index, metrics, 'o-')\n",
    "best_cv = metrics.idxmin()"
   ]
  },
  {
   "cell_type": "code",
   "execution_count": 11,
   "metadata": {},
   "outputs": [
    {
     "data": {
      "text/plain": [
       "[<matplotlib.lines.Line2D at 0x7f4bd30cc730>]"
      ]
     },
     "execution_count": 11,
     "metadata": {},
     "output_type": "execute_result"
    },
    {
     "data": {
      "image/png": "[encoded data removed]",
      "text/plain": [
       "<Figure size 432x288 with 1 Axes>"
      ]
     },
     "metadata": {
      "needs_background": "light"
     },
     "output_type": "display_data"
    }
   ],
   "source": [
    "cut_age = pd.cut(data.age, best_cv)\n",
    "cut_age = pd.get_dummies(cut_age).iloc[:, 1:]\n",
    "model = sm.OLS(data.wage, sm.add_constant(cut_age)).fit()\n",
    "plt.plot(data.age, model.predict(sm.add_constant(cut_age)), 'o')"
   ]
  },
  {
   "cell_type": "markdown",
   "metadata": {},
   "source": [
    "# Ex. 7"
   ]
  },
  {
   "cell_type": "markdown",
   "metadata": {},
   "source": [
    "Categorical variables cannot be transformed."
   ]
  },
  {
   "cell_type": "code",
   "execution_count": 12,
   "metadata": {},
   "outputs": [],
   "source": [
    "maritl = pd.get_dummies(data.maritl).drop(['5. Separated'], axis=1)\n",
    "race = pd.get_dummies(data.race).drop(['4. Other'], axis=1)\n",
    "data['job_industrial'] = data.jobclass.apply(lambda v: 1 if v.startswith('1') else 0)\n",
    "data['health_good'] = data.health.apply(lambda v: 1 if v.startswith('1') else 0)\n",
    "data['health_ins_ok'] = data.health_ins.apply(lambda v: 1 if v.startswith('1') else 0)"
   ]
  },
  {
   "cell_type": "code",
   "execution_count": 13,
   "metadata": {},
   "outputs": [
    {
     "data": {
      "text/plain": [
       "Index(['year', 'age', 'maritl', 'race', 'education', 'region', 'jobclass',\n",
       "       'health', 'health_ins', 'logwage', 'wage', 'job_industrial',\n",
       "       'health_good', 'health_ins_ok'],\n",
       "      dtype='object')"
      ]
     },
     "execution_count": 13,
     "metadata": {},
     "output_type": "execute_result"
    }
   ],
   "source": [
    "data.columns"
   ]
  },
  {
   "cell_type": "code",
   "execution_count": 14,
   "metadata": {},
   "outputs": [
    {
     "data": {
      "image/png": "[encoded data removed]",
      "text/plain": [
       "<Figure size 1080x1080 with 6 Axes>"
      ]
     },
     "metadata": {
      "needs_background": "light"
     },
     "output_type": "display_data"
    }
   ],
   "source": [
    "_, axes = plt.subplots(3, 2, figsize=(15, 15))\n",
    "for i, col in enumerate(['maritl', 'race', 'education', 'jobclass', 'health', 'health_ins']):\n",
    "    sns.boxplot(data[col], data.wage, ax=axes[i//2, i%2])\n"
   ]
  },
  {
   "cell_type": "code",
   "execution_count": 15,
   "metadata": {},
   "outputs": [
    {
     "data": {
      "text/html": [
       "<table class=\"simpletable\">\n",
       "<caption>OLS Regression Results</caption>\n",
       "<tr>\n",
       "  <th>Dep. Variable:</th>          <td>wage</td>       <th>  R-squared:         </th> <td>   0.136</td> \n",
       "</tr>\n",
       "<tr>\n",
       "  <th>Model:</th>                   <td>OLS</td>       <th>  Adj. R-squared:    </th> <td>   0.135</td> \n",
       "</tr>\n",
       "<tr>\n",
       "  <th>Method:</th>             <td>Least Squares</td>  <th>  F-statistic:       </th> <td>   157.2</td> \n",
       "</tr>\n",
       "<tr>\n",
       "  <th>Date:</th>             <td>Sun, 27 Sep 2020</td> <th>  Prob (F-statistic):</th> <td>1.34e-94</td> \n",
       "</tr>\n",
       "<tr>\n",
       "  <th>Time:</th>                 <td>12:33:19</td>     <th>  Log-Likelihood:    </th> <td> -15231.</td> \n",
       "</tr>\n",
       "<tr>\n",
       "  <th>No. Observations:</th>      <td>  3000</td>      <th>  AIC:               </th> <td>3.047e+04</td>\n",
       "</tr>\n",
       "<tr>\n",
       "  <th>Df Residuals:</th>          <td>  2996</td>      <th>  BIC:               </th> <td>3.049e+04</td>\n",
       "</tr>\n",
       "<tr>\n",
       "  <th>Df Model:</th>              <td>     3</td>      <th>                     </th>     <td> </td>    \n",
       "</tr>\n",
       "<tr>\n",
       "  <th>Covariance Type:</th>      <td>nonrobust</td>    <th>                     </th>     <td> </td>    \n",
       "</tr>\n",
       "</table>\n",
       "<table class=\"simpletable\">\n",
       "<tr>\n",
       "         <td></td>           <th>coef</th>     <th>std err</th>      <th>t</th>      <th>P>|t|</th>  <th>[0.025</th>    <th>0.975]</th>  \n",
       "</tr>\n",
       "<tr>\n",
       "  <th>Intercept</th>      <td>  104.3387</td> <td>    1.638</td> <td>   63.705</td> <td> 0.000</td> <td>  101.127</td> <td>  107.550</td>\n",
       "</tr>\n",
       "<tr>\n",
       "  <th>health_good</th>    <td>  -11.1443</td> <td>    1.575</td> <td>   -7.076</td> <td> 0.000</td> <td>  -14.233</td> <td>   -8.056</td>\n",
       "</tr>\n",
       "<tr>\n",
       "  <th>health_ins_ok</th>  <td>   24.9554</td> <td>    1.559</td> <td>   16.008</td> <td> 0.000</td> <td>   21.899</td> <td>   28.012</td>\n",
       "</tr>\n",
       "<tr>\n",
       "  <th>job_industrial</th> <td>  -13.1643</td> <td>    1.436</td> <td>   -9.167</td> <td> 0.000</td> <td>  -15.980</td> <td>  -10.349</td>\n",
       "</tr>\n",
       "</table>\n",
       "<table class=\"simpletable\">\n",
       "<tr>\n",
       "  <th>Omnibus:</th>       <td>1144.569</td> <th>  Durbin-Watson:     </th> <td>   1.959</td>\n",
       "</tr>\n",
       "<tr>\n",
       "  <th>Prob(Omnibus):</th>  <td> 0.000</td>  <th>  Jarque-Bera (JB):  </th> <td>5285.499</td>\n",
       "</tr>\n",
       "<tr>\n",
       "  <th>Skew:</th>           <td> 1.798</td>  <th>  Prob(JB):          </th> <td>    0.00</td>\n",
       "</tr>\n",
       "<tr>\n",
       "  <th>Kurtosis:</th>       <td> 8.418</td>  <th>  Cond. No.          </th> <td>    4.40</td>\n",
       "</tr>\n",
       "</table><br/><br/>Notes:<br/>[1] Standard Errors assume that the covariance matrix of the errors is correctly specified."
      ],
      "text/plain": [
       "<class 'statsmodels.iolib.summary.Summary'>\n",
       "\"\"\"\n",
       "                            OLS Regression Results                            \n",
       "==============================================================================\n",
       "Dep. Variable:                   wage   R-squared:                       0.136\n",
       "Model:                            OLS   Adj. R-squared:                  0.135\n",
       "Method:                 Least Squares   F-statistic:                     157.2\n",
       "Date:                Sun, 27 Sep 2020   Prob (F-statistic):           1.34e-94\n",
       "Time:                        12:33:19   Log-Likelihood:                -15231.\n",
       "No. Observations:                3000   AIC:                         3.047e+04\n",
       "Df Residuals:                    2996   BIC:                         3.049e+04\n",
       "Df Model:                           3                                         \n",
       "Covariance Type:            nonrobust                                         \n",
       "==================================================================================\n",
       "                     coef    std err          t      P>|t|      [0.025      0.975]\n",
       "----------------------------------------------------------------------------------\n",
       "Intercept        104.3387      1.638     63.705      0.000     101.127     107.550\n",
       "health_good      -11.1443      1.575     -7.076      0.000     -14.233      -8.056\n",
       "health_ins_ok     24.9554      1.559     16.008      0.000      21.899      28.012\n",
       "job_industrial   -13.1643      1.436     -9.167      0.000     -15.980     -10.349\n",
       "==============================================================================\n",
       "Omnibus:                     1144.569   Durbin-Watson:                   1.959\n",
       "Prob(Omnibus):                  0.000   Jarque-Bera (JB):             5285.499\n",
       "Skew:                           1.798   Prob(JB):                         0.00\n",
       "Kurtosis:                       8.418   Cond. No.                         4.40\n",
       "==============================================================================\n",
       "\n",
       "Notes:\n",
       "[1] Standard Errors assume that the covariance matrix of the errors is correctly specified.\n",
       "\"\"\""
      ]
     },
     "execution_count": 15,
     "metadata": {},
     "output_type": "execute_result"
    }
   ],
   "source": [
    "model = sm.OLS.from_formula('wage ~ health_good + health_ins_ok + job_industrial', data).fit()\n",
    "model.summary()"
   ]
  },
  {
   "cell_type": "code",
   "execution_count": 16,
   "metadata": {},
   "outputs": [
    {
     "data": {
      "text/html": [
       "<table class=\"simpletable\">\n",
       "<caption>OLS Regression Results</caption>\n",
       "<tr>\n",
       "  <th>Dep. Variable:</th>          <td>wage</td>       <th>  R-squared:         </th> <td>   0.070</td> \n",
       "</tr>\n",
       "<tr>\n",
       "  <th>Model:</th>                   <td>OLS</td>       <th>  Adj. R-squared:    </th> <td>   0.068</td> \n",
       "</tr>\n",
       "<tr>\n",
       "  <th>Method:</th>             <td>Least Squares</td>  <th>  F-statistic:       </th> <td>   55.96</td> \n",
       "</tr>\n",
       "<tr>\n",
       "  <th>Date:</th>             <td>Sun, 27 Sep 2020</td> <th>  Prob (F-statistic):</th> <td>1.40e-45</td> \n",
       "</tr>\n",
       "<tr>\n",
       "  <th>Time:</th>                 <td>12:33:19</td>     <th>  Log-Likelihood:    </th> <td> -15342.</td> \n",
       "</tr>\n",
       "<tr>\n",
       "  <th>No. Observations:</th>      <td>  3000</td>      <th>  AIC:               </th> <td>3.069e+04</td>\n",
       "</tr>\n",
       "<tr>\n",
       "  <th>Df Residuals:</th>          <td>  2995</td>      <th>  BIC:               </th> <td>3.072e+04</td>\n",
       "</tr>\n",
       "<tr>\n",
       "  <th>Df Model:</th>              <td>     4</td>      <th>                     </th>     <td> </td>    \n",
       "</tr>\n",
       "<tr>\n",
       "  <th>Covariance Type:</th>      <td>nonrobust</td>    <th>                     </th>     <td> </td>    \n",
       "</tr>\n",
       "</table>\n",
       "<table class=\"simpletable\">\n",
       "<tr>\n",
       "          <td></td>            <th>coef</th>     <th>std err</th>      <th>t</th>      <th>P>|t|</th>  <th>[0.025</th>    <th>0.975]</th>  \n",
       "</tr>\n",
       "<tr>\n",
       "  <th>const</th>            <td>  101.2158</td> <td>    5.431</td> <td>   18.636</td> <td> 0.000</td> <td>   90.567</td> <td>  111.865</td>\n",
       "</tr>\n",
       "<tr>\n",
       "  <th>1. Never Married</th> <td>   -8.4811</td> <td>    5.657</td> <td>   -1.499</td> <td> 0.134</td> <td>  -19.573</td> <td>    2.611</td>\n",
       "</tr>\n",
       "<tr>\n",
       "  <th>2. Married</th>       <td>   17.6445</td> <td>    5.503</td> <td>    3.207</td> <td> 0.001</td> <td>    6.855</td> <td>   28.434</td>\n",
       "</tr>\n",
       "<tr>\n",
       "  <th>3. Widowed</th>       <td>   -1.6771</td> <td>   10.718</td> <td>   -0.156</td> <td> 0.876</td> <td>  -22.693</td> <td>   19.339</td>\n",
       "</tr>\n",
       "<tr>\n",
       "  <th>4. Divorced</th>      <td>    1.9435</td> <td>    6.120</td> <td>    0.318</td> <td> 0.751</td> <td>  -10.056</td> <td>   13.943</td>\n",
       "</tr>\n",
       "</table>\n",
       "<table class=\"simpletable\">\n",
       "<tr>\n",
       "  <th>Omnibus:</th>       <td>1092.638</td> <th>  Durbin-Watson:     </th> <td>   1.964</td>\n",
       "</tr>\n",
       "<tr>\n",
       "  <th>Prob(Omnibus):</th>  <td> 0.000</td>  <th>  Jarque-Bera (JB):  </th> <td>4899.270</td>\n",
       "</tr>\n",
       "<tr>\n",
       "  <th>Skew:</th>           <td> 1.716</td>  <th>  Prob(JB):          </th> <td>    0.00</td>\n",
       "</tr>\n",
       "<tr>\n",
       "  <th>Kurtosis:</th>       <td> 8.236</td>  <th>  Cond. No.          </th> <td>    22.7</td>\n",
       "</tr>\n",
       "</table><br/><br/>Notes:<br/>[1] Standard Errors assume that the covariance matrix of the errors is correctly specified."
      ],
      "text/plain": [
       "<class 'statsmodels.iolib.summary.Summary'>\n",
       "\"\"\"\n",
       "                            OLS Regression Results                            \n",
       "==============================================================================\n",
       "Dep. Variable:                   wage   R-squared:                       0.070\n",
       "Model:                            OLS   Adj. R-squared:                  0.068\n",
       "Method:                 Least Squares   F-statistic:                     55.96\n",
       "Date:                Sun, 27 Sep 2020   Prob (F-statistic):           1.40e-45\n",
       "Time:                        12:33:19   Log-Likelihood:                -15342.\n",
       "No. Observations:                3000   AIC:                         3.069e+04\n",
       "Df Residuals:                    2995   BIC:                         3.072e+04\n",
       "Df Model:                           4                                         \n",
       "Covariance Type:            nonrobust                                         \n",
       "====================================================================================\n",
       "                       coef    std err          t      P>|t|      [0.025      0.975]\n",
       "------------------------------------------------------------------------------------\n",
       "const              101.2158      5.431     18.636      0.000      90.567     111.865\n",
       "1. Never Married    -8.4811      5.657     -1.499      0.134     -19.573       2.611\n",
       "2. Married          17.6445      5.503      3.207      0.001       6.855      28.434\n",
       "3. Widowed          -1.6771     10.718     -0.156      0.876     -22.693      19.339\n",
       "4. Divorced          1.9435      6.120      0.318      0.751     -10.056      13.943\n",
       "==============================================================================\n",
       "Omnibus:                     1092.638   Durbin-Watson:                   1.964\n",
       "Prob(Omnibus):                  0.000   Jarque-Bera (JB):             4899.270\n",
       "Skew:                           1.716   Prob(JB):                         0.00\n",
       "Kurtosis:                       8.236   Cond. No.                         22.7\n",
       "==============================================================================\n",
       "\n",
       "Notes:\n",
       "[1] Standard Errors assume that the covariance matrix of the errors is correctly specified.\n",
       "\"\"\""
      ]
     },
     "execution_count": 16,
     "metadata": {},
     "output_type": "execute_result"
    }
   ],
   "source": [
    "model = sm.OLS(data.wage, sm.add_constant(maritl)).fit()\n",
    "model.summary()"
   ]
  },
  {
   "cell_type": "code",
   "execution_count": 17,
   "metadata": {},
   "outputs": [
    {
     "data": {
      "text/html": [
       "<table class=\"simpletable\">\n",
       "<caption>OLS Regression Results</caption>\n",
       "<tr>\n",
       "  <th>Dep. Variable:</th>          <td>wage</td>       <th>  R-squared:         </th> <td>   0.190</td> \n",
       "</tr>\n",
       "<tr>\n",
       "  <th>Model:</th>                   <td>OLS</td>       <th>  Adj. R-squared:    </th> <td>   0.188</td> \n",
       "</tr>\n",
       "<tr>\n",
       "  <th>Method:</th>             <td>Least Squares</td>  <th>  F-statistic:       </th> <td>   100.1</td> \n",
       "</tr>\n",
       "<tr>\n",
       "  <th>Date:</th>             <td>Sun, 27 Sep 2020</td> <th>  Prob (F-statistic):</th> <td>8.80e-132</td>\n",
       "</tr>\n",
       "<tr>\n",
       "  <th>Time:</th>                 <td>12:33:20</td>     <th>  Log-Likelihood:    </th> <td> -15134.</td> \n",
       "</tr>\n",
       "<tr>\n",
       "  <th>No. Observations:</th>      <td>  3000</td>      <th>  AIC:               </th> <td>3.028e+04</td>\n",
       "</tr>\n",
       "<tr>\n",
       "  <th>Df Residuals:</th>          <td>  2992</td>      <th>  BIC:               </th> <td>3.033e+04</td>\n",
       "</tr>\n",
       "<tr>\n",
       "  <th>Df Model:</th>              <td>     7</td>      <th>                     </th>     <td> </td>    \n",
       "</tr>\n",
       "<tr>\n",
       "  <th>Covariance Type:</th>      <td>nonrobust</td>    <th>                     </th>     <td> </td>    \n",
       "</tr>\n",
       "</table>\n",
       "<table class=\"simpletable\">\n",
       "<tr>\n",
       "          <td></td>            <th>coef</th>     <th>std err</th>      <th>t</th>      <th>P>|t|</th>  <th>[0.025</th>    <th>0.975]</th>  \n",
       "</tr>\n",
       "<tr>\n",
       "  <th>const</th>            <td>   95.9411</td> <td>    5.248</td> <td>   18.282</td> <td> 0.000</td> <td>   85.651</td> <td>  106.231</td>\n",
       "</tr>\n",
       "<tr>\n",
       "  <th>health_good</th>      <td>  -10.6754</td> <td>    1.530</td> <td>   -6.979</td> <td> 0.000</td> <td>  -13.675</td> <td>   -7.676</td>\n",
       "</tr>\n",
       "<tr>\n",
       "  <th>health_ins_ok</th>    <td>   23.2482</td> <td>    1.518</td> <td>   15.316</td> <td> 0.000</td> <td>   20.272</td> <td>   26.224</td>\n",
       "</tr>\n",
       "<tr>\n",
       "  <th>job_industrial</th>   <td>  -12.7471</td> <td>    1.392</td> <td>   -9.155</td> <td> 0.000</td> <td>  -15.477</td> <td>  -10.017</td>\n",
       "</tr>\n",
       "<tr>\n",
       "  <th>1. Never Married</th> <td>   -7.2909</td> <td>    5.283</td> <td>   -1.380</td> <td> 0.168</td> <td>  -17.650</td> <td>    3.068</td>\n",
       "</tr>\n",
       "<tr>\n",
       "  <th>2. Married</th>       <td>   15.5921</td> <td>    5.140</td> <td>    3.033</td> <td> 0.002</td> <td>    5.514</td> <td>   25.670</td>\n",
       "</tr>\n",
       "<tr>\n",
       "  <th>3. Widowed</th>       <td>   -1.5489</td> <td>   10.012</td> <td>   -0.155</td> <td> 0.877</td> <td>  -21.179</td> <td>   18.081</td>\n",
       "</tr>\n",
       "<tr>\n",
       "  <th>4. Divorced</th>      <td>    0.5800</td> <td>    5.717</td> <td>    0.101</td> <td> 0.919</td> <td>  -10.630</td> <td>   11.790</td>\n",
       "</tr>\n",
       "</table>\n",
       "<table class=\"simpletable\">\n",
       "<tr>\n",
       "  <th>Omnibus:</th>       <td>1170.911</td> <th>  Durbin-Watson:     </th> <td>   1.951</td>\n",
       "</tr>\n",
       "<tr>\n",
       "  <th>Prob(Omnibus):</th>  <td> 0.000</td>  <th>  Jarque-Bera (JB):  </th> <td>5804.546</td>\n",
       "</tr>\n",
       "<tr>\n",
       "  <th>Skew:</th>           <td> 1.817</td>  <th>  Prob(JB):          </th> <td>    0.00</td>\n",
       "</tr>\n",
       "<tr>\n",
       "  <th>Kurtosis:</th>       <td> 8.765</td>  <th>  Cond. No.          </th> <td>    28.4</td>\n",
       "</tr>\n",
       "</table><br/><br/>Notes:<br/>[1] Standard Errors assume that the covariance matrix of the errors is correctly specified."
      ],
      "text/plain": [
       "<class 'statsmodels.iolib.summary.Summary'>\n",
       "\"\"\"\n",
       "                            OLS Regression Results                            \n",
       "==============================================================================\n",
       "Dep. Variable:                   wage   R-squared:                       0.190\n",
       "Model:                            OLS   Adj. R-squared:                  0.188\n",
       "Method:                 Least Squares   F-statistic:                     100.1\n",
       "Date:                Sun, 27 Sep 2020   Prob (F-statistic):          8.80e-132\n",
       "Time:                        12:33:20   Log-Likelihood:                -15134.\n",
       "No. Observations:                3000   AIC:                         3.028e+04\n",
       "Df Residuals:                    2992   BIC:                         3.033e+04\n",
       "Df Model:                           7                                         \n",
       "Covariance Type:            nonrobust                                         \n",
       "====================================================================================\n",
       "                       coef    std err          t      P>|t|      [0.025      0.975]\n",
       "------------------------------------------------------------------------------------\n",
       "const               95.9411      5.248     18.282      0.000      85.651     106.231\n",
       "health_good        -10.6754      1.530     -6.979      0.000     -13.675      -7.676\n",
       "health_ins_ok       23.2482      1.518     15.316      0.000      20.272      26.224\n",
       "job_industrial     -12.7471      1.392     -9.155      0.000     -15.477     -10.017\n",
       "1. Never Married    -7.2909      5.283     -1.380      0.168     -17.650       3.068\n",
       "2. Married          15.5921      5.140      3.033      0.002       5.514      25.670\n",
       "3. Widowed          -1.5489     10.012     -0.155      0.877     -21.179      18.081\n",
       "4. Divorced          0.5800      5.717      0.101      0.919     -10.630      11.790\n",
       "==============================================================================\n",
       "Omnibus:                     1170.911   Durbin-Watson:                   1.951\n",
       "Prob(Omnibus):                  0.000   Jarque-Bera (JB):             5804.546\n",
       "Skew:                           1.817   Prob(JB):                         0.00\n",
       "Kurtosis:                       8.765   Cond. No.                         28.4\n",
       "==============================================================================\n",
       "\n",
       "Notes:\n",
       "[1] Standard Errors assume that the covariance matrix of the errors is correctly specified.\n",
       "\"\"\""
      ]
     },
     "execution_count": 17,
     "metadata": {},
     "output_type": "execute_result"
    }
   ],
   "source": [
    "model = sm.OLS(data.wage, sm.add_constant(pd.concat([data[['health_good', 'health_ins_ok', 'job_industrial']], maritl], axis=1))).fit()\n",
    "model.summary()"
   ]
  },
  {
   "cell_type": "markdown",
   "metadata": {},
   "source": [
    "It's seen that considered variables don't explain much variance in `wage`."
   ]
  },
  {
   "cell_type": "markdown",
   "metadata": {},
   "source": [
    "# Ex. 8"
   ]
  },
  {
   "cell_type": "code",
   "execution_count": 18,
   "metadata": {},
   "outputs": [
    {
     "name": "stderr",
     "output_type": "stream",
     "text": [
      "/home/ivan2/projects/ISLR/venv/lib/python3.8/site-packages/pandas/core/computation/expressions.py:68: FutureWarning: elementwise comparison failed; returning scalar instead, but in the future will perform elementwise comparison\n",
      "  return op(a, b)\n"
     ]
    },
    {
     "data": {
      "text/html": [
       "<div>\n",
       "<style scoped>\n",
       "    .dataframe tbody tr th:only-of-type {\n",
       "        vertical-align: middle;\n",
       "    }\n",
       "\n",
       "    .dataframe tbody tr th {\n",
       "        vertical-align: top;\n",
       "    }\n",
       "\n",
       "    .dataframe thead th {\n",
       "        text-align: right;\n",
       "    }\n",
       "</style>\n",
       "<table border=\"1\" class=\"dataframe\">\n",
       "  <thead>\n",
       "    <tr style=\"text-align: right;\">\n",
       "      <th></th>\n",
       "      <th>mpg</th>\n",
       "      <th>cylinders</th>\n",
       "      <th>displacement</th>\n",
       "      <th>horsepower</th>\n",
       "      <th>weight</th>\n",
       "      <th>acceleration</th>\n",
       "      <th>year</th>\n",
       "      <th>origin</th>\n",
       "      <th>name</th>\n",
       "    </tr>\n",
       "  </thead>\n",
       "  <tbody>\n",
       "    <tr>\n",
       "      <th>0</th>\n",
       "      <td>18.0</td>\n",
       "      <td>8</td>\n",
       "      <td>307.0</td>\n",
       "      <td>130</td>\n",
       "      <td>3504</td>\n",
       "      <td>12.0</td>\n",
       "      <td>70</td>\n",
       "      <td>1</td>\n",
       "      <td>chevrolet chevelle malibu</td>\n",
       "    </tr>\n",
       "    <tr>\n",
       "      <th>1</th>\n",
       "      <td>15.0</td>\n",
       "      <td>8</td>\n",
       "      <td>350.0</td>\n",
       "      <td>165</td>\n",
       "      <td>3693</td>\n",
       "      <td>11.5</td>\n",
       "      <td>70</td>\n",
       "      <td>1</td>\n",
       "      <td>buick skylark 320</td>\n",
       "    </tr>\n",
       "    <tr>\n",
       "      <th>2</th>\n",
       "      <td>18.0</td>\n",
       "      <td>8</td>\n",
       "      <td>318.0</td>\n",
       "      <td>150</td>\n",
       "      <td>3436</td>\n",
       "      <td>11.0</td>\n",
       "      <td>70</td>\n",
       "      <td>1</td>\n",
       "      <td>plymouth satellite</td>\n",
       "    </tr>\n",
       "    <tr>\n",
       "      <th>3</th>\n",
       "      <td>16.0</td>\n",
       "      <td>8</td>\n",
       "      <td>304.0</td>\n",
       "      <td>150</td>\n",
       "      <td>3433</td>\n",
       "      <td>12.0</td>\n",
       "      <td>70</td>\n",
       "      <td>1</td>\n",
       "      <td>amc rebel sst</td>\n",
       "    </tr>\n",
       "    <tr>\n",
       "      <th>4</th>\n",
       "      <td>17.0</td>\n",
       "      <td>8</td>\n",
       "      <td>302.0</td>\n",
       "      <td>140</td>\n",
       "      <td>3449</td>\n",
       "      <td>10.5</td>\n",
       "      <td>70</td>\n",
       "      <td>1</td>\n",
       "      <td>ford torino</td>\n",
       "    </tr>\n",
       "  </tbody>\n",
       "</table>\n",
       "</div>"
      ],
      "text/plain": [
       "    mpg  cylinders  displacement  horsepower  weight  acceleration  year  \\\n",
       "0  18.0          8         307.0         130    3504          12.0    70   \n",
       "1  15.0          8         350.0         165    3693          11.5    70   \n",
       "2  18.0          8         318.0         150    3436          11.0    70   \n",
       "3  16.0          8         304.0         150    3433          12.0    70   \n",
       "4  17.0          8         302.0         140    3449          10.5    70   \n",
       "\n",
       "   origin                       name  \n",
       "0       1  chevrolet chevelle malibu  \n",
       "1       1          buick skylark 320  \n",
       "2       1         plymouth satellite  \n",
       "3       1              amc rebel sst  \n",
       "4       1                ford torino  "
      ]
     },
     "execution_count": 18,
     "metadata": {},
     "output_type": "execute_result"
    }
   ],
   "source": [
    "dataset_file = '../datasets/Auto.csv'\n",
    "data = pd.read_csv(dataset_file)\n",
    "data = data.loc[data.horsepower != '?']\n",
    "data.horsepower = data.horsepower.apply(int)\n",
    "data.head()"
   ]
  },
  {
   "cell_type": "code",
   "execution_count": 19,
   "metadata": {},
   "outputs": [
    {
     "data": {
      "text/plain": [
       "Text(0.5, 1.0, 'Horsepower. Best: 5')"
      ]
     },
     "execution_count": 19,
     "metadata": {},
     "output_type": "execute_result"
    },
    {
     "data": {
      "image/png": "[encoded data removed]",
      "text/plain": [
       "<Figure size 720x432 with 1 Axes>"
      ]
     },
     "metadata": {
      "needs_background": "light"
     },
     "output_type": "display_data"
    }
   ],
   "source": [
    "degrees = np.arange(1, 11)\n",
    "metrics = pd.Series(dtype=np.float64, index=degrees)\n",
    "cv = KFold(n_splits=10, shuffle=True, random_state=1)\n",
    "for degree in degrees:\n",
    "    errors = []\n",
    "    for train, test in cv.split(data):\n",
    "        model = sm.OLS(\n",
    "            data.mpg.iloc[train],\n",
    "            PolynomialFeatures(degree=degree).fit_transform(data.horsepower.iloc[train].to_frame())\n",
    "        ).fit()\n",
    "        errors.append(mean_squared_error(\n",
    "            data.mpg.iloc[test],\n",
    "            model.predict(PolynomialFeatures(degree=degree).fit_transform(data.horsepower.iloc[test].to_frame()))\n",
    "        ))\n",
    "    metrics.loc[degree] = np.mean(errors)\n",
    "\n",
    "plt.figure(figsize=(10,6))\n",
    "plt.plot(metrics.index, metrics, 'o-')\n",
    "best_cv = metrics.idxmin()\n",
    "plt.title(f'Horsepower. Best: {best_cv}')"
   ]
  },
  {
   "cell_type": "code",
   "execution_count": 20,
   "metadata": {},
   "outputs": [
    {
     "data": {
      "text/plain": [
       "Text(0.5, 1.0, 'Displacement. Best: 6')"
      ]
     },
     "execution_count": 20,
     "metadata": {},
     "output_type": "execute_result"
    },
    {
     "data": {
      "image/png": "[encoded data removed]",
      "text/plain": [
       "<Figure size 720x432 with 1 Axes>"
      ]
     },
     "metadata": {
      "needs_background": "light"
     },
     "output_type": "display_data"
    }
   ],
   "source": [
    "degrees = np.arange(1, 11)\n",
    "metrics = pd.Series(dtype=np.float64, index=degrees)\n",
    "cv = KFold(n_splits=10, shuffle=True, random_state=1)\n",
    "for degree in degrees:\n",
    "    errors = []\n",
    "    for train, test in cv.split(data):\n",
    "        model = sm.OLS(\n",
    "            data.mpg.iloc[train],\n",
    "            PolynomialFeatures(degree=degree).fit_transform(data.displacement.iloc[train].to_frame())\n",
    "        ).fit()\n",
    "        errors.append(mean_squared_error(\n",
    "            data.mpg.iloc[test],\n",
    "            model.predict(PolynomialFeatures(degree=degree).fit_transform(data.displacement.iloc[test].to_frame()))\n",
    "        ))\n",
    "    metrics.loc[degree] = np.mean(errors)\n",
    "\n",
    "plt.figure(figsize=(10,6))\n",
    "plt.plot(metrics.index, metrics, 'o-')\n",
    "best_cv = metrics.idxmin()\n",
    "plt.title(f'Displacement. Best: {best_cv}')"
   ]
  },
  {
   "cell_type": "code",
   "execution_count": 21,
   "metadata": {},
   "outputs": [
    {
     "data": {
      "text/plain": [
       "Text(0.5, 1.0, 'Horsepower. Best: 15')"
      ]
     },
     "execution_count": 21,
     "metadata": {},
     "output_type": "execute_result"
    },
    {
     "data": {
      "image/png": "[encoded data removed]",
      "text/plain": [
       "<Figure size 720x432 with 1 Axes>"
      ]
     },
     "metadata": {
      "needs_background": "light"
     },
     "output_type": "display_data"
    }
   ],
   "source": [
    "cuts_nums = np.arange(1, 21)\n",
    "metrics = pd.Series(dtype=np.float64, index=cuts_nums)\n",
    "cv = KFold(n_splits=10, shuffle=True, random_state=1)\n",
    "for cuts_num in cuts_nums:\n",
    "    errors = []\n",
    "    for train, test in cv.split(data):\n",
    "        cut_horsepower_train, bins = pd.cut(data.horsepower.iloc[train], cuts_num, retbins=True)\n",
    "        cut_horsepower_train = pd.get_dummies(cut_horsepower_train).iloc[:, 1:]\n",
    "        cut_horsepower_test = pd.cut(data.horsepower.iloc[test], bins=bins)\n",
    "        cut_horsepower_test = pd.get_dummies(cut_horsepower_test).iloc[:, 1:]\n",
    "        model = sm.OLS(\n",
    "            data.mpg.iloc[train],\n",
    "            sm.add_constant(cut_horsepower_train)\n",
    "        ).fit()\n",
    "        errors.append(mean_squared_error(\n",
    "            data.mpg.iloc[test],\n",
    "            model.predict(sm.add_constant(cut_horsepower_test))\n",
    "        ))\n",
    "    metrics.loc[cuts_num] = np.mean(errors)\n",
    "\n",
    "plt.figure(figsize=(10,6))\n",
    "plt.plot(metrics.index, metrics, 'o-')\n",
    "best_cv = metrics.idxmin()\n",
    "plt.title(f'Horsepower. Best: {best_cv}')"
   ]
  },
  {
   "cell_type": "code",
   "execution_count": 22,
   "metadata": {},
   "outputs": [
    {
     "data": {
      "text/plain": [
       "Text(0.5, 1.0, 'Displacement. Best: 9')"
      ]
     },
     "execution_count": 22,
     "metadata": {},
     "output_type": "execute_result"
    },
    {
     "data": {
      "image/png": "[encoded data removed]",
      "text/plain": [
       "<Figure size 720x432 with 1 Axes>"
      ]
     },
     "metadata": {
      "needs_background": "light"
     },
     "output_type": "display_data"
    }
   ],
   "source": [
    "cuts_nums = np.arange(1, 21)\n",
    "metrics = pd.Series(dtype=np.float64, index=cuts_nums)\n",
    "cv = KFold(n_splits=10, shuffle=True, random_state=1)\n",
    "for cuts_num in cuts_nums:\n",
    "    errors = []\n",
    "    for train, test in cv.split(data):\n",
    "        cut_displacement_train, bins = pd.cut(data.displacement.iloc[train], cuts_num, retbins=True)\n",
    "        cut_displacement_train = pd.get_dummies(cut_displacement_train).iloc[:, 1:]\n",
    "        cut_displacement_test = pd.cut(data.displacement.iloc[test], bins=bins)\n",
    "        cut_displacement_test = pd.get_dummies(cut_displacement_test).iloc[:, 1:]\n",
    "        model = sm.OLS(\n",
    "            data.mpg.iloc[train],\n",
    "            sm.add_constant(cut_displacement_train)\n",
    "        ).fit()\n",
    "        errors.append(mean_squared_error(\n",
    "            data.mpg.iloc[test],\n",
    "            model.predict(sm.add_constant(cut_displacement_test))\n",
    "        ))\n",
    "    metrics.loc[cuts_num] = np.mean(errors)\n",
    "\n",
    "plt.figure(figsize=(10,6))\n",
    "plt.plot(metrics.index, metrics, 'o-')\n",
    "best_cv = metrics.idxmin()\n",
    "plt.title(f'Displacement. Best: {best_cv}')"
   ]
  },
  {
   "cell_type": "code",
   "execution_count": 23,
   "metadata": {},
   "outputs": [
    {
     "data": {
      "text/html": [
       "<div>\n",
       "<style scoped>\n",
       "    .dataframe tbody tr th:only-of-type {\n",
       "        vertical-align: middle;\n",
       "    }\n",
       "\n",
       "    .dataframe tbody tr th {\n",
       "        vertical-align: top;\n",
       "    }\n",
       "\n",
       "    .dataframe thead th {\n",
       "        text-align: right;\n",
       "    }\n",
       "</style>\n",
       "<table border=\"1\" class=\"dataframe\">\n",
       "  <thead>\n",
       "    <tr style=\"text-align: right;\">\n",
       "      <th></th>\n",
       "      <th>df_resid</th>\n",
       "      <th>ssr</th>\n",
       "      <th>df_diff</th>\n",
       "      <th>ss_diff</th>\n",
       "      <th>F</th>\n",
       "      <th>Pr(&gt;F)</th>\n",
       "    </tr>\n",
       "  </thead>\n",
       "  <tbody>\n",
       "    <tr>\n",
       "      <th>0</th>\n",
       "      <td>390.0</td>\n",
       "      <td>9385.915872</td>\n",
       "      <td>0.0</td>\n",
       "      <td>NaN</td>\n",
       "      <td>NaN</td>\n",
       "      <td>NaN</td>\n",
       "    </tr>\n",
       "    <tr>\n",
       "      <th>1</th>\n",
       "      <td>389.0</td>\n",
       "      <td>7442.029412</td>\n",
       "      <td>1.0</td>\n",
       "      <td>1943.886460</td>\n",
       "      <td>29.990522</td>\n",
       "      <td>7.805492e-08</td>\n",
       "    </tr>\n",
       "    <tr>\n",
       "      <th>2</th>\n",
       "      <td>388.0</td>\n",
       "      <td>7426.436007</td>\n",
       "      <td>1.0</td>\n",
       "      <td>15.593405</td>\n",
       "      <td>0.240577</td>\n",
       "      <td>6.240670e-01</td>\n",
       "    </tr>\n",
       "    <tr>\n",
       "      <th>3</th>\n",
       "      <td>387.0</td>\n",
       "      <td>7399.522632</td>\n",
       "      <td>1.0</td>\n",
       "      <td>26.913375</td>\n",
       "      <td>0.415223</td>\n",
       "      <td>5.197121e-01</td>\n",
       "    </tr>\n",
       "    <tr>\n",
       "      <th>4</th>\n",
       "      <td>386.0</td>\n",
       "      <td>7223.371686</td>\n",
       "      <td>1.0</td>\n",
       "      <td>176.150946</td>\n",
       "      <td>2.717679</td>\n",
       "      <td>1.000559e-01</td>\n",
       "    </tr>\n",
       "    <tr>\n",
       "      <th>5</th>\n",
       "      <td>386.0</td>\n",
       "      <td>7246.195755</td>\n",
       "      <td>-0.0</td>\n",
       "      <td>-22.824069</td>\n",
       "      <td>inf</td>\n",
       "      <td>NaN</td>\n",
       "    </tr>\n",
       "    <tr>\n",
       "      <th>6</th>\n",
       "      <td>386.0</td>\n",
       "      <td>7241.389336</td>\n",
       "      <td>-0.0</td>\n",
       "      <td>4.806420</td>\n",
       "      <td>-inf</td>\n",
       "      <td>NaN</td>\n",
       "    </tr>\n",
       "    <tr>\n",
       "      <th>7</th>\n",
       "      <td>386.0</td>\n",
       "      <td>8594.594026</td>\n",
       "      <td>-0.0</td>\n",
       "      <td>-1353.204690</td>\n",
       "      <td>inf</td>\n",
       "      <td>NaN</td>\n",
       "    </tr>\n",
       "    <tr>\n",
       "      <th>8</th>\n",
       "      <td>386.0</td>\n",
       "      <td>13700.101049</td>\n",
       "      <td>-0.0</td>\n",
       "      <td>-5105.507023</td>\n",
       "      <td>inf</td>\n",
       "      <td>NaN</td>\n",
       "    </tr>\n",
       "    <tr>\n",
       "      <th>9</th>\n",
       "      <td>387.0</td>\n",
       "      <td>25084.060284</td>\n",
       "      <td>-1.0</td>\n",
       "      <td>-11383.959235</td>\n",
       "      <td>175.633138</td>\n",
       "      <td>NaN</td>\n",
       "    </tr>\n",
       "  </tbody>\n",
       "</table>\n",
       "</div>"
      ],
      "text/plain": [
       "   df_resid           ssr  df_diff       ss_diff           F        Pr(>F)\n",
       "0     390.0   9385.915872      0.0           NaN         NaN           NaN\n",
       "1     389.0   7442.029412      1.0   1943.886460   29.990522  7.805492e-08\n",
       "2     388.0   7426.436007      1.0     15.593405    0.240577  6.240670e-01\n",
       "3     387.0   7399.522632      1.0     26.913375    0.415223  5.197121e-01\n",
       "4     386.0   7223.371686      1.0    176.150946    2.717679  1.000559e-01\n",
       "5     386.0   7246.195755     -0.0    -22.824069         inf           NaN\n",
       "6     386.0   7241.389336     -0.0      4.806420        -inf           NaN\n",
       "7     386.0   8594.594026     -0.0  -1353.204690         inf           NaN\n",
       "8     386.0  13700.101049     -0.0  -5105.507023         inf           NaN\n",
       "9     387.0  25084.060284     -1.0 -11383.959235  175.633138           NaN"
      ]
     },
     "execution_count": 23,
     "metadata": {},
     "output_type": "execute_result"
    }
   ],
   "source": [
    "models = [sm.OLS(data.mpg, PolynomialFeatures(degree=degree).fit_transform(data.horsepower.to_frame())).fit() for degree in degrees]\n",
    "sm.stats.anova_lm(*models)"
   ]
  },
  {
   "cell_type": "code",
   "execution_count": 24,
   "metadata": {},
   "outputs": [
    {
     "data": {
      "text/html": [
       "<div>\n",
       "<style scoped>\n",
       "    .dataframe tbody tr th:only-of-type {\n",
       "        vertical-align: middle;\n",
       "    }\n",
       "\n",
       "    .dataframe tbody tr th {\n",
       "        vertical-align: top;\n",
       "    }\n",
       "\n",
       "    .dataframe thead th {\n",
       "        text-align: right;\n",
       "    }\n",
       "</style>\n",
       "<table border=\"1\" class=\"dataframe\">\n",
       "  <thead>\n",
       "    <tr style=\"text-align: right;\">\n",
       "      <th></th>\n",
       "      <th>df_resid</th>\n",
       "      <th>ssr</th>\n",
       "      <th>df_diff</th>\n",
       "      <th>ss_diff</th>\n",
       "      <th>F</th>\n",
       "      <th>Pr(&gt;F)</th>\n",
       "    </tr>\n",
       "  </thead>\n",
       "  <tbody>\n",
       "    <tr>\n",
       "      <th>0</th>\n",
       "      <td>390.0</td>\n",
       "      <td>8378.821617</td>\n",
       "      <td>0.0</td>\n",
       "      <td>NaN</td>\n",
       "      <td>NaN</td>\n",
       "      <td>NaN</td>\n",
       "    </tr>\n",
       "    <tr>\n",
       "      <th>1</th>\n",
       "      <td>389.0</td>\n",
       "      <td>7412.262749</td>\n",
       "      <td>1.0</td>\n",
       "      <td>966.558868</td>\n",
       "      <td>2.634242</td>\n",
       "      <td>0.105392</td>\n",
       "    </tr>\n",
       "    <tr>\n",
       "      <th>2</th>\n",
       "      <td>388.0</td>\n",
       "      <td>7392.322006</td>\n",
       "      <td>1.0</td>\n",
       "      <td>19.940743</td>\n",
       "      <td>0.054346</td>\n",
       "      <td>0.815789</td>\n",
       "    </tr>\n",
       "    <tr>\n",
       "      <th>3</th>\n",
       "      <td>387.0</td>\n",
       "      <td>7391.721827</td>\n",
       "      <td>1.0</td>\n",
       "      <td>0.600179</td>\n",
       "      <td>0.001636</td>\n",
       "      <td>0.967760</td>\n",
       "    </tr>\n",
       "    <tr>\n",
       "      <th>4</th>\n",
       "      <td>386.0</td>\n",
       "      <td>7380.837651</td>\n",
       "      <td>1.0</td>\n",
       "      <td>10.884176</td>\n",
       "      <td>0.029664</td>\n",
       "      <td>0.863346</td>\n",
       "    </tr>\n",
       "    <tr>\n",
       "      <th>5</th>\n",
       "      <td>386.0</td>\n",
       "      <td>7304.377477</td>\n",
       "      <td>-0.0</td>\n",
       "      <td>76.460174</td>\n",
       "      <td>-inf</td>\n",
       "      <td>NaN</td>\n",
       "    </tr>\n",
       "    <tr>\n",
       "      <th>6</th>\n",
       "      <td>387.0</td>\n",
       "      <td>25538.623445</td>\n",
       "      <td>-1.0</td>\n",
       "      <td>-18234.245968</td>\n",
       "      <td>49.695281</td>\n",
       "      <td>NaN</td>\n",
       "    </tr>\n",
       "    <tr>\n",
       "      <th>7</th>\n",
       "      <td>387.0</td>\n",
       "      <td>54925.121306</td>\n",
       "      <td>-0.0</td>\n",
       "      <td>-29386.497861</td>\n",
       "      <td>inf</td>\n",
       "      <td>NaN</td>\n",
       "    </tr>\n",
       "    <tr>\n",
       "      <th>8</th>\n",
       "      <td>387.0</td>\n",
       "      <td>99171.074840</td>\n",
       "      <td>-0.0</td>\n",
       "      <td>-44245.953535</td>\n",
       "      <td>inf</td>\n",
       "      <td>NaN</td>\n",
       "    </tr>\n",
       "    <tr>\n",
       "      <th>9</th>\n",
       "      <td>387.0</td>\n",
       "      <td>141998.456126</td>\n",
       "      <td>-0.0</td>\n",
       "      <td>-42827.381286</td>\n",
       "      <td>inf</td>\n",
       "      <td>NaN</td>\n",
       "    </tr>\n",
       "  </tbody>\n",
       "</table>\n",
       "</div>"
      ],
      "text/plain": [
       "   df_resid            ssr  df_diff       ss_diff          F    Pr(>F)\n",
       "0     390.0    8378.821617      0.0           NaN        NaN       NaN\n",
       "1     389.0    7412.262749      1.0    966.558868   2.634242  0.105392\n",
       "2     388.0    7392.322006      1.0     19.940743   0.054346  0.815789\n",
       "3     387.0    7391.721827      1.0      0.600179   0.001636  0.967760\n",
       "4     386.0    7380.837651      1.0     10.884176   0.029664  0.863346\n",
       "5     386.0    7304.377477     -0.0     76.460174       -inf       NaN\n",
       "6     387.0   25538.623445     -1.0 -18234.245968  49.695281       NaN\n",
       "7     387.0   54925.121306     -0.0 -29386.497861        inf       NaN\n",
       "8     387.0   99171.074840     -0.0 -44245.953535        inf       NaN\n",
       "9     387.0  141998.456126     -0.0 -42827.381286        inf       NaN"
      ]
     },
     "execution_count": 24,
     "metadata": {},
     "output_type": "execute_result"
    }
   ],
   "source": [
    "models = [sm.OLS(data.mpg, PolynomialFeatures(degree=degree).fit_transform(data.displacement.to_frame())).fit() for degree in degrees]\n",
    "sm.stats.anova_lm(*models)"
   ]
  },
  {
   "cell_type": "markdown",
   "metadata": {},
   "source": [
    "ANOVA shows that polynomial regression with high degrees is not useful for `displacement` variable. But in case `horsepower` p-value of model with 4 degrees is rather low."
   ]
  },
  {
   "cell_type": "code",
   "execution_count": 25,
   "metadata": {},
   "outputs": [
    {
     "data": {
      "text/plain": [
       "[<matplotlib.lines.Line2D at 0x7f4bd319eee0>]"
      ]
     },
     "execution_count": 25,
     "metadata": {},
     "output_type": "execute_result"
    },
    {
     "data": {
      "image/png": "[encoded data removed]",
      "text/plain": [
       "<Figure size 720x576 with 1 Axes>"
      ]
     },
     "metadata": {
      "needs_background": "light"
     },
     "output_type": "display_data"
    }
   ],
   "source": [
    "plt.figure(figsize=(10,8))\n",
    "horsepower_for_plot = np.arange(data.horsepower.min(), data.horsepower.max()).reshape(-1, 1)\n",
    "horsepower_for_plot = PolynomialFeatures(degree=4).fit_transform(horsepower_for_plot)\n",
    "model = sm.OLS(data.mpg, PolynomialFeatures(degree=4).fit_transform(data.horsepower.to_frame())).fit()\n",
    "pred_res = model.get_prediction(horsepower_for_plot).summary_frame()\n",
    "\n",
    "plt.plot(data.horsepower, data.mpg, 'o', c='#dddddd')\n",
    "plt.plot(horsepower_for_plot[:, 1], pred_res['mean'], color='r', lw=3)\n",
    "plt.plot(horsepower_for_plot[:, 1], pred_res['mean_ci_lower'], 'g--', lw=3)\n",
    "plt.plot(horsepower_for_plot[:, 1], pred_res['mean_ci_upper'], 'g--', lw=3)\n",
    "plt.plot(horsepower_for_plot[:, 1], pred_res['obs_ci_lower'], 'y--', lw=3)\n",
    "plt.plot(horsepower_for_plot[:, 1], pred_res['obs_ci_upper'], 'y--', lw=3)"
   ]
  },
  {
   "cell_type": "code",
   "execution_count": 26,
   "metadata": {},
   "outputs": [
    {
     "data": {
      "text/plain": [
       "[<matplotlib.lines.Line2D at 0x7f4bd3116700>]"
      ]
     },
     "execution_count": 26,
     "metadata": {},
     "output_type": "execute_result"
    },
    {
     "data": {
      "image/png": "[encoded data removed]",
      "text/plain": [
       "<Figure size 720x576 with 1 Axes>"
      ]
     },
     "metadata": {
      "needs_background": "light"
     },
     "output_type": "display_data"
    }
   ],
   "source": [
    "plt.figure(figsize=(10,8))\n",
    "displacement_for_plot = np.arange(data.displacement.min(), data.displacement.max()).reshape(-1, 1)\n",
    "displacement_for_plot = PolynomialFeatures(degree=4).fit_transform(displacement_for_plot)\n",
    "model = sm.OLS(data.mpg, PolynomialFeatures(degree=4).fit_transform(data.displacement.to_frame())).fit()\n",
    "pred_res = model.get_prediction(displacement_for_plot).summary_frame()\n",
    "\n",
    "plt.plot(data.displacement, data.mpg, 'o', c='#dddddd')\n",
    "plt.plot(displacement_for_plot[:, 1], pred_res['mean'], color='r', lw=3)\n",
    "plt.plot(displacement_for_plot[:, 1], pred_res['mean_ci_lower'], 'g--', lw=3)\n",
    "plt.plot(displacement_for_plot[:, 1], pred_res['mean_ci_upper'], 'g--', lw=3)\n",
    "plt.plot(displacement_for_plot[:, 1], pred_res['obs_ci_lower'], 'y--', lw=3)\n",
    "plt.plot(displacement_for_plot[:, 1], pred_res['obs_ci_upper'], 'y--', lw=3)"
   ]
  },
  {
   "cell_type": "markdown",
   "metadata": {},
   "source": [
    "# Ex. 9"
   ]
  },
  {
   "cell_type": "code",
   "execution_count": 27,
   "metadata": {},
   "outputs": [
    {
     "data": {
      "text/html": [
       "<div>\n",
       "<style scoped>\n",
       "    .dataframe tbody tr th:only-of-type {\n",
       "        vertical-align: middle;\n",
       "    }\n",
       "\n",
       "    .dataframe tbody tr th {\n",
       "        vertical-align: top;\n",
       "    }\n",
       "\n",
       "    .dataframe thead th {\n",
       "        text-align: right;\n",
       "    }\n",
       "</style>\n",
       "<table border=\"1\" class=\"dataframe\">\n",
       "  <thead>\n",
       "    <tr style=\"text-align: right;\">\n",
       "      <th></th>\n",
       "      <th>crim</th>\n",
       "      <th>zn</th>\n",
       "      <th>indus</th>\n",
       "      <th>chas</th>\n",
       "      <th>nox</th>\n",
       "      <th>rm</th>\n",
       "      <th>age</th>\n",
       "      <th>dis</th>\n",
       "      <th>rad</th>\n",
       "      <th>tax</th>\n",
       "      <th>ptratio</th>\n",
       "      <th>black</th>\n",
       "      <th>lstat</th>\n",
       "      <th>medv</th>\n",
       "    </tr>\n",
       "  </thead>\n",
       "  <tbody>\n",
       "    <tr>\n",
       "      <th>0</th>\n",
       "      <td>0.00632</td>\n",
       "      <td>18.0</td>\n",
       "      <td>2.31</td>\n",
       "      <td>0</td>\n",
       "      <td>0.538</td>\n",
       "      <td>6.575</td>\n",
       "      <td>65.2</td>\n",
       "      <td>4.0900</td>\n",
       "      <td>1</td>\n",
       "      <td>296</td>\n",
       "      <td>15.3</td>\n",
       "      <td>396.90</td>\n",
       "      <td>4.98</td>\n",
       "      <td>24.0</td>\n",
       "    </tr>\n",
       "    <tr>\n",
       "      <th>1</th>\n",
       "      <td>0.02731</td>\n",
       "      <td>0.0</td>\n",
       "      <td>7.07</td>\n",
       "      <td>0</td>\n",
       "      <td>0.469</td>\n",
       "      <td>6.421</td>\n",
       "      <td>78.9</td>\n",
       "      <td>4.9671</td>\n",
       "      <td>2</td>\n",
       "      <td>242</td>\n",
       "      <td>17.8</td>\n",
       "      <td>396.90</td>\n",
       "      <td>9.14</td>\n",
       "      <td>21.6</td>\n",
       "    </tr>\n",
       "    <tr>\n",
       "      <th>2</th>\n",
       "      <td>0.02729</td>\n",
       "      <td>0.0</td>\n",
       "      <td>7.07</td>\n",
       "      <td>0</td>\n",
       "      <td>0.469</td>\n",
       "      <td>7.185</td>\n",
       "      <td>61.1</td>\n",
       "      <td>4.9671</td>\n",
       "      <td>2</td>\n",
       "      <td>242</td>\n",
       "      <td>17.8</td>\n",
       "      <td>392.83</td>\n",
       "      <td>4.03</td>\n",
       "      <td>34.7</td>\n",
       "    </tr>\n",
       "    <tr>\n",
       "      <th>3</th>\n",
       "      <td>0.03237</td>\n",
       "      <td>0.0</td>\n",
       "      <td>2.18</td>\n",
       "      <td>0</td>\n",
       "      <td>0.458</td>\n",
       "      <td>6.998</td>\n",
       "      <td>45.8</td>\n",
       "      <td>6.0622</td>\n",
       "      <td>3</td>\n",
       "      <td>222</td>\n",
       "      <td>18.7</td>\n",
       "      <td>394.63</td>\n",
       "      <td>2.94</td>\n",
       "      <td>33.4</td>\n",
       "    </tr>\n",
       "    <tr>\n",
       "      <th>4</th>\n",
       "      <td>0.06905</td>\n",
       "      <td>0.0</td>\n",
       "      <td>2.18</td>\n",
       "      <td>0</td>\n",
       "      <td>0.458</td>\n",
       "      <td>7.147</td>\n",
       "      <td>54.2</td>\n",
       "      <td>6.0622</td>\n",
       "      <td>3</td>\n",
       "      <td>222</td>\n",
       "      <td>18.7</td>\n",
       "      <td>396.90</td>\n",
       "      <td>5.33</td>\n",
       "      <td>36.2</td>\n",
       "    </tr>\n",
       "  </tbody>\n",
       "</table>\n",
       "</div>"
      ],
      "text/plain": [
       "      crim    zn  indus  chas    nox     rm   age     dis  rad  tax  ptratio  \\\n",
       "0  0.00632  18.0   2.31     0  0.538  6.575  65.2  4.0900    1  296     15.3   \n",
       "1  0.02731   0.0   7.07     0  0.469  6.421  78.9  4.9671    2  242     17.8   \n",
       "2  0.02729   0.0   7.07     0  0.469  7.185  61.1  4.9671    2  242     17.8   \n",
       "3  0.03237   0.0   2.18     0  0.458  6.998  45.8  6.0622    3  222     18.7   \n",
       "4  0.06905   0.0   2.18     0  0.458  7.147  54.2  6.0622    3  222     18.7   \n",
       "\n",
       "    black  lstat  medv  \n",
       "0  396.90   4.98  24.0  \n",
       "1  396.90   9.14  21.6  \n",
       "2  392.83   4.03  34.7  \n",
       "3  394.63   2.94  33.4  \n",
       "4  396.90   5.33  36.2  "
      ]
     },
     "execution_count": 27,
     "metadata": {},
     "output_type": "execute_result"
    }
   ],
   "source": [
    "dataset_file = '../datasets/Boston.csv'\n",
    "data = pd.read_csv(dataset_file)\n",
    "data.head()"
   ]
  },
  {
   "cell_type": "code",
   "execution_count": 28,
   "metadata": {},
   "outputs": [
    {
     "data": {
      "text/html": [
       "<table class=\"simpletable\">\n",
       "<caption>OLS Regression Results</caption>\n",
       "<tr>\n",
       "  <th>Dep. Variable:</th>           <td>nox</td>       <th>  R-squared:         </th> <td>   0.715</td> \n",
       "</tr>\n",
       "<tr>\n",
       "  <th>Model:</th>                   <td>OLS</td>       <th>  Adj. R-squared:    </th> <td>   0.713</td> \n",
       "</tr>\n",
       "<tr>\n",
       "  <th>Method:</th>             <td>Least Squares</td>  <th>  F-statistic:       </th> <td>   419.3</td> \n",
       "</tr>\n",
       "<tr>\n",
       "  <th>Date:</th>             <td>Sun, 27 Sep 2020</td> <th>  Prob (F-statistic):</th> <td>2.71e-136</td>\n",
       "</tr>\n",
       "<tr>\n",
       "  <th>Time:</th>                 <td>12:33:30</td>     <th>  Log-Likelihood:    </th> <td>  690.44</td> \n",
       "</tr>\n",
       "<tr>\n",
       "  <th>No. Observations:</th>      <td>   506</td>      <th>  AIC:               </th> <td>  -1373.</td> \n",
       "</tr>\n",
       "<tr>\n",
       "  <th>Df Residuals:</th>          <td>   502</td>      <th>  BIC:               </th> <td>  -1356.</td> \n",
       "</tr>\n",
       "<tr>\n",
       "  <th>Df Model:</th>              <td>     3</td>      <th>                     </th>     <td> </td>    \n",
       "</tr>\n",
       "<tr>\n",
       "  <th>Covariance Type:</th>      <td>nonrobust</td>    <th>                     </th>     <td> </td>    \n",
       "</tr>\n",
       "</table>\n",
       "<table class=\"simpletable\">\n",
       "<tr>\n",
       "    <td></td>       <th>coef</th>     <th>std err</th>      <th>t</th>      <th>P>|t|</th>  <th>[0.025</th>    <th>0.975]</th>  \n",
       "</tr>\n",
       "<tr>\n",
       "  <th>const</th> <td>    0.9341</td> <td>    0.021</td> <td>   45.110</td> <td> 0.000</td> <td>    0.893</td> <td>    0.975</td>\n",
       "</tr>\n",
       "<tr>\n",
       "  <th>x1</th>    <td>   -0.1821</td> <td>    0.015</td> <td>  -12.389</td> <td> 0.000</td> <td>   -0.211</td> <td>   -0.153</td>\n",
       "</tr>\n",
       "<tr>\n",
       "  <th>x2</th>    <td>    0.0219</td> <td>    0.003</td> <td>    7.476</td> <td> 0.000</td> <td>    0.016</td> <td>    0.028</td>\n",
       "</tr>\n",
       "<tr>\n",
       "  <th>x3</th>    <td>   -0.0009</td> <td>    0.000</td> <td>   -5.124</td> <td> 0.000</td> <td>   -0.001</td> <td>   -0.001</td>\n",
       "</tr>\n",
       "</table>\n",
       "<table class=\"simpletable\">\n",
       "<tr>\n",
       "  <th>Omnibus:</th>       <td>64.176</td> <th>  Durbin-Watson:     </th> <td>   0.286</td>\n",
       "</tr>\n",
       "<tr>\n",
       "  <th>Prob(Omnibus):</th> <td> 0.000</td> <th>  Jarque-Bera (JB):  </th> <td>  87.386</td>\n",
       "</tr>\n",
       "<tr>\n",
       "  <th>Skew:</th>          <td> 0.917</td> <th>  Prob(JB):          </th> <td>1.06e-19</td>\n",
       "</tr>\n",
       "<tr>\n",
       "  <th>Kurtosis:</th>      <td> 3.886</td> <th>  Cond. No.          </th> <td>2.10e+03</td>\n",
       "</tr>\n",
       "</table><br/><br/>Notes:<br/>[1] Standard Errors assume that the covariance matrix of the errors is correctly specified.<br/>[2] The condition number is large, 2.1e+03. This might indicate that there are<br/>strong multicollinearity or other numerical problems."
      ],
      "text/plain": [
       "<class 'statsmodels.iolib.summary.Summary'>\n",
       "\"\"\"\n",
       "                            OLS Regression Results                            \n",
       "==============================================================================\n",
       "Dep. Variable:                    nox   R-squared:                       0.715\n",
       "Model:                            OLS   Adj. R-squared:                  0.713\n",
       "Method:                 Least Squares   F-statistic:                     419.3\n",
       "Date:                Sun, 27 Sep 2020   Prob (F-statistic):          2.71e-136\n",
       "Time:                        12:33:30   Log-Likelihood:                 690.44\n",
       "No. Observations:                 506   AIC:                            -1373.\n",
       "Df Residuals:                     502   BIC:                            -1356.\n",
       "Df Model:                           3                                         \n",
       "Covariance Type:            nonrobust                                         \n",
       "==============================================================================\n",
       "                 coef    std err          t      P>|t|      [0.025      0.975]\n",
       "------------------------------------------------------------------------------\n",
       "const          0.9341      0.021     45.110      0.000       0.893       0.975\n",
       "x1            -0.1821      0.015    -12.389      0.000      -0.211      -0.153\n",
       "x2             0.0219      0.003      7.476      0.000       0.016       0.028\n",
       "x3            -0.0009      0.000     -5.124      0.000      -0.001      -0.001\n",
       "==============================================================================\n",
       "Omnibus:                       64.176   Durbin-Watson:                   0.286\n",
       "Prob(Omnibus):                  0.000   Jarque-Bera (JB):               87.386\n",
       "Skew:                           0.917   Prob(JB):                     1.06e-19\n",
       "Kurtosis:                       3.886   Cond. No.                     2.10e+03\n",
       "==============================================================================\n",
       "\n",
       "Notes:\n",
       "[1] Standard Errors assume that the covariance matrix of the errors is correctly specified.\n",
       "[2] The condition number is large, 2.1e+03. This might indicate that there are\n",
       "strong multicollinearity or other numerical problems.\n",
       "\"\"\""
      ]
     },
     "execution_count": 28,
     "metadata": {},
     "output_type": "execute_result"
    },
    {
     "data": {
      "image/png": "[encoded data removed]",
      "text/plain": [
       "<Figure size 720x576 with 1 Axes>"
      ]
     },
     "metadata": {
      "needs_background": "light"
     },
     "output_type": "display_data"
    }
   ],
   "source": [
    "dis_for_plot = np.arange(data.dis.min(), data.dis.max()).reshape(-1, 1)\n",
    "dis_for_plot = PolynomialFeatures(degree=3).fit_transform(dis_for_plot)\n",
    "model = sm.OLS(data.nox, PolynomialFeatures(degree=3).fit_transform(data.dis.to_frame())).fit()\n",
    "pred_res = model.get_prediction(dis_for_plot).summary_frame()\n",
    "\n",
    "plt.figure(figsize=(10,8))\n",
    "plt.plot(data.dis, data.nox, 'o', c='#dddddd')\n",
    "plt.plot(dis_for_plot[:, 1], pred_res['mean'], color='r', lw=3)\n",
    "plt.plot(dis_for_plot[:, 1], pred_res['mean_ci_lower'], 'g--', lw=3)\n",
    "plt.plot(dis_for_plot[:, 1], pred_res['mean_ci_upper'], 'g--', lw=3)\n",
    "plt.plot(dis_for_plot[:, 1], pred_res['obs_ci_lower'], 'y--', lw=3)\n",
    "plt.plot(dis_for_plot[:, 1], pred_res['obs_ci_upper'], 'y--', lw=3)\n",
    "model.summary()"
   ]
  },
  {
   "cell_type": "code",
   "execution_count": 29,
   "metadata": {},
   "outputs": [
    {
     "data": {
      "text/plain": [
       "Text(0.5, 1.0, 'Best: 3')"
      ]
     },
     "execution_count": 29,
     "metadata": {},
     "output_type": "execute_result"
    },
    {
     "data": {
      "image/png": "[encoded data removed]",
      "text/plain": [
       "<Figure size 720x432 with 1 Axes>"
      ]
     },
     "metadata": {
      "needs_background": "light"
     },
     "output_type": "display_data"
    }
   ],
   "source": [
    "degrees = np.arange(1, 11)\n",
    "metrics = pd.Series(dtype=np.float64, index=degrees)\n",
    "cv = KFold(n_splits=10, shuffle=True, random_state=1)\n",
    "for degree in degrees:\n",
    "    errors = []\n",
    "    for train, test in cv.split(data):\n",
    "        model = sm.OLS(\n",
    "            data.nox.iloc[train],\n",
    "            PolynomialFeatures(degree=degree).fit_transform(data.dis.iloc[train].to_frame())\n",
    "        ).fit()\n",
    "        rss = ((data.nox.iloc[test] - model.predict(PolynomialFeatures(degree=degree).fit_transform(data.dis.iloc[test].to_frame()))) ** 2).sum()\n",
    "        errors.append(rss)\n",
    "    metrics.loc[degree] = np.mean(errors)\n",
    "\n",
    "plt.figure(figsize=(10,6))\n",
    "plt.plot(metrics.index, metrics, 'o-')\n",
    "best_cv = metrics.idxmin()\n",
    "plt.title(f'Best: {best_cv}')"
   ]
  },
  {
   "cell_type": "markdown",
   "metadata": {},
   "source": [
    "CV results in a 3 degree polynomial as a best model."
   ]
  },
  {
   "cell_type": "code",
   "execution_count": 30,
   "metadata": {},
   "outputs": [],
   "source": [
    "from patsy import dmatrix"
   ]
  },
  {
   "cell_type": "code",
   "execution_count": 31,
   "metadata": {},
   "outputs": [],
   "source": [
    "dm = dmatrix(\n",
    "    'bs(dis, knots=(4,8), degree=3, include_intercept=False)',\n",
    "    {'dis': data.dis}, return_type='dataframe'\n",
    ")\n",
    "model = sm.GLM(data.nox, dm).fit()"
   ]
  },
  {
   "cell_type": "code",
   "execution_count": 32,
   "metadata": {},
   "outputs": [
    {
     "data": {
      "text/html": [
       "<table class=\"simpletable\">\n",
       "<caption>Generalized Linear Model Regression Results</caption>\n",
       "<tr>\n",
       "  <th>Dep. Variable:</th>          <td>nox</td>       <th>  No. Observations:  </th>  <td>   506</td>  \n",
       "</tr>\n",
       "<tr>\n",
       "  <th>Model:</th>                  <td>GLM</td>       <th>  Df Residuals:      </th>  <td>   500</td>  \n",
       "</tr>\n",
       "<tr>\n",
       "  <th>Model Family:</th>        <td>Gaussian</td>     <th>  Df Model:          </th>  <td>     5</td>  \n",
       "</tr>\n",
       "<tr>\n",
       "  <th>Link Function:</th>       <td>identity</td>     <th>  Scale:             </th> <td>0.0038371</td>\n",
       "</tr>\n",
       "<tr>\n",
       "  <th>Method:</th>                <td>IRLS</td>       <th>  Log-Likelihood:    </th> <td>  692.48</td> \n",
       "</tr>\n",
       "<tr>\n",
       "  <th>Date:</th>            <td>Sun, 27 Sep 2020</td> <th>  Deviance:          </th> <td>  1.9186</td> \n",
       "</tr>\n",
       "<tr>\n",
       "  <th>Time:</th>                <td>12:33:31</td>     <th>  Pearson chi2:      </th>  <td>  1.92</td>  \n",
       "</tr>\n",
       "<tr>\n",
       "  <th>No. Iterations:</th>          <td>3</td>        <th>                     </th>     <td> </td>    \n",
       "</tr>\n",
       "<tr>\n",
       "  <th>Covariance Type:</th>     <td>nonrobust</td>    <th>                     </th>     <td> </td>    \n",
       "</tr>\n",
       "</table>\n",
       "<table class=\"simpletable\">\n",
       "<tr>\n",
       "                               <td></td>                                  <th>coef</th>     <th>std err</th>      <th>z</th>      <th>P>|z|</th>  <th>[0.025</th>    <th>0.975]</th>  \n",
       "</tr>\n",
       "<tr>\n",
       "  <th>Intercept</th>                                                   <td>    0.7438</td> <td>    0.013</td> <td>   57.156</td> <td> 0.000</td> <td>    0.718</td> <td>    0.769</td>\n",
       "</tr>\n",
       "<tr>\n",
       "  <th>bs(dis, knots=(4, 8), degree=3, include_intercept=False)[0]</th> <td>   -0.1018</td> <td>    0.024</td> <td>   -4.305</td> <td> 0.000</td> <td>   -0.148</td> <td>   -0.055</td>\n",
       "</tr>\n",
       "<tr>\n",
       "  <th>bs(dis, knots=(4, 8), degree=3, include_intercept=False)[1]</th> <td>   -0.3355</td> <td>    0.017</td> <td>  -19.497</td> <td> 0.000</td> <td>   -0.369</td> <td>   -0.302</td>\n",
       "</tr>\n",
       "<tr>\n",
       "  <th>bs(dis, knots=(4, 8), degree=3, include_intercept=False)[2]</th> <td>   -0.2712</td> <td>    0.034</td> <td>   -8.059</td> <td> 0.000</td> <td>   -0.337</td> <td>   -0.205</td>\n",
       "</tr>\n",
       "<tr>\n",
       "  <th>bs(dis, knots=(4, 8), degree=3, include_intercept=False)[3]</th> <td>   -0.3931</td> <td>    0.045</td> <td>   -8.826</td> <td> 0.000</td> <td>   -0.480</td> <td>   -0.306</td>\n",
       "</tr>\n",
       "<tr>\n",
       "  <th>bs(dis, knots=(4, 8), degree=3, include_intercept=False)[4]</th> <td>   -0.3124</td> <td>    0.060</td> <td>   -5.166</td> <td> 0.000</td> <td>   -0.431</td> <td>   -0.194</td>\n",
       "</tr>\n",
       "</table>"
      ],
      "text/plain": [
       "<class 'statsmodels.iolib.summary.Summary'>\n",
       "\"\"\"\n",
       "                 Generalized Linear Model Regression Results                  \n",
       "==============================================================================\n",
       "Dep. Variable:                    nox   No. Observations:                  506\n",
       "Model:                            GLM   Df Residuals:                      500\n",
       "Model Family:                Gaussian   Df Model:                            5\n",
       "Link Function:               identity   Scale:                       0.0038371\n",
       "Method:                          IRLS   Log-Likelihood:                 692.48\n",
       "Date:                Sun, 27 Sep 2020   Deviance:                       1.9186\n",
       "Time:                        12:33:31   Pearson chi2:                     1.92\n",
       "No. Iterations:                     3                                         \n",
       "Covariance Type:            nonrobust                                         \n",
       "===============================================================================================================================\n",
       "                                                                  coef    std err          z      P>|z|      [0.025      0.975]\n",
       "-------------------------------------------------------------------------------------------------------------------------------\n",
       "Intercept                                                       0.7438      0.013     57.156      0.000       0.718       0.769\n",
       "bs(dis, knots=(4, 8), degree=3, include_intercept=False)[0]    -0.1018      0.024     -4.305      0.000      -0.148      -0.055\n",
       "bs(dis, knots=(4, 8), degree=3, include_intercept=False)[1]    -0.3355      0.017    -19.497      0.000      -0.369      -0.302\n",
       "bs(dis, knots=(4, 8), degree=3, include_intercept=False)[2]    -0.2712      0.034     -8.059      0.000      -0.337      -0.205\n",
       "bs(dis, knots=(4, 8), degree=3, include_intercept=False)[3]    -0.3931      0.045     -8.826      0.000      -0.480      -0.306\n",
       "bs(dis, knots=(4, 8), degree=3, include_intercept=False)[4]    -0.3124      0.060     -5.166      0.000      -0.431      -0.194\n",
       "===============================================================================================================================\n",
       "\"\"\""
      ]
     },
     "execution_count": 32,
     "metadata": {},
     "output_type": "execute_result"
    },
    {
     "data": {
      "image/png": "[encoded data removed]",
      "text/plain": [
       "<Figure size 720x576 with 1 Axes>"
      ]
     },
     "metadata": {
      "needs_background": "light"
     },
     "output_type": "display_data"
    }
   ],
   "source": [
    "dis_for_plot = np.linspace(data.dis.min(), data.dis.max(), data.dis.size).reshape(-1, 1)\n",
    "dm_for_plot = dmatrix(\n",
    "    'bs(dis, knots=(4,8), degree=3, include_intercept=False)',\n",
    "    {'dis': dis_for_plot}, return_type='dataframe'\n",
    ")\n",
    "pred_res = model.predict(dm_for_plot)\n",
    "\n",
    "plt.figure(figsize=(10,8))\n",
    "plt.plot(data.dis, data.nox, 'o', c='#dddddd')\n",
    "plt.plot(dis_for_plot, pred_res, color='r', lw=3)\n",
    "model.summary()"
   ]
  },
  {
   "cell_type": "code",
   "execution_count": 33,
   "metadata": {},
   "outputs": [
    {
     "data": {
      "text/plain": [
       "Text(0.5, 1.0, 'Best: 14')"
      ]
     },
     "execution_count": 33,
     "metadata": {},
     "output_type": "execute_result"
    },
    {
     "data": {
      "image/png": "[encoded data removed]",
      "text/plain": [
       "<Figure size 720x432 with 1 Axes>"
      ]
     },
     "metadata": {
      "needs_background": "light"
     },
     "output_type": "display_data"
    }
   ],
   "source": [
    "dfs = np.arange(5, 21)\n",
    "metrics = pd.Series(dtype=np.float64, index=dfs)\n",
    "cv = KFold(n_splits=10, shuffle=True, random_state=1)\n",
    "for df in dfs:\n",
    "    errors = []\n",
    "    for train, test in cv.split(data):\n",
    "        dm_train = dmatrix(\n",
    "            'bs(dis, df=df, degree=3, include_intercept=False)',\n",
    "            {'dis': data.dis.iloc[train], 'df': df}, return_type='dataframe'\n",
    "        )\n",
    "        dm_test = dmatrix(\n",
    "            'bs(dis, df=df, degree=3, include_intercept=False)',\n",
    "            {'dis': data.dis.iloc[test], 'df': df}, return_type='dataframe'\n",
    "        )\n",
    "        model = sm.GLM(data.nox.iloc[train], dm_train).fit()\n",
    "        rss = ((data.nox.iloc[test] - model.predict(dm_test)) ** 2).sum()\n",
    "        errors.append(rss)\n",
    "    metrics.loc[df] = np.mean(errors)\n",
    "\n",
    "plt.figure(figsize=(10,6))\n",
    "plt.plot(metrics.index, metrics, 'o-')\n",
    "best_cv = metrics.idxmin()\n",
    "plt.title(f'Best: {best_cv}')"
   ]
  },
  {
   "cell_type": "code",
   "execution_count": 34,
   "metadata": {},
   "outputs": [
    {
     "data": {
      "text/plain": [
       "5     0.204594\n",
       "6     0.201980\n",
       "7     0.196574\n",
       "8     0.201582\n",
       "9     0.198522\n",
       "10    0.195309\n",
       "11    0.195202\n",
       "12    0.196149\n",
       "13    0.196199\n",
       "14    0.194479\n",
       "15    0.197449\n",
       "16    0.197398\n",
       "17    0.197544\n",
       "18    0.197851\n",
       "19    0.198743\n",
       "20    0.198960\n",
       "dtype: float64"
      ]
     },
     "execution_count": 34,
     "metadata": {},
     "output_type": "execute_result"
    }
   ],
   "source": [
    "metrics"
   ]
  },
  {
   "cell_type": "code",
   "execution_count": 35,
   "metadata": {},
   "outputs": [
    {
     "data": {
      "text/html": [
       "<table class=\"simpletable\">\n",
       "<caption>Generalized Linear Model Regression Results</caption>\n",
       "<tr>\n",
       "  <th>Dep. Variable:</th>          <td>nox</td>       <th>  No. Observations:  </th>  <td>   506</td>  \n",
       "</tr>\n",
       "<tr>\n",
       "  <th>Model:</th>                  <td>GLM</td>       <th>  Df Residuals:      </th>  <td>   491</td>  \n",
       "</tr>\n",
       "<tr>\n",
       "  <th>Model Family:</th>        <td>Gaussian</td>     <th>  Df Model:          </th>  <td>    14</td>  \n",
       "</tr>\n",
       "<tr>\n",
       "  <th>Link Function:</th>       <td>identity</td>     <th>  Scale:             </th> <td>0.0036290</td>\n",
       "</tr>\n",
       "<tr>\n",
       "  <th>Method:</th>                <td>IRLS</td>       <th>  Log-Likelihood:    </th> <td>  711.19</td> \n",
       "</tr>\n",
       "<tr>\n",
       "  <th>Date:</th>            <td>Sun, 27 Sep 2020</td> <th>  Deviance:          </th> <td>  1.7818</td> \n",
       "</tr>\n",
       "<tr>\n",
       "  <th>Time:</th>                <td>12:33:35</td>     <th>  Pearson chi2:      </th>  <td>  1.78</td>  \n",
       "</tr>\n",
       "<tr>\n",
       "  <th>No. Iterations:</th>          <td>3</td>        <th>                     </th>     <td> </td>    \n",
       "</tr>\n",
       "<tr>\n",
       "  <th>Covariance Type:</th>     <td>nonrobust</td>    <th>                     </th>     <td> </td>    \n",
       "</tr>\n",
       "</table>\n",
       "<table class=\"simpletable\">\n",
       "<tr>\n",
       "                            <td></td>                               <th>coef</th>     <th>std err</th>      <th>z</th>      <th>P>|z|</th>  <th>[0.025</th>    <th>0.975]</th>  \n",
       "</tr>\n",
       "<tr>\n",
       "  <th>Intercept</th>                                             <td>    0.6537</td> <td>    0.033</td> <td>   19.933</td> <td> 0.000</td> <td>    0.589</td> <td>    0.718</td>\n",
       "</tr>\n",
       "<tr>\n",
       "  <th>bs(dis, df=14, degree=3, include_intercept=False)[0]</th>  <td>    0.0284</td> <td>    0.062</td> <td>    0.454</td> <td> 0.650</td> <td>   -0.094</td> <td>    0.151</td>\n",
       "</tr>\n",
       "<tr>\n",
       "  <th>bs(dis, df=14, degree=3, include_intercept=False)[1]</th>  <td>    0.0981</td> <td>    0.039</td> <td>    2.514</td> <td> 0.012</td> <td>    0.022</td> <td>    0.175</td>\n",
       "</tr>\n",
       "<tr>\n",
       "  <th>bs(dis, df=14, degree=3, include_intercept=False)[2]</th>  <td>    0.0266</td> <td>    0.041</td> <td>    0.657</td> <td> 0.511</td> <td>   -0.053</td> <td>    0.106</td>\n",
       "</tr>\n",
       "<tr>\n",
       "  <th>bs(dis, df=14, degree=3, include_intercept=False)[3]</th>  <td>   -0.0268</td> <td>    0.036</td> <td>   -0.735</td> <td> 0.462</td> <td>   -0.098</td> <td>    0.045</td>\n",
       "</tr>\n",
       "<tr>\n",
       "  <th>bs(dis, df=14, degree=3, include_intercept=False)[4]</th>  <td>   -0.0254</td> <td>    0.038</td> <td>   -0.664</td> <td> 0.507</td> <td>   -0.100</td> <td>    0.050</td>\n",
       "</tr>\n",
       "<tr>\n",
       "  <th>bs(dis, df=14, degree=3, include_intercept=False)[5]</th>  <td>   -0.0710</td> <td>    0.038</td> <td>   -1.868</td> <td> 0.062</td> <td>   -0.145</td> <td>    0.003</td>\n",
       "</tr>\n",
       "<tr>\n",
       "  <th>bs(dis, df=14, degree=3, include_intercept=False)[6]</th>  <td>   -0.1585</td> <td>    0.040</td> <td>   -4.003</td> <td> 0.000</td> <td>   -0.236</td> <td>   -0.081</td>\n",
       "</tr>\n",
       "<tr>\n",
       "  <th>bs(dis, df=14, degree=3, include_intercept=False)[7]</th>  <td>   -0.1497</td> <td>    0.038</td> <td>   -3.945</td> <td> 0.000</td> <td>   -0.224</td> <td>   -0.075</td>\n",
       "</tr>\n",
       "<tr>\n",
       "  <th>bs(dis, df=14, degree=3, include_intercept=False)[8]</th>  <td>   -0.1470</td> <td>    0.038</td> <td>   -3.820</td> <td> 0.000</td> <td>   -0.222</td> <td>   -0.072</td>\n",
       "</tr>\n",
       "<tr>\n",
       "  <th>bs(dis, df=14, degree=3, include_intercept=False)[9]</th>  <td>   -0.2224</td> <td>    0.038</td> <td>   -5.884</td> <td> 0.000</td> <td>   -0.296</td> <td>   -0.148</td>\n",
       "</tr>\n",
       "<tr>\n",
       "  <th>bs(dis, df=14, degree=3, include_intercept=False)[10]</th> <td>   -0.1884</td> <td>    0.037</td> <td>   -5.084</td> <td> 0.000</td> <td>   -0.261</td> <td>   -0.116</td>\n",
       "</tr>\n",
       "<tr>\n",
       "  <th>bs(dis, df=14, degree=3, include_intercept=False)[11]</th> <td>   -0.2794</td> <td>    0.051</td> <td>   -5.468</td> <td> 0.000</td> <td>   -0.380</td> <td>   -0.179</td>\n",
       "</tr>\n",
       "<tr>\n",
       "  <th>bs(dis, df=14, degree=3, include_intercept=False)[12]</th> <td>   -0.2097</td> <td>    0.073</td> <td>   -2.873</td> <td> 0.004</td> <td>   -0.353</td> <td>   -0.067</td>\n",
       "</tr>\n",
       "<tr>\n",
       "  <th>bs(dis, df=14, degree=3, include_intercept=False)[13]</th> <td>   -0.2532</td> <td>    0.066</td> <td>   -3.835</td> <td> 0.000</td> <td>   -0.383</td> <td>   -0.124</td>\n",
       "</tr>\n",
       "</table>"
      ],
      "text/plain": [
       "<class 'statsmodels.iolib.summary.Summary'>\n",
       "\"\"\"\n",
       "                 Generalized Linear Model Regression Results                  \n",
       "==============================================================================\n",
       "Dep. Variable:                    nox   No. Observations:                  506\n",
       "Model:                            GLM   Df Residuals:                      491\n",
       "Model Family:                Gaussian   Df Model:                           14\n",
       "Link Function:               identity   Scale:                       0.0036290\n",
       "Method:                          IRLS   Log-Likelihood:                 711.19\n",
       "Date:                Sun, 27 Sep 2020   Deviance:                       1.7818\n",
       "Time:                        12:33:35   Pearson chi2:                     1.78\n",
       "No. Iterations:                     3                                         \n",
       "Covariance Type:            nonrobust                                         \n",
       "=========================================================================================================================\n",
       "                                                            coef    std err          z      P>|z|      [0.025      0.975]\n",
       "-------------------------------------------------------------------------------------------------------------------------\n",
       "Intercept                                                 0.6537      0.033     19.933      0.000       0.589       0.718\n",
       "bs(dis, df=14, degree=3, include_intercept=False)[0]      0.0284      0.062      0.454      0.650      -0.094       0.151\n",
       "bs(dis, df=14, degree=3, include_intercept=False)[1]      0.0981      0.039      2.514      0.012       0.022       0.175\n",
       "bs(dis, df=14, degree=3, include_intercept=False)[2]      0.0266      0.041      0.657      0.511      -0.053       0.106\n",
       "bs(dis, df=14, degree=3, include_intercept=False)[3]     -0.0268      0.036     -0.735      0.462      -0.098       0.045\n",
       "bs(dis, df=14, degree=3, include_intercept=False)[4]     -0.0254      0.038     -0.664      0.507      -0.100       0.050\n",
       "bs(dis, df=14, degree=3, include_intercept=False)[5]     -0.0710      0.038     -1.868      0.062      -0.145       0.003\n",
       "bs(dis, df=14, degree=3, include_intercept=False)[6]     -0.1585      0.040     -4.003      0.000      -0.236      -0.081\n",
       "bs(dis, df=14, degree=3, include_intercept=False)[7]     -0.1497      0.038     -3.945      0.000      -0.224      -0.075\n",
       "bs(dis, df=14, degree=3, include_intercept=False)[8]     -0.1470      0.038     -3.820      0.000      -0.222      -0.072\n",
       "bs(dis, df=14, degree=3, include_intercept=False)[9]     -0.2224      0.038     -5.884      0.000      -0.296      -0.148\n",
       "bs(dis, df=14, degree=3, include_intercept=False)[10]    -0.1884      0.037     -5.084      0.000      -0.261      -0.116\n",
       "bs(dis, df=14, degree=3, include_intercept=False)[11]    -0.2794      0.051     -5.468      0.000      -0.380      -0.179\n",
       "bs(dis, df=14, degree=3, include_intercept=False)[12]    -0.2097      0.073     -2.873      0.004      -0.353      -0.067\n",
       "bs(dis, df=14, degree=3, include_intercept=False)[13]    -0.2532      0.066     -3.835      0.000      -0.383      -0.124\n",
       "=========================================================================================================================\n",
       "\"\"\""
      ]
     },
     "execution_count": 35,
     "metadata": {},
     "output_type": "execute_result"
    },
    {
     "data": {
      "image/png": "[encoded data removed]",
      "text/plain": [
       "<Figure size 720x576 with 1 Axes>"
      ]
     },
     "metadata": {
      "needs_background": "light"
     },
     "output_type": "display_data"
    }
   ],
   "source": [
    "dm = dmatrix(\n",
    "    'bs(dis, df=14, degree=3, include_intercept=False)',\n",
    "    {'dis': data.dis}, return_type='dataframe'\n",
    ")\n",
    "model = sm.GLM(data.nox, dm).fit()\n",
    "dis_for_plot = np.linspace(data.dis.min(), data.dis.max(), data.dis.size).reshape(-1, 1)\n",
    "dm_for_plot = dmatrix(\n",
    "    'bs(dis, df=14, degree=3, include_intercept=False)',\n",
    "    {'dis': dis_for_plot}, return_type='dataframe'\n",
    ")\n",
    "pred_res = model.get_prediction(dm_for_plot).summary_frame()\n",
    "\n",
    "plt.figure(figsize=(10,8))\n",
    "plt.plot(data.dis, data.nox, 'o', c='#dddddd')\n",
    "plt.plot(dis_for_plot, pred_res['mean'], color='r', lw=3)\n",
    "plt.plot(dis_for_plot, pred_res['mean_ci_lower'], 'g--', lw=3)\n",
    "plt.plot(dis_for_plot, pred_res['mean_ci_upper'], 'g--', lw=3)\n",
    "model.summary()"
   ]
  },
  {
   "cell_type": "markdown",
   "metadata": {},
   "source": [
    "# Ex. 10"
   ]
  },
  {
   "cell_type": "code",
   "execution_count": 72,
   "metadata": {},
   "outputs": [
    {
     "data": {
      "text/html": [
       "<div>\n",
       "<style scoped>\n",
       "    .dataframe tbody tr th:only-of-type {\n",
       "        vertical-align: middle;\n",
       "    }\n",
       "\n",
       "    .dataframe tbody tr th {\n",
       "        vertical-align: top;\n",
       "    }\n",
       "\n",
       "    .dataframe thead th {\n",
       "        text-align: right;\n",
       "    }\n",
       "</style>\n",
       "<table border=\"1\" class=\"dataframe\">\n",
       "  <thead>\n",
       "    <tr style=\"text-align: right;\">\n",
       "      <th></th>\n",
       "      <th>Private</th>\n",
       "      <th>Apps</th>\n",
       "      <th>Accept</th>\n",
       "      <th>Enroll</th>\n",
       "      <th>Top10perc</th>\n",
       "      <th>Top25perc</th>\n",
       "      <th>F_Undergrad</th>\n",
       "      <th>P_Undergrad</th>\n",
       "      <th>Outstate</th>\n",
       "      <th>Room_Board</th>\n",
       "      <th>Books</th>\n",
       "      <th>Personal</th>\n",
       "      <th>PhD</th>\n",
       "      <th>Terminal</th>\n",
       "      <th>S_F_Ratio</th>\n",
       "      <th>perc_alumni</th>\n",
       "      <th>Expend</th>\n",
       "      <th>Grad_Rate</th>\n",
       "    </tr>\n",
       "  </thead>\n",
       "  <tbody>\n",
       "    <tr>\n",
       "      <th>0</th>\n",
       "      <td>1</td>\n",
       "      <td>1660</td>\n",
       "      <td>1232</td>\n",
       "      <td>721</td>\n",
       "      <td>23</td>\n",
       "      <td>52</td>\n",
       "      <td>2885</td>\n",
       "      <td>537</td>\n",
       "      <td>7440</td>\n",
       "      <td>3300</td>\n",
       "      <td>450</td>\n",
       "      <td>2200</td>\n",
       "      <td>70</td>\n",
       "      <td>78</td>\n",
       "      <td>18.1</td>\n",
       "      <td>12</td>\n",
       "      <td>7041</td>\n",
       "      <td>60</td>\n",
       "    </tr>\n",
       "    <tr>\n",
       "      <th>1</th>\n",
       "      <td>1</td>\n",
       "      <td>2186</td>\n",
       "      <td>1924</td>\n",
       "      <td>512</td>\n",
       "      <td>16</td>\n",
       "      <td>29</td>\n",
       "      <td>2683</td>\n",
       "      <td>1227</td>\n",
       "      <td>12280</td>\n",
       "      <td>6450</td>\n",
       "      <td>750</td>\n",
       "      <td>1500</td>\n",
       "      <td>29</td>\n",
       "      <td>30</td>\n",
       "      <td>12.2</td>\n",
       "      <td>16</td>\n",
       "      <td>10527</td>\n",
       "      <td>56</td>\n",
       "    </tr>\n",
       "    <tr>\n",
       "      <th>2</th>\n",
       "      <td>1</td>\n",
       "      <td>1428</td>\n",
       "      <td>1097</td>\n",
       "      <td>336</td>\n",
       "      <td>22</td>\n",
       "      <td>50</td>\n",
       "      <td>1036</td>\n",
       "      <td>99</td>\n",
       "      <td>11250</td>\n",
       "      <td>3750</td>\n",
       "      <td>400</td>\n",
       "      <td>1165</td>\n",
       "      <td>53</td>\n",
       "      <td>66</td>\n",
       "      <td>12.9</td>\n",
       "      <td>30</td>\n",
       "      <td>8735</td>\n",
       "      <td>54</td>\n",
       "    </tr>\n",
       "    <tr>\n",
       "      <th>3</th>\n",
       "      <td>1</td>\n",
       "      <td>417</td>\n",
       "      <td>349</td>\n",
       "      <td>137</td>\n",
       "      <td>60</td>\n",
       "      <td>89</td>\n",
       "      <td>510</td>\n",
       "      <td>63</td>\n",
       "      <td>12960</td>\n",
       "      <td>5450</td>\n",
       "      <td>450</td>\n",
       "      <td>875</td>\n",
       "      <td>92</td>\n",
       "      <td>97</td>\n",
       "      <td>7.7</td>\n",
       "      <td>37</td>\n",
       "      <td>19016</td>\n",
       "      <td>59</td>\n",
       "    </tr>\n",
       "    <tr>\n",
       "      <th>4</th>\n",
       "      <td>1</td>\n",
       "      <td>193</td>\n",
       "      <td>146</td>\n",
       "      <td>55</td>\n",
       "      <td>16</td>\n",
       "      <td>44</td>\n",
       "      <td>249</td>\n",
       "      <td>869</td>\n",
       "      <td>7560</td>\n",
       "      <td>4120</td>\n",
       "      <td>800</td>\n",
       "      <td>1500</td>\n",
       "      <td>76</td>\n",
       "      <td>72</td>\n",
       "      <td>11.9</td>\n",
       "      <td>2</td>\n",
       "      <td>10922</td>\n",
       "      <td>15</td>\n",
       "    </tr>\n",
       "  </tbody>\n",
       "</table>\n",
       "</div>"
      ],
      "text/plain": [
       "   Private  Apps  Accept  Enroll  Top10perc  Top25perc  F_Undergrad  \\\n",
       "0        1  1660    1232     721         23         52         2885   \n",
       "1        1  2186    1924     512         16         29         2683   \n",
       "2        1  1428    1097     336         22         50         1036   \n",
       "3        1   417     349     137         60         89          510   \n",
       "4        1   193     146      55         16         44          249   \n",
       "\n",
       "   P_Undergrad  Outstate  Room_Board  Books  Personal  PhD  Terminal  \\\n",
       "0          537      7440        3300    450      2200   70        78   \n",
       "1         1227     12280        6450    750      1500   29        30   \n",
       "2           99     11250        3750    400      1165   53        66   \n",
       "3           63     12960        5450    450       875   92        97   \n",
       "4          869      7560        4120    800      1500   76        72   \n",
       "\n",
       "   S_F_Ratio  perc_alumni  Expend  Grad_Rate  \n",
       "0       18.1           12    7041         60  \n",
       "1       12.2           16   10527         56  \n",
       "2       12.9           30    8735         54  \n",
       "3        7.7           37   19016         59  \n",
       "4       11.9            2   10922         15  "
      ]
     },
     "execution_count": 72,
     "metadata": {},
     "output_type": "execute_result"
    }
   ],
   "source": [
    "dataset_file = '../datasets/College.csv'\n",
    "data = pd.read_csv(dataset_file)\n",
    "data.rename({\n",
    "    'F.Undergrad': 'F_Undergrad',\n",
    "    'P.Undergrad': 'P_Undergrad',\n",
    "    'Room.Board': 'Room_Board',\n",
    "    'S.F.Ratio': 'S_F_Ratio',\n",
    "    'perc.alumni': 'perc_alumni',\n",
    "    'Grad.Rate': 'Grad_Rate'\n",
    "}, axis=1, inplace=True)\n",
    "data.Private = data.Private.apply(lambda v: 1 if v == 'Yes' else 0)\n",
    "data.head()"
   ]
  },
  {
   "cell_type": "code",
   "execution_count": 73,
   "metadata": {},
   "outputs": [],
   "source": [
    "def forward_stepwise_selection(X, y, verbose=True):\n",
    "    p = X.shape[1]\n",
    "    best_of_k = {}\n",
    "    best_of_k[0] = []\n",
    "    for k in range(1, p + 1):\n",
    "        names_candidates = [best_of_k[k - 1] + [name] for name in X.columns if name not in best_of_k[k - 1]]\n",
    "        models = [(names, sm.OLS(y, sm.add_constant(X[names])).fit().rsquared) for names in names_candidates]\n",
    "        best_of_k[k] = max(models, key=lambda model: model[1])[0]\n",
    "        if verbose:\n",
    "            print(k, best_of_k[k])\n",
    "\n",
    "    return best_of_k"
   ]
  },
  {
   "cell_type": "code",
   "execution_count": 74,
   "metadata": {},
   "outputs": [],
   "source": [
    "from sklearn.model_selection import train_test_split"
   ]
  },
  {
   "cell_type": "code",
   "execution_count": 103,
   "metadata": {},
   "outputs": [],
   "source": [
    "train, test = train_test_split(data, test_size=.5, random_state=228)"
   ]
  },
  {
   "cell_type": "code",
   "execution_count": 104,
   "metadata": {},
   "outputs": [
    {
     "name": "stdout",
     "output_type": "stream",
     "text": [
      "1 ['Expend']\n",
      "2 ['Expend', 'Room_Board']\n",
      "3 ['Expend', 'Room_Board', 'Private']\n",
      "4 ['Expend', 'Room_Board', 'Private', 'Grad_Rate']\n",
      "5 ['Expend', 'Room_Board', 'Private', 'Grad_Rate', 'Terminal']\n",
      "6 ['Expend', 'Room_Board', 'Private', 'Grad_Rate', 'Terminal', 'perc_alumni']\n",
      "7 ['Expend', 'Room_Board', 'Private', 'Grad_Rate', 'Terminal', 'perc_alumni', 'Accept']\n",
      "8 ['Expend', 'Room_Board', 'Private', 'Grad_Rate', 'Terminal', 'perc_alumni', 'Accept', 'Enroll']\n",
      "9 ['Expend', 'Room_Board', 'Private', 'Grad_Rate', 'Terminal', 'perc_alumni', 'Accept', 'Enroll', 'Top10perc']\n",
      "10 ['Expend', 'Room_Board', 'Private', 'Grad_Rate', 'Terminal', 'perc_alumni', 'Accept', 'Enroll', 'Top10perc', 'Apps']\n",
      "11 ['Expend', 'Room_Board', 'Private', 'Grad_Rate', 'Terminal', 'perc_alumni', 'Accept', 'Enroll', 'Top10perc', 'Apps', 'S_F_Ratio']\n",
      "12 ['Expend', 'Room_Board', 'Private', 'Grad_Rate', 'Terminal', 'perc_alumni', 'Accept', 'Enroll', 'Top10perc', 'Apps', 'S_F_Ratio', 'Personal']\n",
      "13 ['Expend', 'Room_Board', 'Private', 'Grad_Rate', 'Terminal', 'perc_alumni', 'Accept', 'Enroll', 'Top10perc', 'Apps', 'S_F_Ratio', 'Personal', 'PhD']\n",
      "14 ['Expend', 'Room_Board', 'Private', 'Grad_Rate', 'Terminal', 'perc_alumni', 'Accept', 'Enroll', 'Top10perc', 'Apps', 'S_F_Ratio', 'Personal', 'PhD', 'Top25perc']\n",
      "15 ['Expend', 'Room_Board', 'Private', 'Grad_Rate', 'Terminal', 'perc_alumni', 'Accept', 'Enroll', 'Top10perc', 'Apps', 'S_F_Ratio', 'Personal', 'PhD', 'Top25perc', 'P_Undergrad']\n",
      "16 ['Expend', 'Room_Board', 'Private', 'Grad_Rate', 'Terminal', 'perc_alumni', 'Accept', 'Enroll', 'Top10perc', 'Apps', 'S_F_Ratio', 'Personal', 'PhD', 'Top25perc', 'P_Undergrad', 'F_Undergrad']\n",
      "17 ['Expend', 'Room_Board', 'Private', 'Grad_Rate', 'Terminal', 'perc_alumni', 'Accept', 'Enroll', 'Top10perc', 'Apps', 'S_F_Ratio', 'Personal', 'PhD', 'Top25perc', 'P_Undergrad', 'F_Undergrad', 'Books']\n"
     ]
    }
   ],
   "source": [
    "best_models = forward_stepwise_selection(train.drop(['Outstate'], axis=1), train.Outstate)"
   ]
  },
  {
   "cell_type": "code",
   "execution_count": 105,
   "metadata": {},
   "outputs": [
    {
     "data": {
      "text/plain": [
       "['Expend', 'Room_Board', 'Private', 'Grad_Rate', 'Terminal', 'perc_alumni']"
      ]
     },
     "execution_count": 105,
     "metadata": {},
     "output_type": "execute_result"
    },
    {
     "data": {
      "image/png": "[encoded data removed]",
      "text/plain": [
       "<Figure size 720x432 with 1 Axes>"
      ]
     },
     "metadata": {
      "needs_background": "light"
     },
     "output_type": "display_data"
    }
   ],
   "source": [
    "metrics = pd.Series(dtype=np.float64, index=list(best_models.keys()))\n",
    "train_X = train.drop(['Outstate'], axis=1)\n",
    "test_X = test.drop(['Outstate'], axis=1)\n",
    "train_y = train.Outstate\n",
    "test_y = test.Outstate\n",
    "for num, names in best_models.items():\n",
    "    model = sm.OLS(train_y, sm.add_constant(train_X[names])).fit()\n",
    "    metrics.loc[num] = mean_squared_error(test_y, model.predict(sm.add_constant(test_X[names])))\n",
    "\n",
    "plt.figure(figsize=(10,6))\n",
    "plt.plot(metrics.index, metrics, 'o-')\n",
    "plt.xticks(metrics.index)\n",
    "best = metrics.idxmin()\n",
    "plt.title(f'Best: {best}')\n",
    "best_models[best]"
   ]
  },
  {
   "cell_type": "code",
   "execution_count": 134,
   "metadata": {},
   "outputs": [
    {
     "data": {
      "text/html": [
       "<table class=\"simpletable\">\n",
       "<caption>OLS Regression Results</caption>\n",
       "<tr>\n",
       "  <th>Dep. Variable:</th>        <td>Outstate</td>     <th>  R-squared:         </th> <td>   0.746</td> \n",
       "</tr>\n",
       "<tr>\n",
       "  <th>Model:</th>                   <td>OLS</td>       <th>  Adj. R-squared:    </th> <td>   0.742</td> \n",
       "</tr>\n",
       "<tr>\n",
       "  <th>Method:</th>             <td>Least Squares</td>  <th>  F-statistic:       </th> <td>   186.3</td> \n",
       "</tr>\n",
       "<tr>\n",
       "  <th>Date:</th>             <td>Sun, 27 Sep 2020</td> <th>  Prob (F-statistic):</th> <td>4.94e-110</td>\n",
       "</tr>\n",
       "<tr>\n",
       "  <th>Time:</th>                 <td>16:21:45</td>     <th>  Log-Likelihood:    </th> <td> -3508.7</td> \n",
       "</tr>\n",
       "<tr>\n",
       "  <th>No. Observations:</th>      <td>   388</td>      <th>  AIC:               </th> <td>   7031.</td> \n",
       "</tr>\n",
       "<tr>\n",
       "  <th>Df Residuals:</th>          <td>   381</td>      <th>  BIC:               </th> <td>   7059.</td> \n",
       "</tr>\n",
       "<tr>\n",
       "  <th>Df Model:</th>              <td>     6</td>      <th>                     </th>     <td> </td>    \n",
       "</tr>\n",
       "<tr>\n",
       "  <th>Covariance Type:</th>      <td>nonrobust</td>    <th>                     </th>     <td> </td>    \n",
       "</tr>\n",
       "</table>\n",
       "<table class=\"simpletable\">\n",
       "<tr>\n",
       "       <td></td>          <th>coef</th>     <th>std err</th>      <th>t</th>      <th>P>|t|</th>  <th>[0.025</th>    <th>0.975]</th>  \n",
       "</tr>\n",
       "<tr>\n",
       "  <th>Intercept</th>   <td>-4363.9031</td> <td>  681.350</td> <td>   -6.405</td> <td> 0.000</td> <td>-5703.580</td> <td>-3024.227</td>\n",
       "</tr>\n",
       "<tr>\n",
       "  <th>Expend</th>      <td>    0.2058</td> <td>    0.024</td> <td>    8.752</td> <td> 0.000</td> <td>    0.160</td> <td>    0.252</td>\n",
       "</tr>\n",
       "<tr>\n",
       "  <th>Room_Board</th>  <td>    0.9482</td> <td>    0.119</td> <td>    7.937</td> <td> 0.000</td> <td>    0.713</td> <td>    1.183</td>\n",
       "</tr>\n",
       "<tr>\n",
       "  <th>Private</th>     <td> 2933.3038</td> <td>  286.347</td> <td>   10.244</td> <td> 0.000</td> <td> 2370.286</td> <td> 3496.322</td>\n",
       "</tr>\n",
       "<tr>\n",
       "  <th>Grad_Rate</th>   <td>   43.3284</td> <td>    7.634</td> <td>    5.675</td> <td> 0.000</td> <td>   28.318</td> <td>   58.339</td>\n",
       "</tr>\n",
       "<tr>\n",
       "  <th>Terminal</th>    <td>   41.3804</td> <td>    8.685</td> <td>    4.765</td> <td> 0.000</td> <td>   24.304</td> <td>   58.457</td>\n",
       "</tr>\n",
       "<tr>\n",
       "  <th>perc_alumni</th> <td>   21.1371</td> <td>   10.548</td> <td>    2.004</td> <td> 0.046</td> <td>    0.397</td> <td>   41.877</td>\n",
       "</tr>\n",
       "</table>\n",
       "<table class=\"simpletable\">\n",
       "<tr>\n",
       "  <th>Omnibus:</th>       <td> 1.718</td> <th>  Durbin-Watson:     </th> <td>   2.009</td>\n",
       "</tr>\n",
       "<tr>\n",
       "  <th>Prob(Omnibus):</th> <td> 0.424</td> <th>  Jarque-Bera (JB):  </th> <td>   1.561</td>\n",
       "</tr>\n",
       "<tr>\n",
       "  <th>Skew:</th>          <td>-0.048</td> <th>  Prob(JB):          </th> <td>   0.458</td>\n",
       "</tr>\n",
       "<tr>\n",
       "  <th>Kurtosis:</th>      <td> 3.295</td> <th>  Cond. No.          </th> <td>7.92e+04</td>\n",
       "</tr>\n",
       "</table><br/><br/>Notes:<br/>[1] Standard Errors assume that the covariance matrix of the errors is correctly specified.<br/>[2] The condition number is large, 7.92e+04. This might indicate that there are<br/>strong multicollinearity or other numerical problems."
      ],
      "text/plain": [
       "<class 'statsmodels.iolib.summary.Summary'>\n",
       "\"\"\"\n",
       "                            OLS Regression Results                            \n",
       "==============================================================================\n",
       "Dep. Variable:               Outstate   R-squared:                       0.746\n",
       "Model:                            OLS   Adj. R-squared:                  0.742\n",
       "Method:                 Least Squares   F-statistic:                     186.3\n",
       "Date:                Sun, 27 Sep 2020   Prob (F-statistic):          4.94e-110\n",
       "Time:                        16:21:45   Log-Likelihood:                -3508.7\n",
       "No. Observations:                 388   AIC:                             7031.\n",
       "Df Residuals:                     381   BIC:                             7059.\n",
       "Df Model:                           6                                         \n",
       "Covariance Type:            nonrobust                                         \n",
       "===============================================================================\n",
       "                  coef    std err          t      P>|t|      [0.025      0.975]\n",
       "-------------------------------------------------------------------------------\n",
       "Intercept   -4363.9031    681.350     -6.405      0.000   -5703.580   -3024.227\n",
       "Expend          0.2058      0.024      8.752      0.000       0.160       0.252\n",
       "Room_Board      0.9482      0.119      7.937      0.000       0.713       1.183\n",
       "Private      2933.3038    286.347     10.244      0.000    2370.286    3496.322\n",
       "Grad_Rate      43.3284      7.634      5.675      0.000      28.318      58.339\n",
       "Terminal       41.3804      8.685      4.765      0.000      24.304      58.457\n",
       "perc_alumni    21.1371     10.548      2.004      0.046       0.397      41.877\n",
       "==============================================================================\n",
       "Omnibus:                        1.718   Durbin-Watson:                   2.009\n",
       "Prob(Omnibus):                  0.424   Jarque-Bera (JB):                1.561\n",
       "Skew:                          -0.048   Prob(JB):                        0.458\n",
       "Kurtosis:                       3.295   Cond. No.                     7.92e+04\n",
       "==============================================================================\n",
       "\n",
       "Notes:\n",
       "[1] Standard Errors assume that the covariance matrix of the errors is correctly specified.\n",
       "[2] The condition number is large, 7.92e+04. This might indicate that there are\n",
       "strong multicollinearity or other numerical problems.\n",
       "\"\"\""
      ]
     },
     "execution_count": 134,
     "metadata": {},
     "output_type": "execute_result"
    }
   ],
   "source": [
    "model1 = sm.OLS.from_formula('Outstate~Expend+Room_Board+Private+Grad_Rate+Terminal+perc_alumni', data=train).fit()\n",
    "model1.summary()"
   ]
  },
  {
   "cell_type": "code",
   "execution_count": 136,
   "metadata": {},
   "outputs": [
    {
     "data": {
      "text/html": [
       "<table class=\"simpletable\">\n",
       "<caption>Generalized Linear Model Regression Results</caption>\n",
       "<tr>\n",
       "  <th>Dep. Variable:</th>       <td>Outstate</td>     <th>  No. Observations:  </th>   <td>   388</td>  \n",
       "</tr>\n",
       "<tr>\n",
       "  <th>Model:</th>                <td>GLMGam</td>      <th>  Df Residuals:      </th>   <td>   371</td>  \n",
       "</tr>\n",
       "<tr>\n",
       "  <th>Model Family:</th>        <td>Gaussian</td>     <th>  Df Model:          </th>  <td>   16.00</td> \n",
       "</tr>\n",
       "<tr>\n",
       "  <th>Link Function:</th>       <td>identity</td>     <th>  Scale:             </th> <td>3.6177e+06</td>\n",
       "</tr>\n",
       "<tr>\n",
       "  <th>Method:</th>                <td>PIRLS</td>      <th>  Log-Likelihood:    </th>  <td> -3471.5</td> \n",
       "</tr>\n",
       "<tr>\n",
       "  <th>Date:</th>            <td>Sun, 27 Sep 2020</td> <th>  Deviance:          </th> <td>1.3422e+09</td>\n",
       "</tr>\n",
       "<tr>\n",
       "  <th>Time:</th>                <td>16:21:59</td>     <th>  Pearson chi2:      </th>  <td>1.34e+09</td> \n",
       "</tr>\n",
       "<tr>\n",
       "  <th>No. Iterations:</th>          <td>3</td>        <th>                     </th>      <td> </td>    \n",
       "</tr>\n",
       "<tr>\n",
       "  <th>Covariance Type:</th>     <td>nonrobust</td>    <th>                     </th>      <td> </td>    \n",
       "</tr>\n",
       "</table>\n",
       "<table class=\"simpletable\">\n",
       "<tr>\n",
       "         <td></td>           <th>coef</th>     <th>std err</th>      <th>z</th>      <th>P>|z|</th>  <th>[0.025</th>    <th>0.975]</th>  \n",
       "</tr>\n",
       "<tr>\n",
       "  <th>Intercept</th>      <td> 2127.0516</td> <td> 1814.907</td> <td>    1.172</td> <td> 0.241</td> <td>-1430.101</td> <td> 5684.204</td>\n",
       "</tr>\n",
       "<tr>\n",
       "  <th>Private</th>        <td> 2408.5151</td> <td>  282.968</td> <td>    8.512</td> <td> 0.000</td> <td> 1853.908</td> <td> 2963.122</td>\n",
       "</tr>\n",
       "<tr>\n",
       "  <th>Expend_s0</th>      <td> 1.382e+04</td> <td> 1767.070</td> <td>    7.819</td> <td> 0.000</td> <td> 1.04e+04</td> <td> 1.73e+04</td>\n",
       "</tr>\n",
       "<tr>\n",
       "  <th>Expend_s1</th>      <td> 6628.4926</td> <td> 2321.883</td> <td>    2.855</td> <td> 0.004</td> <td> 2077.686</td> <td> 1.12e+04</td>\n",
       "</tr>\n",
       "<tr>\n",
       "  <th>Expend_s2</th>      <td> 7866.0523</td> <td> 1974.823</td> <td>    3.983</td> <td> 0.000</td> <td> 3995.470</td> <td> 1.17e+04</td>\n",
       "</tr>\n",
       "<tr>\n",
       "  <th>Room_Board_s0</th>  <td>  702.1221</td> <td> 1917.735</td> <td>    0.366</td> <td> 0.714</td> <td>-3056.570</td> <td> 4460.814</td>\n",
       "</tr>\n",
       "<tr>\n",
       "  <th>Room_Board_s1</th>  <td> 4610.6219</td> <td> 1191.706</td> <td>    3.869</td> <td> 0.000</td> <td> 2274.922</td> <td> 6946.322</td>\n",
       "</tr>\n",
       "<tr>\n",
       "  <th>Room_Board_s2</th>  <td> 2730.0597</td> <td> 1709.784</td> <td>    1.597</td> <td> 0.110</td> <td> -621.055</td> <td> 6081.174</td>\n",
       "</tr>\n",
       "<tr>\n",
       "  <th>Grad_Rate_s0</th>   <td> -696.8772</td> <td> 2066.389</td> <td>   -0.337</td> <td> 0.736</td> <td>-4746.926</td> <td> 3353.171</td>\n",
       "</tr>\n",
       "<tr>\n",
       "  <th>Grad_Rate_s1</th>   <td> 2410.1665</td> <td> 1025.649</td> <td>    2.350</td> <td> 0.019</td> <td>  399.932</td> <td> 4420.401</td>\n",
       "</tr>\n",
       "<tr>\n",
       "  <th>Grad_Rate_s2</th>   <td> 2416.9693</td> <td> 1248.327</td> <td>    1.936</td> <td> 0.053</td> <td>  -29.707</td> <td> 4863.646</td>\n",
       "</tr>\n",
       "<tr>\n",
       "  <th>Terminal_s0</th>    <td>-2115.2668</td> <td> 2491.706</td> <td>   -0.849</td> <td> 0.396</td> <td>-6998.921</td> <td> 2768.387</td>\n",
       "</tr>\n",
       "<tr>\n",
       "  <th>Terminal_s1</th>    <td> -189.8850</td> <td> 1144.528</td> <td>   -0.166</td> <td> 0.868</td> <td>-2433.119</td> <td> 2053.349</td>\n",
       "</tr>\n",
       "<tr>\n",
       "  <th>Terminal_s2</th>    <td> -119.2776</td> <td> 1425.535</td> <td>   -0.084</td> <td> 0.933</td> <td>-2913.275</td> <td> 2674.720</td>\n",
       "</tr>\n",
       "<tr>\n",
       "  <th>perc_alumni_s0</th> <td>  416.2557</td> <td> 1483.356</td> <td>    0.281</td> <td> 0.779</td> <td>-2491.068</td> <td> 3323.579</td>\n",
       "</tr>\n",
       "<tr>\n",
       "  <th>perc_alumni_s1</th> <td> -121.6207</td> <td> 1024.466</td> <td>   -0.119</td> <td> 0.906</td> <td>-2129.538</td> <td> 1886.297</td>\n",
       "</tr>\n",
       "<tr>\n",
       "  <th>perc_alumni_s2</th> <td> 1614.2501</td> <td> 1303.871</td> <td>    1.238</td> <td> 0.216</td> <td> -941.289</td> <td> 4169.789</td>\n",
       "</tr>\n",
       "</table>"
      ],
      "text/plain": [
       "<class 'statsmodels.iolib.summary.Summary'>\n",
       "\"\"\"\n",
       "                 Generalized Linear Model Regression Results                  \n",
       "==============================================================================\n",
       "Dep. Variable:               Outstate   No. Observations:                  388\n",
       "Model:                         GLMGam   Df Residuals:                      371\n",
       "Model Family:                Gaussian   Df Model:                        16.00\n",
       "Link Function:               identity   Scale:                      3.6177e+06\n",
       "Method:                         PIRLS   Log-Likelihood:                -3471.5\n",
       "Date:                Sun, 27 Sep 2020   Deviance:                   1.3422e+09\n",
       "Time:                        16:21:59   Pearson chi2:                 1.34e+09\n",
       "No. Iterations:                     3                                         \n",
       "Covariance Type:            nonrobust                                         \n",
       "==================================================================================\n",
       "                     coef    std err          z      P>|z|      [0.025      0.975]\n",
       "----------------------------------------------------------------------------------\n",
       "Intercept       2127.0516   1814.907      1.172      0.241   -1430.101    5684.204\n",
       "Private         2408.5151    282.968      8.512      0.000    1853.908    2963.122\n",
       "Expend_s0       1.382e+04   1767.070      7.819      0.000    1.04e+04    1.73e+04\n",
       "Expend_s1       6628.4926   2321.883      2.855      0.004    2077.686    1.12e+04\n",
       "Expend_s2       7866.0523   1974.823      3.983      0.000    3995.470    1.17e+04\n",
       "Room_Board_s0    702.1221   1917.735      0.366      0.714   -3056.570    4460.814\n",
       "Room_Board_s1   4610.6219   1191.706      3.869      0.000    2274.922    6946.322\n",
       "Room_Board_s2   2730.0597   1709.784      1.597      0.110    -621.055    6081.174\n",
       "Grad_Rate_s0    -696.8772   2066.389     -0.337      0.736   -4746.926    3353.171\n",
       "Grad_Rate_s1    2410.1665   1025.649      2.350      0.019     399.932    4420.401\n",
       "Grad_Rate_s2    2416.9693   1248.327      1.936      0.053     -29.707    4863.646\n",
       "Terminal_s0    -2115.2668   2491.706     -0.849      0.396   -6998.921    2768.387\n",
       "Terminal_s1     -189.8850   1144.528     -0.166      0.868   -2433.119    2053.349\n",
       "Terminal_s2     -119.2776   1425.535     -0.084      0.933   -2913.275    2674.720\n",
       "perc_alumni_s0   416.2557   1483.356      0.281      0.779   -2491.068    3323.579\n",
       "perc_alumni_s1  -121.6207   1024.466     -0.119      0.906   -2129.538    1886.297\n",
       "perc_alumni_s2  1614.2501   1303.871      1.238      0.216    -941.289    4169.789\n",
       "==================================================================================\n",
       "\"\"\""
      ]
     },
     "execution_count": 136,
     "metadata": {},
     "output_type": "execute_result"
    }
   ],
   "source": [
    "bs = sm.gam.BSplines(train_X[best_models[best]].drop(['Private'], axis=1), df=[4,4,4,4,4], degree=[3,3,3,3,3])\n",
    "model2 = sm.GLMGam.from_formula(\n",
    "    'Outstate~Private',\n",
    "    data=train, smoother=bs, alpha=np.array([0,0,0,0,0])\n",
    ").fit()\n",
    "model2.summary()"
   ]
  },
  {
   "cell_type": "code",
   "execution_count": 152,
   "metadata": {},
   "outputs": [
    {
     "data": {
      "image/png": "[encoded data removed]",
      "text/plain": [
       "<Figure size 432x288 with 1 Axes>"
      ]
     },
     "execution_count": 152,
     "metadata": {},
     "output_type": "execute_result"
    },
    {
     "data": {
      "image/png": "[encoded data removed]",
      "text/plain": [
       "<Figure size 432x288 with 1 Axes>"
      ]
     },
     "metadata": {
      "needs_background": "light"
     },
     "output_type": "display_data"
    }
   ],
   "source": [
    "model2.plot_partial(4, cpr=True)"
   ]
  },
  {
   "cell_type": "code",
   "execution_count": 138,
   "metadata": {},
   "outputs": [
    {
     "data": {
      "text/plain": [
       "4135785.071956876"
      ]
     },
     "execution_count": 138,
     "metadata": {},
     "output_type": "execute_result"
    }
   ],
   "source": [
    "mean_squared_error(test_y, model1.predict(test_X[best_models[best]]))"
   ]
  },
  {
   "cell_type": "code",
   "execution_count": 166,
   "metadata": {},
   "outputs": [
    {
     "data": {
      "text/plain": [
       "4145383.9648774527"
      ]
     },
     "execution_count": 166,
     "metadata": {},
     "output_type": "execute_result"
    }
   ],
   "source": [
    "bs = sm.gam.BSplines(test_X[best_models[best]].drop(['Private'], axis=1), df=[4,4,4,4,4], degree=[3,3,3,3,3])\n",
    "preds = model2.predict(sm.add_constant(test_X.Private), bs.basis, transform=False)\n",
    "mean_squared_error(test_y, preds)"
   ]
  },
  {
   "cell_type": "markdown",
   "metadata": {},
   "source": [
    "Models don't seem to outperform each other."
   ]
  },
  {
   "cell_type": "markdown",
   "metadata": {},
   "source": [
    "# Ex. 11"
   ]
  },
  {
   "cell_type": "code",
   "execution_count": 202,
   "metadata": {},
   "outputs": [],
   "source": [
    "np.random.seed(1)\n",
    "size = 100\n",
    "X1 = np.random.normal(size=size)\n",
    "X2 = np.random.normal(size=size)\n",
    "y = np.random.normal(size=size)\n",
    "b1 = 5"
   ]
  },
  {
   "cell_type": "code",
   "execution_count": 203,
   "metadata": {},
   "outputs": [],
   "source": [
    "model = sm.OLS(y - b1 * X1, sm.add_constant(X2)).fit()\n",
    "b2 = model.params[1]"
   ]
  },
  {
   "cell_type": "code",
   "execution_count": 204,
   "metadata": {},
   "outputs": [
    {
     "data": {
      "text/plain": [
       "-0.020318635816773165"
      ]
     },
     "execution_count": 204,
     "metadata": {},
     "output_type": "execute_result"
    }
   ],
   "source": [
    "model = sm.OLS(y - b2 * X2, sm.add_constant(X1)).fit()\n",
    "model.params[1]"
   ]
  },
  {
   "cell_type": "code",
   "execution_count": 289,
   "metadata": {},
   "outputs": [],
   "source": [
    "iters = 10\n",
    "coefs = np.empty((iters, 3), dtype=float)\n",
    "b1 = 5\n",
    "for i in range(iters):\n",
    "    model = sm.OLS(y - b1 * X1, sm.add_constant(X2)).fit()\n",
    "    b0, b2 = model.params\n",
    "    model = sm.OLS(y - b2 * X2, sm.add_constant(X1)).fit()\n",
    "    b0, b1 = model.params\n",
    "    coefs[i] = b0, b1, b2"
   ]
  },
  {
   "cell_type": "code",
   "execution_count": 290,
   "metadata": {},
   "outputs": [
    {
     "data": {
      "text/plain": [
       "[<matplotlib.lines.Line2D at 0x7f4bca73c550>]"
      ]
     },
     "execution_count": 290,
     "metadata": {},
     "output_type": "execute_result"
    },
    {
     "data": {
      "image/png": "[encoded data removed]",
      "text/plain": [
       "<Figure size 432x288 with 1 Axes>"
      ]
     },
     "metadata": {
      "needs_background": "light"
     },
     "output_type": "display_data"
    }
   ],
   "source": [
    "plt.plot(np.arange(iters), coefs[:, 0], label='B0')\n",
    "plt.plot(np.arange(iters), coefs[:, 1], label='B1')\n",
    "plt.plot(np.arange(iters), coefs[:, 2], label='B2')"
   ]
  },
  {
   "cell_type": "code",
   "execution_count": 291,
   "metadata": {},
   "outputs": [
    {
     "data": {
      "text/plain": [
       "array([-0.03908791,  0.0889951 ,  0.00288117])"
      ]
     },
     "execution_count": 291,
     "metadata": {},
     "output_type": "execute_result"
    }
   ],
   "source": [
    "coefs[-1]"
   ]
  },
  {
   "cell_type": "code",
   "execution_count": 292,
   "metadata": {},
   "outputs": [
    {
     "data": {
      "text/plain": [
       "array([-0.03908791,  0.0889951 ,  0.00288117])"
      ]
     },
     "execution_count": 292,
     "metadata": {},
     "output_type": "execute_result"
    }
   ],
   "source": [
    "model = sm.OLS(y, sm.add_constant(np.array([X1, X2]).T)).fit()\n",
    "model.params"
   ]
  },
  {
   "cell_type": "markdown",
   "metadata": {},
   "source": [
    "It required only one iteration for convergence."
   ]
  },
  {
   "cell_type": "markdown",
   "metadata": {},
   "source": [
    "# Ex. 12"
   ]
  },
  {
   "cell_type": "code",
   "execution_count": 293,
   "metadata": {},
   "outputs": [],
   "source": [
    "np.random.seed(1)\n",
    "size = 100\n",
    "p = 101\n",
    "X = np.empty([p, size], dtype=float)\n",
    "\n",
    "for i in range(p):\n",
    "    if i == 0:\n",
    "        X[i] = np.ones([size,], dtype=float)\n",
    "    else:\n",
    "        X[i] = np.random.normal(size=size)\n",
    "X = X.T\n",
    "y = np.random.normal(size=size)"
   ]
  },
  {
   "cell_type": "code",
   "execution_count": 294,
   "metadata": {},
   "outputs": [
    {
     "name": "stdout",
     "output_type": "stream",
     "text": [
      "CPU times: user 6min 18s, sys: 4min 30s, total: 10min 49s\n",
      "Wall time: 2min 46s\n"
     ]
    }
   ],
   "source": [
    "%%time\n",
    "iters = 2000\n",
    "coefs = np.empty((iters, p), dtype=float)\n",
    "b = np.ones([p,], dtype=float)\n",
    "\n",
    "for i in range(iters):\n",
    "    for j in range(1, p):\n",
    "        response = y - np.dot(X, b) + b[j] * X[:, j]\n",
    "        model = sm.OLS(response, sm.add_constant(X[:, j])).fit()\n",
    "        b[0] = model.params[0]\n",
    "        b[j] = model.params[1]\n",
    "    coefs[i] = b"
   ]
  },
  {
   "cell_type": "code",
   "execution_count": 295,
   "metadata": {},
   "outputs": [
    {
     "data": {
      "text/plain": [
       "array([-1.47587108, -1.44191029, -3.00507233,  2.11839807,  0.60383643,\n",
       "        0.49988416, -0.17010187,  0.94929221,  0.40606131, -2.94202506,\n",
       "        0.33542301, -1.00044229, -0.42392226, -0.88045486,  1.89551608,\n",
       "       -0.89868043,  2.26204626, -0.05924098, -0.24583223,  5.08740123,\n",
       "       -1.87211257, -3.95741118,  1.93507009,  3.28116738, -2.35140687,\n",
       "       -3.38902503,  3.20206013,  1.58392332, -1.80823831, -0.84760814,\n",
       "        0.58203703,  2.46748997,  0.37195892,  2.11955194, -0.20561012,\n",
       "        1.93964062, -1.84069185,  0.82857004, -0.43772863,  0.39032184,\n",
       "        1.97156131, -2.38478093,  0.84111516,  2.58840735, -2.33402788,\n",
       "       -0.77618713,  1.2678895 , -0.00779141, -2.9792121 , -1.79950632,\n",
       "        3.78701438,  0.06611758,  1.52652707, -1.05711295, -2.79351533,\n",
       "       -1.23232913, -2.5284673 ,  2.74257991,  0.67996418, -0.41395004,\n",
       "       -3.25160823,  2.54172364,  0.2921561 ,  1.21709464, -0.64940183,\n",
       "        0.02248578, -0.708276  , -1.01320496,  0.3651454 ,  0.52799625,\n",
       "        0.77473093, -1.17424567,  2.38998344, -0.92229703,  1.22504461,\n",
       "       -0.15608693, -1.29227481,  1.93978975,  0.51448624, -0.50027732,\n",
       "        0.69166367, -0.48521478,  0.96099639, -0.0125826 ,  0.65085946,\n",
       "       -1.99802701, -0.45436148, -1.14861156,  0.06303672, -3.20600169,\n",
       "       -2.14435604,  2.43061916, -1.74766012, -1.46066524, -0.41053873,\n",
       "        1.13012827, -0.0991853 , -2.18751877, -1.54868382, -3.09105788,\n",
       "        0.97273188])"
      ]
     },
     "execution_count": 295,
     "metadata": {},
     "output_type": "execute_result"
    }
   ],
   "source": [
    "model = sm.OLS(y, sm.add_constant(X)).fit()\n",
    "model.params"
   ]
  },
  {
   "cell_type": "code",
   "execution_count": 296,
   "metadata": {},
   "outputs": [],
   "source": [
    "mse = []\n",
    "for coef in coefs:\n",
    "    mse.append(mean_squared_error(y, np.dot(X, coef)))"
   ]
  },
  {
   "cell_type": "code",
   "execution_count": 297,
   "metadata": {},
   "outputs": [
    {
     "data": {
      "text/plain": [
       "[<matplotlib.lines.Line2D at 0x7f4bca7c5460>]"
      ]
     },
     "execution_count": 297,
     "metadata": {},
     "output_type": "execute_result"
    },
    {
     "data": {
      "image/png": "[encoded data removed]",
      "text/plain": [
       "<Figure size 432x288 with 1 Axes>"
      ]
     },
     "metadata": {
      "needs_background": "light"
     },
     "output_type": "display_data"
    }
   ],
   "source": [
    "plt.plot(np.arange(iters), mse)"
   ]
  },
  {
   "cell_type": "code",
   "execution_count": 298,
   "metadata": {},
   "outputs": [
    {
     "data": {
      "text/plain": [
       "36"
      ]
     },
     "execution_count": 298,
     "metadata": {},
     "output_type": "execute_result"
    }
   ],
   "source": [
    "np.argmin(mse)"
   ]
  },
  {
   "cell_type": "code",
   "execution_count": 300,
   "metadata": {},
   "outputs": [
    {
     "data": {
      "text/plain": [
       "array([ 1.09251402,  0.76249464, -0.45891104,  0.25389828,  0.08572084,\n",
       "       -0.86585224,  0.46458015,  0.8550428 ,  0.41239181,  1.1355581 ,\n",
       "       -0.05549364, -0.33974244,  0.2740312 , -0.30914188, -0.21062529,\n",
       "        0.0803433 , -0.21035344,  0.02861986,  0.6564633 ,  0.12396278,\n",
       "        0.11440105,  0.39955905,  1.13135218,  0.13308465,  0.42424873,\n",
       "        0.03544702,  0.01623435,  0.69715223,  0.63983444, -0.28208141,\n",
       "        0.37578956, -0.17492373,  0.14881586, -0.3981524 , -0.52527128,\n",
       "        0.54558401,  0.42415653,  0.04842555, -0.19026636,  0.03014309,\n",
       "       -0.16776334,  0.41011991,  0.1054373 , -0.04061105,  0.55497603,\n",
       "        0.37329251, -0.2699371 ,  0.13145792,  0.37584508, -0.08940041,\n",
       "       -0.11912025,  0.52143832, -0.10367328,  0.44399888,  0.33620174,\n",
       "       -0.04712391,  0.54092925, -0.46625416, -0.12514269,  0.88376549,\n",
       "       -0.30446793,  0.03937514, -0.20899972, -0.22228718, -0.16933289,\n",
       "        0.12425852, -0.8327019 , -0.12324828,  0.4702917 ,  0.15545238,\n",
       "       -0.2323665 ,  1.0727717 ,  0.75044769, -0.45407733, -0.07524468,\n",
       "       -0.02633941,  0.80891554,  0.68512696, -0.33511838,  0.43476378,\n",
       "        0.3981102 , -0.0857607 ,  0.35447149, -0.28709801, -0.04592479,\n",
       "       -0.53662161,  0.58129993, -0.04181923,  0.49132636,  0.59006583,\n",
       "        0.84913247, -0.25883137,  0.27974664,  0.21216317,  0.32167787,\n",
       "       -0.20721458,  0.11500928,  0.30277416,  0.34611854,  0.68100081,\n",
       "        0.00696688])"
      ]
     },
     "execution_count": 300,
     "metadata": {},
     "output_type": "execute_result"
    }
   ],
   "source": [
    "coefs[36]"
   ]
  },
  {
   "cell_type": "code",
   "execution_count": 305,
   "metadata": {},
   "outputs": [
    {
     "data": {
      "text/plain": [
       "0.7308821299454387"
      ]
     },
     "execution_count": 305,
     "metadata": {},
     "output_type": "execute_result"
    }
   ],
   "source": [
    "model.mse_total"
   ]
  },
  {
   "cell_type": "code",
   "execution_count": 307,
   "metadata": {},
   "outputs": [
    {
     "data": {
      "text/plain": [
       "0.7276667408259568"
      ]
     },
     "execution_count": 307,
     "metadata": {},
     "output_type": "execute_result"
    }
   ],
   "source": [
    "min(mse)"
   ]
  },
  {
   "cell_type": "markdown",
   "metadata": {},
   "source": [
    "Model required 36 iterations to converge. "
   ]
  },
  {
   "cell_type": "code",
   "execution_count": null,
   "metadata": {},
   "outputs": [],
   "source": []
  }
 ],
 "metadata": {
  "kernelspec": {
   "display_name": "Python 3",
   "language": "python",
   "name": "python3"
  },
  "language_info": {
   "codemirror_mode": {
    "name": "ipython",
    "version": 3
   },
   "file_extension": ".py",
   "mimetype": "text/x-python",
   "name": "python",
   "nbconvert_exporter": "python",
   "pygments_lexer": "ipython3",
   "version": "3.8.2"
  }
 },
 "nbformat": 4,
 "nbformat_minor": 4
}
