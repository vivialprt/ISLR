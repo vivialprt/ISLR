{
 "cells": [
  {
   "cell_type": "code",
   "execution_count": 1,
   "metadata": {},
   "outputs": [],
   "source": [
    "import pandas as pd\n",
    "import numpy as np\n",
    "import matplotlib.pyplot as plt\n",
    "import seaborn as sns\n",
    "\n",
    "%matplotlib inline"
   ]
  },
  {
   "cell_type": "code",
   "execution_count": 27,
   "metadata": {},
   "outputs": [
    {
     "name": "stdout",
     "output_type": "stream",
     "text": [
      "Empty DataFrame\n",
      "Columns: [year, age, maritl, race, education, jobclass, health, health_ins, logwage, wage]\n",
      "Index: []\n"
     ]
    },
    {
     "data": {
      "text/html": [
       "<div>\n",
       "<style scoped>\n",
       "    .dataframe tbody tr th:only-of-type {\n",
       "        vertical-align: middle;\n",
       "    }\n",
       "\n",
       "    .dataframe tbody tr th {\n",
       "        vertical-align: top;\n",
       "    }\n",
       "\n",
       "    .dataframe thead th {\n",
       "        text-align: right;\n",
       "    }\n",
       "</style>\n",
       "<table border=\"1\" class=\"dataframe\">\n",
       "  <thead>\n",
       "    <tr style=\"text-align: right;\">\n",
       "      <th></th>\n",
       "      <th>year</th>\n",
       "      <th>age</th>\n",
       "      <th>health_ins</th>\n",
       "      <th>logwage</th>\n",
       "      <th>wage</th>\n",
       "      <th>1. Never Married</th>\n",
       "      <th>2. Married</th>\n",
       "      <th>3. Widowed</th>\n",
       "      <th>4. Divorced</th>\n",
       "      <th>1. White</th>\n",
       "      <th>2. Black</th>\n",
       "      <th>3. Asian</th>\n",
       "      <th>1. &lt; HS Grad</th>\n",
       "      <th>2. HS Grad</th>\n",
       "      <th>3. Some College</th>\n",
       "      <th>4. College Grad</th>\n",
       "      <th>job_industrial</th>\n",
       "      <th>health_good</th>\n",
       "    </tr>\n",
       "  </thead>\n",
       "  <tbody>\n",
       "    <tr>\n",
       "      <th>231655</th>\n",
       "      <td>2006</td>\n",
       "      <td>18</td>\n",
       "      <td>0</td>\n",
       "      <td>4.318063</td>\n",
       "      <td>75.043154</td>\n",
       "      <td>1</td>\n",
       "      <td>0</td>\n",
       "      <td>0</td>\n",
       "      <td>0</td>\n",
       "      <td>1</td>\n",
       "      <td>0</td>\n",
       "      <td>0</td>\n",
       "      <td>1</td>\n",
       "      <td>0</td>\n",
       "      <td>0</td>\n",
       "      <td>0</td>\n",
       "      <td>1</td>\n",
       "      <td>1</td>\n",
       "    </tr>\n",
       "    <tr>\n",
       "      <th>86582</th>\n",
       "      <td>2004</td>\n",
       "      <td>24</td>\n",
       "      <td>0</td>\n",
       "      <td>4.255273</td>\n",
       "      <td>70.476020</td>\n",
       "      <td>1</td>\n",
       "      <td>0</td>\n",
       "      <td>0</td>\n",
       "      <td>0</td>\n",
       "      <td>1</td>\n",
       "      <td>0</td>\n",
       "      <td>0</td>\n",
       "      <td>0</td>\n",
       "      <td>0</td>\n",
       "      <td>0</td>\n",
       "      <td>1</td>\n",
       "      <td>0</td>\n",
       "      <td>0</td>\n",
       "    </tr>\n",
       "    <tr>\n",
       "      <th>161300</th>\n",
       "      <td>2003</td>\n",
       "      <td>45</td>\n",
       "      <td>1</td>\n",
       "      <td>4.875061</td>\n",
       "      <td>130.982177</td>\n",
       "      <td>0</td>\n",
       "      <td>1</td>\n",
       "      <td>0</td>\n",
       "      <td>0</td>\n",
       "      <td>1</td>\n",
       "      <td>0</td>\n",
       "      <td>0</td>\n",
       "      <td>0</td>\n",
       "      <td>0</td>\n",
       "      <td>1</td>\n",
       "      <td>0</td>\n",
       "      <td>1</td>\n",
       "      <td>1</td>\n",
       "    </tr>\n",
       "    <tr>\n",
       "      <th>155159</th>\n",
       "      <td>2003</td>\n",
       "      <td>43</td>\n",
       "      <td>1</td>\n",
       "      <td>5.041393</td>\n",
       "      <td>154.685293</td>\n",
       "      <td>0</td>\n",
       "      <td>1</td>\n",
       "      <td>0</td>\n",
       "      <td>0</td>\n",
       "      <td>0</td>\n",
       "      <td>0</td>\n",
       "      <td>1</td>\n",
       "      <td>0</td>\n",
       "      <td>0</td>\n",
       "      <td>0</td>\n",
       "      <td>1</td>\n",
       "      <td>0</td>\n",
       "      <td>0</td>\n",
       "    </tr>\n",
       "    <tr>\n",
       "      <th>11443</th>\n",
       "      <td>2005</td>\n",
       "      <td>50</td>\n",
       "      <td>1</td>\n",
       "      <td>4.318063</td>\n",
       "      <td>75.043154</td>\n",
       "      <td>0</td>\n",
       "      <td>0</td>\n",
       "      <td>0</td>\n",
       "      <td>1</td>\n",
       "      <td>1</td>\n",
       "      <td>0</td>\n",
       "      <td>0</td>\n",
       "      <td>0</td>\n",
       "      <td>1</td>\n",
       "      <td>0</td>\n",
       "      <td>0</td>\n",
       "      <td>0</td>\n",
       "      <td>1</td>\n",
       "    </tr>\n",
       "  </tbody>\n",
       "</table>\n",
       "</div>"
      ],
      "text/plain": [
       "        year  age  health_ins   logwage        wage  1. Never Married  \\\n",
       "231655  2006   18           0  4.318063   75.043154                 1   \n",
       "86582   2004   24           0  4.255273   70.476020                 1   \n",
       "161300  2003   45           1  4.875061  130.982177                 0   \n",
       "155159  2003   43           1  5.041393  154.685293                 0   \n",
       "11443   2005   50           1  4.318063   75.043154                 0   \n",
       "\n",
       "        2. Married  3. Widowed  4. Divorced  1. White  2. Black  3. Asian  \\\n",
       "231655           0           0            0         1         0         0   \n",
       "86582            0           0            0         1         0         0   \n",
       "161300           1           0            0         1         0         0   \n",
       "155159           1           0            0         0         0         1   \n",
       "11443            0           0            1         1         0         0   \n",
       "\n",
       "        1. < HS Grad  2. HS Grad  3. Some College  4. College Grad  \\\n",
       "231655             1           0                0                0   \n",
       "86582              0           0                0                1   \n",
       "161300             0           0                1                0   \n",
       "155159             0           0                0                1   \n",
       "11443              0           1                0                0   \n",
       "\n",
       "        job_industrial  health_good  \n",
       "231655               1            1  \n",
       "86582                0            0  \n",
       "161300               1            1  \n",
       "155159               0            0  \n",
       "11443                0            1  "
      ]
     },
     "execution_count": 27,
     "metadata": {},
     "output_type": "execute_result"
    }
   ],
   "source": [
    "dataset_file = '../datasets/Wage.csv'\n",
    "data = pd.read_csv(dataset_file, index_col=0)\n",
    "data = data.drop(['region'], axis=1)\n",
    "data = pd.concat([data, pd.get_dummies(data.maritl)], axis=1).drop(['maritl', '5. Separated'], axis=1)\n",
    "data = pd.concat([data, pd.get_dummies(data.race)], axis=1).drop(['race', '4. Other'], axis=1)\n",
    "data = pd.concat([data, pd.get_dummies(data.education)], axis=1).drop(['education', '5. Advanced Degree'], axis=1)\n",
    "data['job_industrial'] = data.jobclass.apply(lambda v: 1 if v.startswith('1') else 0)\n",
    "data = data.drop(['jobclass'], axis=1)\n",
    "data['health_good'] = data.health.apply(lambda v: 1 if v.startswith('1') else 0)\n",
    "data = data.drop(['health'], axis=1)\n",
    "data['health_ins'] = data.health_ins.apply(lambda v: 1 if v.startswith('1') else 0)\n",
    "data.head()"
   ]
  },
  {
   "cell_type": "code",
   "execution_count": 28,
   "metadata": {},
   "outputs": [],
   "source": [
    "from sklearn.preprocessing import PolynomialFeatures"
   ]
  },
  {
   "cell_type": "code",
   "execution_count": 33,
   "metadata": {},
   "outputs": [
    {
     "data": {
      "text/plain": [
       "(3000, 5)"
      ]
     },
     "execution_count": 33,
     "metadata": {},
     "output_type": "execute_result"
    }
   ],
   "source": [
    "poly_age = PolynomialFeatures(degree=4).fit_transform(data.age.to_frame())\n",
    "poly_age.shape"
   ]
  },
  {
   "cell_type": "code",
   "execution_count": 34,
   "metadata": {},
   "outputs": [
    {
     "data": {
      "text/plain": [
       "array([[1.000000e+00, 1.800000e+01, 3.240000e+02, 5.832000e+03,\n",
       "        1.049760e+05],\n",
       "       [1.000000e+00, 2.400000e+01, 5.760000e+02, 1.382400e+04,\n",
       "        3.317760e+05],\n",
       "       [1.000000e+00, 4.500000e+01, 2.025000e+03, 9.112500e+04,\n",
       "        4.100625e+06],\n",
       "       ...,\n",
       "       [1.000000e+00, 2.700000e+01, 7.290000e+02, 1.968300e+04,\n",
       "        5.314410e+05],\n",
       "       [1.000000e+00, 2.700000e+01, 7.290000e+02, 1.968300e+04,\n",
       "        5.314410e+05],\n",
       "       [1.000000e+00, 5.500000e+01, 3.025000e+03, 1.663750e+05,\n",
       "        9.150625e+06]])"
      ]
     },
     "execution_count": 34,
     "metadata": {},
     "output_type": "execute_result"
    }
   ],
   "source": [
    "poly_age"
   ]
  },
  {
   "cell_type": "code",
   "execution_count": null,
   "metadata": {},
   "outputs": [],
   "source": []
  }
 ],
 "metadata": {
  "kernelspec": {
   "display_name": "Python 3",
   "language": "python",
   "name": "python3"
  },
  "language_info": {
   "codemirror_mode": {
    "name": "ipython",
    "version": 3
   },
   "file_extension": ".py",
   "mimetype": "text/x-python",
   "name": "python",
   "nbconvert_exporter": "python",
   "pygments_lexer": "ipython3",
   "version": "3.8.2"
  }
 },
 "nbformat": 4,
 "nbformat_minor": 4
}
