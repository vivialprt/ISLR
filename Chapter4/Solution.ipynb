{
 "cells": [
  {
   "cell_type": "code",
   "execution_count": 1,
   "metadata": {},
   "outputs": [],
   "source": [
    "import numpy as np\n",
    "import pandas as pd\n",
    "import matplotlib.pyplot as plt\n",
    "import seaborn as sns\n",
    "\n",
    "%matplotlib inline"
   ]
  },
  {
   "cell_type": "markdown",
   "metadata": {},
   "source": [
    "# Ex. 10"
   ]
  },
  {
   "cell_type": "code",
   "execution_count": 2,
   "metadata": {},
   "outputs": [
    {
     "data": {
      "text/html": [
       "<div>\n",
       "<style scoped>\n",
       "    .dataframe tbody tr th:only-of-type {\n",
       "        vertical-align: middle;\n",
       "    }\n",
       "\n",
       "    .dataframe tbody tr th {\n",
       "        vertical-align: top;\n",
       "    }\n",
       "\n",
       "    .dataframe thead th {\n",
       "        text-align: right;\n",
       "    }\n",
       "</style>\n",
       "<table border=\"1\" class=\"dataframe\">\n",
       "  <thead>\n",
       "    <tr style=\"text-align: right;\">\n",
       "      <th></th>\n",
       "      <th>Year</th>\n",
       "      <th>Lag1</th>\n",
       "      <th>Lag2</th>\n",
       "      <th>Lag3</th>\n",
       "      <th>Lag4</th>\n",
       "      <th>Lag5</th>\n",
       "      <th>Volume</th>\n",
       "      <th>Today</th>\n",
       "      <th>Direction</th>\n",
       "    </tr>\n",
       "  </thead>\n",
       "  <tbody>\n",
       "    <tr>\n",
       "      <th>0</th>\n",
       "      <td>1990</td>\n",
       "      <td>0.816</td>\n",
       "      <td>1.572</td>\n",
       "      <td>-3.936</td>\n",
       "      <td>-0.229</td>\n",
       "      <td>-3.484</td>\n",
       "      <td>0.154976</td>\n",
       "      <td>-0.270</td>\n",
       "      <td>Down</td>\n",
       "    </tr>\n",
       "    <tr>\n",
       "      <th>1</th>\n",
       "      <td>1990</td>\n",
       "      <td>-0.270</td>\n",
       "      <td>0.816</td>\n",
       "      <td>1.572</td>\n",
       "      <td>-3.936</td>\n",
       "      <td>-0.229</td>\n",
       "      <td>0.148574</td>\n",
       "      <td>-2.576</td>\n",
       "      <td>Down</td>\n",
       "    </tr>\n",
       "    <tr>\n",
       "      <th>2</th>\n",
       "      <td>1990</td>\n",
       "      <td>-2.576</td>\n",
       "      <td>-0.270</td>\n",
       "      <td>0.816</td>\n",
       "      <td>1.572</td>\n",
       "      <td>-3.936</td>\n",
       "      <td>0.159837</td>\n",
       "      <td>3.514</td>\n",
       "      <td>Up</td>\n",
       "    </tr>\n",
       "    <tr>\n",
       "      <th>3</th>\n",
       "      <td>1990</td>\n",
       "      <td>3.514</td>\n",
       "      <td>-2.576</td>\n",
       "      <td>-0.270</td>\n",
       "      <td>0.816</td>\n",
       "      <td>1.572</td>\n",
       "      <td>0.161630</td>\n",
       "      <td>0.712</td>\n",
       "      <td>Up</td>\n",
       "    </tr>\n",
       "    <tr>\n",
       "      <th>4</th>\n",
       "      <td>1990</td>\n",
       "      <td>0.712</td>\n",
       "      <td>3.514</td>\n",
       "      <td>-2.576</td>\n",
       "      <td>-0.270</td>\n",
       "      <td>0.816</td>\n",
       "      <td>0.153728</td>\n",
       "      <td>1.178</td>\n",
       "      <td>Up</td>\n",
       "    </tr>\n",
       "  </tbody>\n",
       "</table>\n",
       "</div>"
      ],
      "text/plain": [
       "   Year   Lag1   Lag2   Lag3   Lag4   Lag5    Volume  Today Direction\n",
       "0  1990  0.816  1.572 -3.936 -0.229 -3.484  0.154976 -0.270      Down\n",
       "1  1990 -0.270  0.816  1.572 -3.936 -0.229  0.148574 -2.576      Down\n",
       "2  1990 -2.576 -0.270  0.816  1.572 -3.936  0.159837  3.514        Up\n",
       "3  1990  3.514 -2.576 -0.270  0.816  1.572  0.161630  0.712        Up\n",
       "4  1990  0.712  3.514 -2.576 -0.270  0.816  0.153728  1.178        Up"
      ]
     },
     "execution_count": 2,
     "metadata": {},
     "output_type": "execute_result"
    }
   ],
   "source": [
    "dataset_file = '../datasets/Weekly.csv'\n",
    "data = pd.read_csv(dataset_file)\n",
    "data.head()"
   ]
  },
  {
   "cell_type": "code",
   "execution_count": 3,
   "metadata": {},
   "outputs": [
    {
     "name": "stdout",
     "output_type": "stream",
     "text": [
      "[1990 1991 1992 1993 1994 1995 1996 1997 1998 1999 2000 2001 2002 2003\n",
      " 2004 2005 2006 2007 2008 2009 2010]\n",
      "Year           int64\n",
      "Lag1         float64\n",
      "Lag2         float64\n",
      "Lag3         float64\n",
      "Lag4         float64\n",
      "Lag5         float64\n",
      "Volume       float64\n",
      "Today        float64\n",
      "Direction     object\n",
      "dtype: object\n",
      "Empty DataFrame\n",
      "Columns: [Year, Lag1, Lag2, Lag3, Lag4, Lag5, Volume, Today, Direction]\n",
      "Index: []\n",
      "['Down' 'Up']\n"
     ]
    }
   ],
   "source": [
    "print(data.Year.unique())\n",
    "print(data.dtypes)\n",
    "print(data.loc[data.isna().any(axis=1)])\n",
    "print(data.Direction.unique())"
   ]
  },
  {
   "cell_type": "code",
   "execution_count": 4,
   "metadata": {},
   "outputs": [],
   "source": [
    "data.Direction = data.Direction.apply(lambda v: 1 if v == 'Up' else 0)"
   ]
  },
  {
   "cell_type": "code",
   "execution_count": 5,
   "metadata": {},
   "outputs": [
    {
     "data": {
      "text/html": [
       "<div>\n",
       "<style scoped>\n",
       "    .dataframe tbody tr th:only-of-type {\n",
       "        vertical-align: middle;\n",
       "    }\n",
       "\n",
       "    .dataframe tbody tr th {\n",
       "        vertical-align: top;\n",
       "    }\n",
       "\n",
       "    .dataframe thead th {\n",
       "        text-align: right;\n",
       "    }\n",
       "</style>\n",
       "<table border=\"1\" class=\"dataframe\">\n",
       "  <thead>\n",
       "    <tr style=\"text-align: right;\">\n",
       "      <th></th>\n",
       "      <th>Year</th>\n",
       "      <th>Lag1</th>\n",
       "      <th>Lag2</th>\n",
       "      <th>Lag3</th>\n",
       "      <th>Lag4</th>\n",
       "      <th>Lag5</th>\n",
       "      <th>Volume</th>\n",
       "      <th>Today</th>\n",
       "      <th>Direction</th>\n",
       "    </tr>\n",
       "  </thead>\n",
       "  <tbody>\n",
       "    <tr>\n",
       "      <th>count</th>\n",
       "      <td>1089.000000</td>\n",
       "      <td>1089.000000</td>\n",
       "      <td>1089.000000</td>\n",
       "      <td>1089.000000</td>\n",
       "      <td>1089.000000</td>\n",
       "      <td>1089.000000</td>\n",
       "      <td>1089.000000</td>\n",
       "      <td>1089.000000</td>\n",
       "      <td>1089.000000</td>\n",
       "    </tr>\n",
       "    <tr>\n",
       "      <th>mean</th>\n",
       "      <td>2000.048669</td>\n",
       "      <td>0.150585</td>\n",
       "      <td>0.151079</td>\n",
       "      <td>0.147205</td>\n",
       "      <td>0.145818</td>\n",
       "      <td>0.139893</td>\n",
       "      <td>1.574618</td>\n",
       "      <td>0.149899</td>\n",
       "      <td>0.555556</td>\n",
       "    </tr>\n",
       "    <tr>\n",
       "      <th>std</th>\n",
       "      <td>6.033182</td>\n",
       "      <td>2.357013</td>\n",
       "      <td>2.357254</td>\n",
       "      <td>2.360502</td>\n",
       "      <td>2.360279</td>\n",
       "      <td>2.361285</td>\n",
       "      <td>1.686636</td>\n",
       "      <td>2.356927</td>\n",
       "      <td>0.497132</td>\n",
       "    </tr>\n",
       "    <tr>\n",
       "      <th>min</th>\n",
       "      <td>1990.000000</td>\n",
       "      <td>-18.195000</td>\n",
       "      <td>-18.195000</td>\n",
       "      <td>-18.195000</td>\n",
       "      <td>-18.195000</td>\n",
       "      <td>-18.195000</td>\n",
       "      <td>0.087465</td>\n",
       "      <td>-18.195000</td>\n",
       "      <td>0.000000</td>\n",
       "    </tr>\n",
       "    <tr>\n",
       "      <th>25%</th>\n",
       "      <td>1995.000000</td>\n",
       "      <td>-1.154000</td>\n",
       "      <td>-1.154000</td>\n",
       "      <td>-1.158000</td>\n",
       "      <td>-1.158000</td>\n",
       "      <td>-1.166000</td>\n",
       "      <td>0.332022</td>\n",
       "      <td>-1.154000</td>\n",
       "      <td>0.000000</td>\n",
       "    </tr>\n",
       "    <tr>\n",
       "      <th>50%</th>\n",
       "      <td>2000.000000</td>\n",
       "      <td>0.241000</td>\n",
       "      <td>0.241000</td>\n",
       "      <td>0.241000</td>\n",
       "      <td>0.238000</td>\n",
       "      <td>0.234000</td>\n",
       "      <td>1.002680</td>\n",
       "      <td>0.241000</td>\n",
       "      <td>1.000000</td>\n",
       "    </tr>\n",
       "    <tr>\n",
       "      <th>75%</th>\n",
       "      <td>2005.000000</td>\n",
       "      <td>1.405000</td>\n",
       "      <td>1.409000</td>\n",
       "      <td>1.409000</td>\n",
       "      <td>1.409000</td>\n",
       "      <td>1.405000</td>\n",
       "      <td>2.053727</td>\n",
       "      <td>1.405000</td>\n",
       "      <td>1.000000</td>\n",
       "    </tr>\n",
       "    <tr>\n",
       "      <th>max</th>\n",
       "      <td>2010.000000</td>\n",
       "      <td>12.026000</td>\n",
       "      <td>12.026000</td>\n",
       "      <td>12.026000</td>\n",
       "      <td>12.026000</td>\n",
       "      <td>12.026000</td>\n",
       "      <td>9.328214</td>\n",
       "      <td>12.026000</td>\n",
       "      <td>1.000000</td>\n",
       "    </tr>\n",
       "  </tbody>\n",
       "</table>\n",
       "</div>"
      ],
      "text/plain": [
       "              Year         Lag1         Lag2         Lag3         Lag4  \\\n",
       "count  1089.000000  1089.000000  1089.000000  1089.000000  1089.000000   \n",
       "mean   2000.048669     0.150585     0.151079     0.147205     0.145818   \n",
       "std       6.033182     2.357013     2.357254     2.360502     2.360279   \n",
       "min    1990.000000   -18.195000   -18.195000   -18.195000   -18.195000   \n",
       "25%    1995.000000    -1.154000    -1.154000    -1.158000    -1.158000   \n",
       "50%    2000.000000     0.241000     0.241000     0.241000     0.238000   \n",
       "75%    2005.000000     1.405000     1.409000     1.409000     1.409000   \n",
       "max    2010.000000    12.026000    12.026000    12.026000    12.026000   \n",
       "\n",
       "              Lag5       Volume        Today    Direction  \n",
       "count  1089.000000  1089.000000  1089.000000  1089.000000  \n",
       "mean      0.139893     1.574618     0.149899     0.555556  \n",
       "std       2.361285     1.686636     2.356927     0.497132  \n",
       "min     -18.195000     0.087465   -18.195000     0.000000  \n",
       "25%      -1.166000     0.332022    -1.154000     0.000000  \n",
       "50%       0.234000     1.002680     0.241000     1.000000  \n",
       "75%       1.405000     2.053727     1.405000     1.000000  \n",
       "max      12.026000     9.328214    12.026000     1.000000  "
      ]
     },
     "execution_count": 5,
     "metadata": {},
     "output_type": "execute_result"
    }
   ],
   "source": [
    "data.describe()"
   ]
  },
  {
   "cell_type": "code",
   "execution_count": null,
   "metadata": {},
   "outputs": [
    {
     "data": {
      "text/plain": [
       "<seaborn.axisgrid.PairGrid at 0x7eff040a8dc0>"
      ]
     },
     "execution_count": 6,
     "metadata": {},
     "output_type": "execute_result"
    }
   ],
   "source": [
    "sns.pairplot(data, hue='Direction')"
   ]
  },
  {
   "cell_type": "code",
   "execution_count": null,
   "metadata": {},
   "outputs": [],
   "source": [
    "plt.figure(figsize=(10,8))\n",
    "sns.heatmap(data.corr(), annot=True)"
   ]
  },
  {
   "cell_type": "markdown",
   "metadata": {},
   "source": [
    "There is no patterns in data except for obvious pattern in relationship between `Year` and `Volume`."
   ]
  },
  {
   "cell_type": "code",
   "execution_count": null,
   "metadata": {},
   "outputs": [],
   "source": [
    "from sklearn.linear_model import LogisticRegression\n",
    "from sklearn.discriminant_analysis import LinearDiscriminantAnalysis, QuadraticDiscriminantAnalysis\n",
    "from sklearn.neighbors import KNeighborsClassifier\n",
    "from sklearn.metrics import confusion_matrix, classification_report\n",
    "import statsmodels.api as sm"
   ]
  },
  {
   "cell_type": "code",
   "execution_count": null,
   "metadata": {},
   "outputs": [],
   "source": [
    "X = data.loc[:, ['Lag1', 'Lag2', 'Lag3', 'Lag4', 'Lag5', 'Volume']]\n",
    "y = data.Direction\n",
    "model = sm.Logit(y, sm.add_constant(X)).fit()\n",
    "model.summary()"
   ]
  },
  {
   "cell_type": "markdown",
   "metadata": {},
   "source": [
    "Only `Lag2` variable appears to be significant."
   ]
  },
  {
   "cell_type": "code",
   "execution_count": null,
   "metadata": {},
   "outputs": [],
   "source": [
    "from collections import Counter\n",
    "\n",
    "def get_col_mx(model, test_X, test_y, thr = .5):\n",
    "    if isinstance(model, (LinearDiscriminantAnalysis, LogisticRegression)):\n",
    "        preds = model.predict_proba(test_X)[:, 1]\n",
    "    else:\n",
    "        preds = model.predict(test_X)\n",
    "    preds = pd.Series([1 if pred > thr else 0 for pred in preds])\n",
    "    \n",
    "    col_mx = Counter({'TP': 0, 'FP': 0, 'FN': 0, 'TN': 0})\n",
    "    \n",
    "    for pred, true in zip(preds, test_y):\n",
    "        if pred:\n",
    "            if pred == true:\n",
    "                col_mx['TP'] += 1\n",
    "            else:\n",
    "                col_mx['FP'] += 1\n",
    "        else:\n",
    "            if pred == true:\n",
    "                col_mx['TN'] += 1\n",
    "            else:\n",
    "                col_mx['FN'] += 1\n",
    "\n",
    "    return col_mx\n",
    "\n",
    "def get_error_rate(col_mx):\n",
    "    return (col_mx['FP'] + col_mx['FN']) / sum(col_mx.values())"
   ]
  },
  {
   "cell_type": "code",
   "execution_count": null,
   "metadata": {},
   "outputs": [],
   "source": [
    "mx = get_col_mx(model, sm.add_constant(X), y)\n",
    "error_rate = get_error_rate(mx)\n",
    "print(mx)\n",
    "print(1 - error_rate)\n",
    "print('True positive rate:', mx['TP'] / (mx['TP'] + mx['FP']))\n",
    "print('True negative rate:', mx['TN'] / (mx['TN'] + mx['FN']))\n"
   ]
  },
  {
   "cell_type": "markdown",
   "metadata": {},
   "source": [
    "Confusion matrix tells that model is little bit more correct in predicting positive market direction. But the error rate shows that model is not much better than random guessing."
   ]
  },
  {
   "cell_type": "code",
   "execution_count": null,
   "metadata": {},
   "outputs": [],
   "source": [
    "train, test = data.loc[data.Year < 2009].index, data.loc[data.Year >= 2009].index\n",
    "train_X, test_X = X.iloc[train].Lag2, X.iloc[test].Lag2\n",
    "train_X, test_X = train_X.values.reshape(-1, 1), test_X.values.reshape(-1, 1)\n",
    "train_y, test_y = y.iloc[train], y.iloc[test]"
   ]
  },
  {
   "cell_type": "code",
   "execution_count": null,
   "metadata": {},
   "outputs": [],
   "source": [
    "train_X.shape, test_X.shape"
   ]
  },
  {
   "cell_type": "code",
   "execution_count": null,
   "metadata": {},
   "outputs": [],
   "source": [
    "model1 = LogisticRegression().fit(train_X, train_y)\n",
    "mx = get_col_mx(model1, test_X, test_y)\n",
    "error_rate = get_error_rate(mx)\n",
    "print(mx)\n",
    "print(1 - error_rate)"
   ]
  },
  {
   "cell_type": "code",
   "execution_count": null,
   "metadata": {},
   "outputs": [],
   "source": [
    "model2 = LinearDiscriminantAnalysis().fit(train_X, train_y)\n",
    "mx = get_col_mx(model2, test_X, test_y)\n",
    "error_rate = get_error_rate(mx)\n",
    "print(mx)\n",
    "print(1 - error_rate)"
   ]
  },
  {
   "cell_type": "code",
   "execution_count": null,
   "metadata": {},
   "outputs": [],
   "source": [
    "model3 = QuadraticDiscriminantAnalysis().fit(train_X, train_y)\n",
    "mx = get_col_mx(model3, test_X, test_y)\n",
    "error_rate = get_error_rate(mx)\n",
    "print(mx)\n",
    "print(1 - error_rate)"
   ]
  },
  {
   "cell_type": "code",
   "execution_count": null,
   "metadata": {},
   "outputs": [],
   "source": [
    "model4 = KNeighborsClassifier(n_neighbors=1).fit(train_X, train_y)\n",
    "mx = get_col_mx(model4, test_X, test_y)\n",
    "error_rate = get_error_rate(mx)\n",
    "print(mx)\n",
    "print(1 - error_rate)"
   ]
  },
  {
   "cell_type": "markdown",
   "metadata": {},
   "source": [
    "Linears methods appears to better fit to data. KNN performs worse than all."
   ]
  },
  {
   "cell_type": "code",
   "execution_count": null,
   "metadata": {},
   "outputs": [],
   "source": [
    "cols = ['Lag1', 'Lag2', 'Lag3', 'Lag4', 'Lag5', 'Volume']\n",
    "inter_terms = {}\n",
    "for i in range(len(cols) - 1):\n",
    "    for j in range(i + 1, len(cols)):\n",
    "        inter_terms['x'.join([cols[i], cols[j]])] = np.array([data[cols[i]], data[cols[j]], data[cols[i]] * data[cols[j]]])\n",
    "\n",
    "sq_terms = {}\n",
    "for col in cols:\n",
    "    sq_terms[col+'^2'] = np.array([data[col], data[col] ** 2])"
   ]
  },
  {
   "cell_type": "code",
   "execution_count": null,
   "metadata": {},
   "outputs": [],
   "source": [
    "print('Logistic Regression with Interterms')\n",
    "results = pd.DataFrame(index=inter_terms.keys(), columns=['TP', 'TN', 'FN', 'FP', 'error'])\n",
    "for key, terms in inter_terms.items():\n",
    "    train_X, test_X = terms.T[train], terms.T[test]\n",
    "    train_y, test_y = y.iloc[train], y.iloc[test]\n",
    "    \n",
    "    model = LogisticRegression().fit(train_X, train_y)\n",
    "    mx = get_col_mx(model, test_X, test_y)\n",
    "    error_rate = get_error_rate(mx)\n",
    "    \n",
    "    results.loc[key]['FP'] = mx['FP']\n",
    "    results.loc[key]['FN'] = mx['FN']\n",
    "    results.loc[key]['TP'] = mx['TP']\n",
    "    results.loc[key]['TN'] = mx['TN']\n",
    "    results.loc[key]['error'] = error_rate\n",
    "results.sort_values(by='error')"
   ]
  },
  {
   "cell_type": "markdown",
   "metadata": {},
   "source": [
    "For logistic regression model `Lag2` and `Lag3` interterms shows best results."
   ]
  },
  {
   "cell_type": "code",
   "execution_count": null,
   "metadata": {},
   "outputs": [],
   "source": [
    "print('Logistic Regression with square terms')\n",
    "results = pd.DataFrame(index=sq_terms.keys(), columns=['TP', 'TN', 'FN', 'FP', 'error'])\n",
    "for key, terms in sq_terms.items():\n",
    "    train_X, test_X = terms.T[train], terms.T[test]\n",
    "    train_y, test_y = y.iloc[train], y.iloc[test]\n",
    "    \n",
    "    model = LogisticRegression().fit(train_X, train_y)\n",
    "    mx = get_col_mx(model, test_X, test_y)\n",
    "    error_rate = get_error_rate(mx)\n",
    "    \n",
    "    results.loc[key]['FP'] = mx['FP']\n",
    "    results.loc[key]['FN'] = mx['FN']\n",
    "    results.loc[key]['TP'] = mx['TP']\n",
    "    results.loc[key]['TN'] = mx['TN']\n",
    "    results.loc[key]['error'] = error_rate\n",
    "\n",
    "results.sort_values(by='error')"
   ]
  },
  {
   "cell_type": "markdown",
   "metadata": {},
   "source": [
    "And again `Lag2` is the winner. But square term doesn't give any improvements from base model."
   ]
  },
  {
   "cell_type": "code",
   "execution_count": null,
   "metadata": {},
   "outputs": [],
   "source": [
    "print('LDA with Interterms\\n')\n",
    "results = pd.DataFrame(index=inter_terms.keys(), columns=['TP', 'TN', 'FN', 'FP', 'error'])\n",
    "for key, terms in inter_terms.items():\n",
    "    train_X, test_X = terms.T[train], terms.T[test]\n",
    "    train_y, test_y = y.iloc[train], y.iloc[test]\n",
    "    \n",
    "    model = LinearDiscriminantAnalysis().fit(train_X, train_y)\n",
    "    mx = get_col_mx(model, test_X, test_y)\n",
    "    error_rate = get_error_rate(mx)\n",
    "    \n",
    "    results.loc[key]['FP'] = mx['FP']\n",
    "    results.loc[key]['FN'] = mx['FN']\n",
    "    results.loc[key]['TP'] = mx['TP']\n",
    "    results.loc[key]['TN'] = mx['TN']\n",
    "    results.loc[key]['error'] = error_rate\n",
    "\n",
    "print(results.sort_values(by='error'))\n",
    "\n",
    "print('\\nLDA with square terms\\n')\n",
    "results = pd.DataFrame(index=sq_terms.keys(), columns=['TP', 'TN', 'FN', 'FP', 'error'])\n",
    "for key, terms in sq_terms.items():\n",
    "    train_X, test_X = terms.T[train], terms.T[test]\n",
    "    train_y, test_y = y.iloc[train], y.iloc[test]\n",
    "    \n",
    "    model = LinearDiscriminantAnalysis().fit(train_X, train_y)\n",
    "    mx = get_col_mx(model, test_X, test_y)\n",
    "    error_rate = get_error_rate(mx)\n",
    "    \n",
    "    results.loc[key]['FP'] = mx['FP']\n",
    "    results.loc[key]['FN'] = mx['FN']\n",
    "    results.loc[key]['TP'] = mx['TP']\n",
    "    results.loc[key]['TN'] = mx['TN']\n",
    "    results.loc[key]['error'] = error_rate\n",
    "\n",
    "print(results.sort_values(by='error'))"
   ]
  },
  {
   "cell_type": "markdown",
   "metadata": {},
   "source": [
    "The results for LDA pretty much the same as for logistic regression."
   ]
  },
  {
   "cell_type": "code",
   "execution_count": null,
   "metadata": {},
   "outputs": [],
   "source": [
    "print('QDA with Interterms\\n')\n",
    "results = pd.DataFrame(index=inter_terms.keys(), columns=['TP', 'TN', 'FN', 'FP', 'error'])\n",
    "for key, terms in inter_terms.items():\n",
    "    train_X, test_X = terms.T[train], terms.T[test]\n",
    "    train_y, test_y = y.iloc[train], y.iloc[test]\n",
    "    \n",
    "    model = QuadraticDiscriminantAnalysis().fit(train_X, train_y)\n",
    "    mx = get_col_mx(model, test_X, test_y)\n",
    "    error_rate = get_error_rate(mx)\n",
    "    \n",
    "    results.loc[key]['FP'] = mx['FP']\n",
    "    results.loc[key]['FN'] = mx['FN']\n",
    "    results.loc[key]['TP'] = mx['TP']\n",
    "    results.loc[key]['TN'] = mx['TN']\n",
    "    results.loc[key]['error'] = error_rate\n",
    "\n",
    "print(results.sort_values(by='error'))\n",
    "\n",
    "print('\\nQDA with square terms\\n')\n",
    "results = pd.DataFrame(index=sq_terms.keys(), columns=['TP', 'TN', 'FN', 'FP', 'error'])\n",
    "for key, terms in sq_terms.items():\n",
    "    train_X, test_X = terms.T[train], terms.T[test]\n",
    "    train_y, test_y = y.iloc[train], y.iloc[test]\n",
    "    \n",
    "    model = QuadraticDiscriminantAnalysis().fit(train_X, train_y)\n",
    "    mx = get_col_mx(model, test_X, test_y)\n",
    "    error_rate = get_error_rate(mx)\n",
    "    \n",
    "    results.loc[key]['FP'] = mx['FP']\n",
    "    results.loc[key]['FN'] = mx['FN']\n",
    "    results.loc[key]['TP'] = mx['TP']\n",
    "    results.loc[key]['TN'] = mx['TN']\n",
    "    results.loc[key]['error'] = error_rate\n",
    "\n",
    "print(results.sort_values(by='error'))"
   ]
  },
  {
   "cell_type": "markdown",
   "metadata": {},
   "source": [
    "QDA performs worse except for the case with squared `Lag2`."
   ]
  },
  {
   "cell_type": "code",
   "execution_count": null,
   "metadata": {},
   "outputs": [],
   "source": [
    "print('KNN with Interterm\\n')\n",
    "k_array = [1, 3, 5, 10, 50, 100]\n",
    "results = pd.DataFrame(index=k_array, columns=['TP', 'TN', 'FN', 'FP', 'error'])\n",
    "for k in k_array:\n",
    "    train_X, test_X = inter_terms['Lag2xLag3'].T[train], inter_terms['Lag2xLag3'].T[test]\n",
    "    train_y, test_y = y.iloc[train], y.iloc[test]\n",
    "    \n",
    "    model = KNeighborsClassifier(n_neighbors=k).fit(train_X, train_y)\n",
    "    mx = get_col_mx(model, test_X, test_y)\n",
    "    error_rate = get_error_rate(mx)\n",
    "    \n",
    "    results.loc[k]['FP'] = mx['FP']\n",
    "    results.loc[k]['FN'] = mx['FN']\n",
    "    results.loc[k]['TP'] = mx['TP']\n",
    "    results.loc[k]['TN'] = mx['TN']\n",
    "    results.loc[k]['error'] = error_rate\n",
    "\n",
    "print(results.sort_values(by='error'))\n",
    "\n",
    "print('\\nKNN with square term\\n')\n",
    "results = pd.DataFrame(index=k_array, columns=['TP', 'TN', 'FN', 'FP', 'error'])\n",
    "for k in k_array:\n",
    "    train_X, test_X = sq_terms['Lag2^2'].T[train], sq_terms['Lag2^2'].T[test]\n",
    "    train_y, test_y = y.iloc[train], y.iloc[test]\n",
    "    \n",
    "    model = KNeighborsClassifier(n_neighbors=k).fit(train_X, train_y)\n",
    "    mx = get_col_mx(model, test_X, test_y)\n",
    "    error_rate = get_error_rate(mx)\n",
    "    \n",
    "    results.loc[k]['FP'] = mx['FP']\n",
    "    results.loc[k]['FN'] = mx['FN']\n",
    "    results.loc[k]['TP'] = mx['TP']\n",
    "    results.loc[k]['TN'] = mx['TN']\n",
    "    results.loc[k]['error'] = error_rate\n",
    "\n",
    "print(results.sort_values(by='error'))"
   ]
  },
  {
   "cell_type": "markdown",
   "metadata": {},
   "source": [
    "KNN also doesn't perform very well."
   ]
  },
  {
   "cell_type": "markdown",
   "metadata": {},
   "source": [
    "# Ex. 11"
   ]
  },
  {
   "cell_type": "code",
   "execution_count": null,
   "metadata": {},
   "outputs": [],
   "source": [
    "dataset_file = '../datasets/Auto.csv'\n",
    "data = pd.read_csv(dataset_file, index_col='name')\n",
    "data = data.loc[data.horsepower != '?']\n",
    "data.horsepower = data.horsepower.apply(int)\n",
    "data['mpg01'] = data.mpg.apply(lambda v: 1 if v > data.mpg.median() else 0)\n",
    "data.head()"
   ]
  },
  {
   "cell_type": "code",
   "execution_count": null,
   "metadata": {},
   "outputs": [],
   "source": [
    "sns.pairplot(data.drop(['mpg'], axis=1), hue='mpg01')"
   ]
  },
  {
   "cell_type": "code",
   "execution_count": null,
   "metadata": {},
   "outputs": [],
   "source": [
    "_, axes = plt.subplots(2, 3, figsize=(16,12))\n",
    "for i, col in enumerate(['displacement', 'horsepower', 'weight', 'acceleration', 'year']):\n",
    "    sns.boxplot(data.mpg01, data[col], ax=axes[i//3, i%3])"
   ]
  },
  {
   "cell_type": "markdown",
   "metadata": {},
   "source": [
    "`displacement` and `weight` seems to be very helpful in predicting `mpg01`."
   ]
  },
  {
   "cell_type": "code",
   "execution_count": null,
   "metadata": {},
   "outputs": [],
   "source": [
    "train_data = data.iloc[:-100]\n",
    "test_data = data.iloc[-100:]"
   ]
  },
  {
   "cell_type": "code",
   "execution_count": null,
   "metadata": {},
   "outputs": [],
   "source": [
    "model = LinearDiscriminantAnalysis().fit(train_data[['displacement', 'horsepower', 'weight']], train_data['mpg01'])\n",
    "mx = get_col_mx(model, test_data[['displacement', 'horsepower', 'weight']], test_data['mpg01'])\n",
    "error_rate = get_error_rate(mx)\n",
    "print(mx)\n",
    "print(1 - error_rate)"
   ]
  },
  {
   "cell_type": "code",
   "execution_count": null,
   "metadata": {},
   "outputs": [],
   "source": [
    "model = QuadraticDiscriminantAnalysis().fit(train_data[['displacement', 'horsepower', 'weight']], train_data['mpg01'])\n",
    "mx = get_col_mx(model, test_data[['displacement', 'horsepower', 'weight']], test_data['mpg01'])\n",
    "error_rate = get_error_rate(mx)\n",
    "print(mx)\n",
    "print(1 - error_rate)"
   ]
  },
  {
   "cell_type": "code",
   "execution_count": null,
   "metadata": {},
   "outputs": [],
   "source": [
    "model = LogisticRegression().fit(train_data[['displacement', 'horsepower', 'weight']], train_data['mpg01'])\n",
    "mx = get_col_mx(model, test_data[['displacement', 'horsepower', 'weight']], test_data['mpg01'])\n",
    "error_rate = get_error_rate(mx)\n",
    "print(mx)\n",
    "print(1 - error_rate)"
   ]
  },
  {
   "cell_type": "code",
   "execution_count": null,
   "metadata": {},
   "outputs": [],
   "source": [
    "model = KNeighborsClassifier(n_neighbors=1).fit(train_data[['displacement', 'horsepower', 'weight']], train_data['mpg01'])\n",
    "mx = get_col_mx(model, test_data[['displacement', 'horsepower', 'weight']], test_data['mpg01'])\n",
    "error_rate = get_error_rate(mx)\n",
    "print('K =', 1)\n",
    "print(mx)\n",
    "print(1 - error_rate)\n",
    "\n",
    "model = KNeighborsClassifier(n_neighbors=3).fit(train_data[['displacement', 'horsepower', 'weight']], train_data['mpg01'])\n",
    "mx = get_col_mx(model, test_data[['displacement', 'horsepower', 'weight']], test_data['mpg01'])\n",
    "error_rate = get_error_rate(mx)\n",
    "print('K =', 3)\n",
    "print(mx)\n",
    "print(1 - error_rate)\n",
    "\n",
    "model = KNeighborsClassifier(n_neighbors=5).fit(train_data[['displacement', 'horsepower', 'weight']], train_data['mpg01'])\n",
    "mx = get_col_mx(model, test_data[['displacement', 'horsepower', 'weight']], test_data['mpg01'])\n",
    "error_rate = get_error_rate(mx)\n",
    "print('K =', 5)\n",
    "print(mx)\n",
    "print(1 - error_rate)\n",
    "\n",
    "model = KNeighborsClassifier(n_neighbors=10).fit(train_data[['displacement', 'horsepower', 'weight']], train_data['mpg01'])\n",
    "mx = get_col_mx(model, test_data[['displacement', 'horsepower', 'weight']], test_data['mpg01'])\n",
    "error_rate = get_error_rate(mx)\n",
    "print('K =', 10)\n",
    "print(mx)\n",
    "print(1 - error_rate)"
   ]
  },
  {
   "cell_type": "markdown",
   "metadata": {},
   "source": [
    "# Ex. 13"
   ]
  },
  {
   "cell_type": "code",
   "execution_count": null,
   "metadata": {},
   "outputs": [],
   "source": [
    "dataset_file = '../datasets/Boston.csv'\n",
    "data = pd.read_csv(dataset_file, index_col=0)\n",
    "data['crim_bin'] = data.crim.apply(lambda v: 1 if v > data.crim.median() else 0)\n",
    "data.head()"
   ]
  },
  {
   "cell_type": "code",
   "execution_count": null,
   "metadata": {},
   "outputs": [],
   "source": [
    "data.corr().crim_bin"
   ]
  },
  {
   "cell_type": "markdown",
   "metadata": {},
   "source": [
    "Most related variables are `indus`, `nox`, `age`, `dis` and `tax`."
   ]
  },
  {
   "cell_type": "code",
   "execution_count": null,
   "metadata": {},
   "outputs": [],
   "source": [
    "sns.pairplot(data[['indus', 'nox', 'age', 'dis', 'tax', 'crim_bin']], hue='crim_bin')"
   ]
  },
  {
   "cell_type": "code",
   "execution_count": null,
   "metadata": {},
   "outputs": [],
   "source": [
    "important_cols = ['indus', 'nox', 'age', 'dis', 'tax']\n",
    "train_data = data.iloc[:-100]\n",
    "test_data = data.iloc[-100:]"
   ]
  },
  {
   "cell_type": "code",
   "execution_count": null,
   "metadata": {},
   "outputs": [],
   "source": [
    "model = LinearDiscriminantAnalysis().fit(train_data[important_cols], train_data['crim_bin'])\n",
    "mx = get_col_mx(model, test_data[important_cols], test_data['crim_bin'])\n",
    "error_rate = get_error_rate(mx)\n",
    "print(mx)\n",
    "print(1 - error_rate)"
   ]
  },
  {
   "cell_type": "code",
   "execution_count": null,
   "metadata": {},
   "outputs": [],
   "source": [
    "model = QuadraticDiscriminantAnalysis().fit(train_data[important_cols], train_data['crim_bin'])\n",
    "mx = get_col_mx(model, test_data[important_cols], test_data['crim_bin'])\n",
    "error_rate = get_error_rate(mx)\n",
    "print(mx)\n",
    "print(1 - error_rate)"
   ]
  },
  {
   "cell_type": "code",
   "execution_count": null,
   "metadata": {},
   "outputs": [],
   "source": [
    "model = LogisticRegression().fit(train_data[important_cols], train_data['crim_bin'])\n",
    "mx = get_col_mx(model, test_data[important_cols], test_data['crim_bin'])\n",
    "error_rate = get_error_rate(mx)\n",
    "print(mx)\n",
    "print(1 - error_rate)"
   ]
  },
  {
   "cell_type": "code",
   "execution_count": null,
   "metadata": {},
   "outputs": [],
   "source": [
    "model = KNeighborsClassifier(n_neighbors=1).fit(train_data[important_cols], train_data['crim_bin'])\n",
    "mx = get_col_mx(model, test_data[important_cols], test_data['crim_bin'])\n",
    "error_rate = get_error_rate(mx)\n",
    "print('K =', 1)\n",
    "print(mx)\n",
    "print(1 - error_rate)\n",
    "\n",
    "model = KNeighborsClassifier(n_neighbors=3).fit(train_data[important_cols], train_data['crim_bin'])\n",
    "mx = get_col_mx(model, test_data[important_cols], test_data['crim_bin'])\n",
    "error_rate = get_error_rate(mx)\n",
    "print('K =', 3)\n",
    "print(mx)\n",
    "print(1 - error_rate)\n",
    "\n",
    "model = KNeighborsClassifier(n_neighbors=5).fit(train_data[important_cols], train_data['crim_bin'])\n",
    "mx = get_col_mx(model, test_data[important_cols], test_data['crim_bin'])\n",
    "error_rate = get_error_rate(mx)\n",
    "print('K =', 5)\n",
    "print(mx)\n",
    "print(1 - error_rate)\n",
    "\n",
    "model = KNeighborsClassifier(n_neighbors=10).fit(train_data[important_cols], train_data['crim_bin'])\n",
    "mx = get_col_mx(model, test_data[important_cols], test_data['crim_bin'])\n",
    "error_rate = get_error_rate(mx)\n",
    "print('K =', 10)\n",
    "print(mx)\n",
    "print(1 - error_rate)"
   ]
  },
  {
   "cell_type": "markdown",
   "metadata": {},
   "source": [
    "KNN shows best performance among all models."
   ]
  }
 ],
 "metadata": {
  "kernelspec": {
   "display_name": "Python 3",
   "language": "python",
   "name": "python3"
  },
  "language_info": {
   "codemirror_mode": {
    "name": "ipython",
    "version": 3
   },
   "file_extension": ".py",
   "mimetype": "text/x-python",
   "name": "python",
   "nbconvert_exporter": "python",
   "pygments_lexer": "ipython3",
   "version": "3.8.2"
  }
 },
 "nbformat": 4,
 "nbformat_minor": 4
}
