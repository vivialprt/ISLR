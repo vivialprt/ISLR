{
 "cells": [
  {
   "cell_type": "code",
   "execution_count": 1,
   "metadata": {},
   "outputs": [],
   "source": [
    "import pandas as pd\n",
    "import numpy as np\n",
    "from matplotlib import pyplot as plt\n",
    "import seaborn as sns\n",
    "\n",
    "%matplotlib inline"
   ]
  },
  {
   "cell_type": "code",
   "execution_count": 2,
   "metadata": {},
   "outputs": [
    {
     "data": {
      "text/html": [
       "<div>\n",
       "<style scoped>\n",
       "    .dataframe tbody tr th:only-of-type {\n",
       "        vertical-align: middle;\n",
       "    }\n",
       "\n",
       "    .dataframe tbody tr th {\n",
       "        vertical-align: top;\n",
       "    }\n",
       "\n",
       "    .dataframe thead th {\n",
       "        text-align: right;\n",
       "    }\n",
       "</style>\n",
       "<table border=\"1\" class=\"dataframe\">\n",
       "  <thead>\n",
       "    <tr style=\"text-align: right;\">\n",
       "      <th></th>\n",
       "      <th>crim</th>\n",
       "      <th>zn</th>\n",
       "      <th>indus</th>\n",
       "      <th>chas</th>\n",
       "      <th>nox</th>\n",
       "      <th>rm</th>\n",
       "      <th>age</th>\n",
       "      <th>dis</th>\n",
       "      <th>rad</th>\n",
       "      <th>tax</th>\n",
       "      <th>ptratio</th>\n",
       "      <th>black</th>\n",
       "      <th>lstat</th>\n",
       "      <th>medv</th>\n",
       "    </tr>\n",
       "  </thead>\n",
       "  <tbody>\n",
       "    <tr>\n",
       "      <th>1</th>\n",
       "      <td>0.00632</td>\n",
       "      <td>18.0</td>\n",
       "      <td>2.31</td>\n",
       "      <td>0</td>\n",
       "      <td>0.538</td>\n",
       "      <td>6.575</td>\n",
       "      <td>65.2</td>\n",
       "      <td>4.0900</td>\n",
       "      <td>1</td>\n",
       "      <td>296</td>\n",
       "      <td>15.3</td>\n",
       "      <td>396.90</td>\n",
       "      <td>4.98</td>\n",
       "      <td>24.0</td>\n",
       "    </tr>\n",
       "    <tr>\n",
       "      <th>2</th>\n",
       "      <td>0.02731</td>\n",
       "      <td>0.0</td>\n",
       "      <td>7.07</td>\n",
       "      <td>0</td>\n",
       "      <td>0.469</td>\n",
       "      <td>6.421</td>\n",
       "      <td>78.9</td>\n",
       "      <td>4.9671</td>\n",
       "      <td>2</td>\n",
       "      <td>242</td>\n",
       "      <td>17.8</td>\n",
       "      <td>396.90</td>\n",
       "      <td>9.14</td>\n",
       "      <td>21.6</td>\n",
       "    </tr>\n",
       "    <tr>\n",
       "      <th>3</th>\n",
       "      <td>0.02729</td>\n",
       "      <td>0.0</td>\n",
       "      <td>7.07</td>\n",
       "      <td>0</td>\n",
       "      <td>0.469</td>\n",
       "      <td>7.185</td>\n",
       "      <td>61.1</td>\n",
       "      <td>4.9671</td>\n",
       "      <td>2</td>\n",
       "      <td>242</td>\n",
       "      <td>17.8</td>\n",
       "      <td>392.83</td>\n",
       "      <td>4.03</td>\n",
       "      <td>34.7</td>\n",
       "    </tr>\n",
       "    <tr>\n",
       "      <th>4</th>\n",
       "      <td>0.03237</td>\n",
       "      <td>0.0</td>\n",
       "      <td>2.18</td>\n",
       "      <td>0</td>\n",
       "      <td>0.458</td>\n",
       "      <td>6.998</td>\n",
       "      <td>45.8</td>\n",
       "      <td>6.0622</td>\n",
       "      <td>3</td>\n",
       "      <td>222</td>\n",
       "      <td>18.7</td>\n",
       "      <td>394.63</td>\n",
       "      <td>2.94</td>\n",
       "      <td>33.4</td>\n",
       "    </tr>\n",
       "    <tr>\n",
       "      <th>5</th>\n",
       "      <td>0.06905</td>\n",
       "      <td>0.0</td>\n",
       "      <td>2.18</td>\n",
       "      <td>0</td>\n",
       "      <td>0.458</td>\n",
       "      <td>7.147</td>\n",
       "      <td>54.2</td>\n",
       "      <td>6.0622</td>\n",
       "      <td>3</td>\n",
       "      <td>222</td>\n",
       "      <td>18.7</td>\n",
       "      <td>396.90</td>\n",
       "      <td>5.33</td>\n",
       "      <td>36.2</td>\n",
       "    </tr>\n",
       "  </tbody>\n",
       "</table>\n",
       "</div>"
      ],
      "text/plain": [
       "      crim    zn  indus  chas    nox     rm   age     dis  rad  tax  ptratio  \\\n",
       "1  0.00632  18.0   2.31     0  0.538  6.575  65.2  4.0900    1  296     15.3   \n",
       "2  0.02731   0.0   7.07     0  0.469  6.421  78.9  4.9671    2  242     17.8   \n",
       "3  0.02729   0.0   7.07     0  0.469  7.185  61.1  4.9671    2  242     17.8   \n",
       "4  0.03237   0.0   2.18     0  0.458  6.998  45.8  6.0622    3  222     18.7   \n",
       "5  0.06905   0.0   2.18     0  0.458  7.147  54.2  6.0622    3  222     18.7   \n",
       "\n",
       "    black  lstat  medv  \n",
       "1  396.90   4.98  24.0  \n",
       "2  396.90   9.14  21.6  \n",
       "3  392.83   4.03  34.7  \n",
       "4  394.63   2.94  33.4  \n",
       "5  396.90   5.33  36.2  "
      ]
     },
     "execution_count": 2,
     "metadata": {},
     "output_type": "execute_result"
    }
   ],
   "source": [
    "dataset = '../datasets/Boston.csv'\n",
    "data = pd.read_csv(dataset, index_col=0)\n",
    "data.head()"
   ]
  },
  {
   "cell_type": "code",
   "execution_count": 3,
   "metadata": {},
   "outputs": [],
   "source": [
    "from sklearn.linear_model import LinearRegression\n",
    "import sklearn.metrics as metrics"
   ]
  },
  {
   "cell_type": "code",
   "execution_count": 4,
   "metadata": {},
   "outputs": [],
   "source": [
    "lstat_aug = pd.concat([data.lstat, pd.Series(np.ones(data.lstat.shape), index=data.lstat.index, name='intercept')], axis=1)"
   ]
  },
  {
   "cell_type": "code",
   "execution_count": 5,
   "metadata": {},
   "outputs": [
    {
     "data": {
      "text/plain": [
       "(array([-0.95004935]), 34.5538408793831)"
      ]
     },
     "execution_count": 5,
     "metadata": {},
     "output_type": "execute_result"
    }
   ],
   "source": [
    "medv_on_lstat = LinearRegression().fit(data.lstat.values.reshape(-1, 1), data.medv)\n",
    "medv_on_lstat.coef_, medv_on_lstat.intercept_"
   ]
  },
  {
   "cell_type": "code",
   "execution_count": 6,
   "metadata": {},
   "outputs": [],
   "source": [
    "def add_intercept_term(X):\n",
    "    if isinstance(X, (pd.DataFrame, pd.Series)):\n",
    "        return pd.concat([X, pd.Series(np.ones(data.lstat.shape), index=X.index, name='intercept')], axis=1)\n",
    "    elif isinstance(X, np.ndarray):\n",
    "        return pd.concat([pd.DataFrame(X, columns=[f'X{i+1}' for i in range(X.shape[1])]), pd.Series(np.ones(X.shape[0]), name='intercept')], axis=1)\n",
    "    else:\n",
    "        return pd.concat([pd.Series(X, name='X1'), pd.Series(np.ones(len(X)), name='intercept')], axis=1)"
   ]
  },
  {
   "cell_type": "code",
   "execution_count": 7,
   "metadata": {},
   "outputs": [],
   "source": [
    "def report_model(model, X, y):\n",
    "    results = {}\n",
    "    pred_y = model.predict(X)\n",
    "    residuals = y - pred_y\n",
    "    residual_stats = pd.Series(residuals).describe()\n",
    "    results['Residual stats'] = residual_stats\n",
    "    \n",
    "    RSS = residuals.T @ residuals\n",
    "    results['RSS'] = RSS\n",
    "    \n",
    "    resid_from_mean = y - y.mean()\n",
    "    TSS = resid_from_mean.T @ resid_from_mean\n",
    "    results['TSS'] = TSS\n",
    "    \n",
    "    R_squared = 1 - RSS / TSS\n",
    "    results['R squared'] = R_squared\n",
    "    \n",
    "    F_score = ((TSS - RSS) / (X.shape[1])) / (RSS / (X.shape[0] - X.shape[1] - 1))\n",
    "    results['F_score'] = F_score\n",
    "    \n",
    "    sigma_squared_hat = RSS / (X.shape[0] - X.shape[1] - 1)\n",
    "    results['Sigma squared estimation'] = sigma_squared_hat\n",
    "    \n",
    "    RSE = sigma_squared_hat ** 0.5\n",
    "    results['RSE'] = RSE\n",
    "    \n",
    "    aug_X = add_intercept_term(X)\n",
    "    var_beta_hat = np.linalg.inv(aug_X.T @ aug_X) * sigma_squared_hat\n",
    "    results['Betha variance estimation'] = var_beta_hat\n",
    "    \n",
    "    se = []\n",
    "    for p_ in range(X.shape[1] + 1):\n",
    "        standard_error = var_beta_hat[p_, p_] ** 0.5\n",
    "        se.append(standard_error)\n",
    "        results[f\"SE(beta_hat_{p_})\"] = standard_error\n",
    "    [print(f'{k}: {v}') for k, v in results.items()]\n",
    "    return results"
   ]
  },
  {
   "cell_type": "code",
   "execution_count": 8,
   "metadata": {},
   "outputs": [
    {
     "name": "stdout",
     "output_type": "stream",
     "text": [
      "Residual stats: count    5.060000e+02\n",
      "mean    -5.673108e-15\n",
      "std      6.209603e+00\n",
      "min     -1.516745e+01\n",
      "25%     -3.989612e+00\n",
      "50%     -1.318186e+00\n",
      "75%      2.033701e+00\n",
      "max      2.450013e+01\n",
      "Name: medv, dtype: float64\n",
      "RSS: 19472.381418326433\n",
      "TSS: 42716.29541501976\n",
      "R squared: 0.5441462975864799\n",
      "F_score: 601.6178711098956\n",
      "Sigma squared estimation: 38.63567741731435\n",
      "RSE: 6.2157604053980675\n",
      "Betha variance estimation: [[ 0.00150028 -0.01898311]\n",
      " [-0.01898311  0.31654954]]\n",
      "SE(beta_hat_0): 0.038733416212639364\n",
      "SE(beta_hat_1): 0.5626273549884322\n"
     ]
    }
   ],
   "source": [
    "results = report_model(medv_on_lstat, data.lstat.values.reshape(-1, 1), data.medv)"
   ]
  },
  {
   "cell_type": "code",
   "execution_count": 9,
   "metadata": {},
   "outputs": [],
   "source": [
    "def intervals(model, X, model_stats):\n",
    "    if isinstance(X, (float, int)):\n",
    "        X = np.array(X).reshape(-1, 1)\n",
    "    t = 1.9647\n",
    "    results = {}\n",
    "\n",
    "    predictions = model.predict(X)\n",
    "    aug_X = add_intercept_term(X)\n",
    "    \n",
    "    cov = model_stats['Betha variance estimation']\n",
    "    model_var = model_stats['Sigma squared estimation']\n",
    "    \n",
    "    se = (aug_X * np.dot(cov, aug_X.T).T).sum(1)\n",
    "    \n",
    "    CI = t * se ** 0.5\n",
    "    PI = t * (se + model_var) ** 0.5\n",
    "    results['Confidence intervals'] = np.array([predictions - CI, predictions + CI]).T\n",
    "    results['Prediction intervals'] = np.array([predictions - PI, predictions + PI]).T\n",
    "    \n",
    "    [print(f'{k}: \\n{v}') for k, v in results.items()]\n",
    "    return results"
   ]
  },
  {
   "cell_type": "code",
   "execution_count": 10,
   "metadata": {},
   "outputs": [
    {
     "name": "stdout",
     "output_type": "stream",
     "text": [
      "Confidence intervals: \n",
      "[[29.00740464 30.59978358]\n",
      " [24.47412671 25.63256797]\n",
      " [19.73158292 20.87461823]]\n",
      "Prediction intervals: \n",
      "[[17.56556268 42.04162554]\n",
      " [12.82751436 37.27918032]\n",
      " [ 8.07763011 32.52857103]]\n"
     ]
    }
   ],
   "source": [
    "predictions = intervals(medv_on_lstat, np.array([5, 10, 15]).reshape(-1, 1), results)"
   ]
  },
  {
   "cell_type": "code",
   "execution_count": 11,
   "metadata": {},
   "outputs": [],
   "source": [
    "y = data.medv\n",
    "X = data.lstat.values.reshape(-1, 1)\n",
    "y_pred = medv_on_lstat.predict(X)"
   ]
  },
  {
   "cell_type": "code",
   "execution_count": 12,
   "metadata": {},
   "outputs": [],
   "source": [
    "import statsmodels.api as sm"
   ]
  },
  {
   "cell_type": "code",
   "execution_count": 13,
   "metadata": {},
   "outputs": [
    {
     "data": {
      "text/html": [
       "<table class=\"simpletable\">\n",
       "<caption>OLS Regression Results</caption>\n",
       "<tr>\n",
       "  <th>Dep. Variable:</th>          <td>medv</td>       <th>  R-squared:         </th> <td>   0.544</td>\n",
       "</tr>\n",
       "<tr>\n",
       "  <th>Model:</th>                   <td>OLS</td>       <th>  Adj. R-squared:    </th> <td>   0.543</td>\n",
       "</tr>\n",
       "<tr>\n",
       "  <th>Method:</th>             <td>Least Squares</td>  <th>  F-statistic:       </th> <td>   601.6</td>\n",
       "</tr>\n",
       "<tr>\n",
       "  <th>Date:</th>             <td>Sat, 29 Aug 2020</td> <th>  Prob (F-statistic):</th> <td>5.08e-88</td>\n",
       "</tr>\n",
       "<tr>\n",
       "  <th>Time:</th>                 <td>19:03:43</td>     <th>  Log-Likelihood:    </th> <td> -1641.5</td>\n",
       "</tr>\n",
       "<tr>\n",
       "  <th>No. Observations:</th>      <td>   506</td>      <th>  AIC:               </th> <td>   3287.</td>\n",
       "</tr>\n",
       "<tr>\n",
       "  <th>Df Residuals:</th>          <td>   504</td>      <th>  BIC:               </th> <td>   3295.</td>\n",
       "</tr>\n",
       "<tr>\n",
       "  <th>Df Model:</th>              <td>     1</td>      <th>                     </th>     <td> </td>   \n",
       "</tr>\n",
       "<tr>\n",
       "  <th>Covariance Type:</th>      <td>nonrobust</td>    <th>                     </th>     <td> </td>   \n",
       "</tr>\n",
       "</table>\n",
       "<table class=\"simpletable\">\n",
       "<tr>\n",
       "    <td></td>       <th>coef</th>     <th>std err</th>      <th>t</th>      <th>P>|t|</th>  <th>[0.025</th>    <th>0.975]</th>  \n",
       "</tr>\n",
       "<tr>\n",
       "  <th>const</th> <td>   34.5538</td> <td>    0.563</td> <td>   61.415</td> <td> 0.000</td> <td>   33.448</td> <td>   35.659</td>\n",
       "</tr>\n",
       "<tr>\n",
       "  <th>x1</th>    <td>   -0.9500</td> <td>    0.039</td> <td>  -24.528</td> <td> 0.000</td> <td>   -1.026</td> <td>   -0.874</td>\n",
       "</tr>\n",
       "</table>\n",
       "<table class=\"simpletable\">\n",
       "<tr>\n",
       "  <th>Omnibus:</th>       <td>137.043</td> <th>  Durbin-Watson:     </th> <td>   0.892</td>\n",
       "</tr>\n",
       "<tr>\n",
       "  <th>Prob(Omnibus):</th> <td> 0.000</td>  <th>  Jarque-Bera (JB):  </th> <td> 291.373</td>\n",
       "</tr>\n",
       "<tr>\n",
       "  <th>Skew:</th>          <td> 1.453</td>  <th>  Prob(JB):          </th> <td>5.36e-64</td>\n",
       "</tr>\n",
       "<tr>\n",
       "  <th>Kurtosis:</th>      <td> 5.319</td>  <th>  Cond. No.          </th> <td>    29.7</td>\n",
       "</tr>\n",
       "</table><br/><br/>Notes:<br/>[1] Standard Errors assume that the covariance matrix of the errors is correctly specified."
      ],
      "text/plain": [
       "<class 'statsmodels.iolib.summary.Summary'>\n",
       "\"\"\"\n",
       "                            OLS Regression Results                            \n",
       "==============================================================================\n",
       "Dep. Variable:                   medv   R-squared:                       0.544\n",
       "Model:                            OLS   Adj. R-squared:                  0.543\n",
       "Method:                 Least Squares   F-statistic:                     601.6\n",
       "Date:                Sat, 29 Aug 2020   Prob (F-statistic):           5.08e-88\n",
       "Time:                        19:03:43   Log-Likelihood:                -1641.5\n",
       "No. Observations:                 506   AIC:                             3287.\n",
       "Df Residuals:                     504   BIC:                             3295.\n",
       "Df Model:                           1                                         \n",
       "Covariance Type:            nonrobust                                         \n",
       "==============================================================================\n",
       "                 coef    std err          t      P>|t|      [0.025      0.975]\n",
       "------------------------------------------------------------------------------\n",
       "const         34.5538      0.563     61.415      0.000      33.448      35.659\n",
       "x1            -0.9500      0.039    -24.528      0.000      -1.026      -0.874\n",
       "==============================================================================\n",
       "Omnibus:                      137.043   Durbin-Watson:                   0.892\n",
       "Prob(Omnibus):                  0.000   Jarque-Bera (JB):              291.373\n",
       "Skew:                           1.453   Prob(JB):                     5.36e-64\n",
       "Kurtosis:                       5.319   Cond. No.                         29.7\n",
       "==============================================================================\n",
       "\n",
       "Notes:\n",
       "[1] Standard Errors assume that the covariance matrix of the errors is correctly specified.\n",
       "\"\"\""
      ]
     },
     "execution_count": 13,
     "metadata": {},
     "output_type": "execute_result"
    }
   ],
   "source": [
    "mod = sm.OLS(y, sm.add_constant(X)).fit()\n",
    "mod.summary()"
   ]
  },
  {
   "cell_type": "code",
   "execution_count": 14,
   "metadata": {},
   "outputs": [
    {
     "data": {
      "text/html": [
       "<div>\n",
       "<style scoped>\n",
       "    .dataframe tbody tr th:only-of-type {\n",
       "        vertical-align: middle;\n",
       "    }\n",
       "\n",
       "    .dataframe tbody tr th {\n",
       "        vertical-align: top;\n",
       "    }\n",
       "\n",
       "    .dataframe thead th {\n",
       "        text-align: right;\n",
       "    }\n",
       "</style>\n",
       "<table border=\"1\" class=\"dataframe\">\n",
       "  <thead>\n",
       "    <tr style=\"text-align: right;\">\n",
       "      <th></th>\n",
       "      <th>mean</th>\n",
       "      <th>mean_se</th>\n",
       "      <th>mean_ci_lower</th>\n",
       "      <th>mean_ci_upper</th>\n",
       "      <th>obs_ci_lower</th>\n",
       "      <th>obs_ci_upper</th>\n",
       "    </tr>\n",
       "  </thead>\n",
       "  <tbody>\n",
       "    <tr>\n",
       "      <th>0</th>\n",
       "      <td>29.803594</td>\n",
       "      <td>0.405247</td>\n",
       "      <td>29.007412</td>\n",
       "      <td>30.599776</td>\n",
       "      <td>17.565675</td>\n",
       "      <td>42.041513</td>\n",
       "    </tr>\n",
       "    <tr>\n",
       "      <th>1</th>\n",
       "      <td>25.053347</td>\n",
       "      <td>0.294814</td>\n",
       "      <td>24.474132</td>\n",
       "      <td>25.632563</td>\n",
       "      <td>12.827626</td>\n",
       "      <td>37.279068</td>\n",
       "    </tr>\n",
       "    <tr>\n",
       "      <th>2</th>\n",
       "      <td>20.303101</td>\n",
       "      <td>0.290893</td>\n",
       "      <td>19.731588</td>\n",
       "      <td>20.874613</td>\n",
       "      <td>8.077742</td>\n",
       "      <td>32.528459</td>\n",
       "    </tr>\n",
       "  </tbody>\n",
       "</table>\n",
       "</div>"
      ],
      "text/plain": [
       "        mean   mean_se  mean_ci_lower  mean_ci_upper  obs_ci_lower  \\\n",
       "0  29.803594  0.405247      29.007412      30.599776     17.565675   \n",
       "1  25.053347  0.294814      24.474132      25.632563     12.827626   \n",
       "2  20.303101  0.290893      19.731588      20.874613      8.077742   \n",
       "\n",
       "   obs_ci_upper  \n",
       "0     42.041513  \n",
       "1     37.279068  \n",
       "2     32.528459  "
      ]
     },
     "execution_count": 14,
     "metadata": {},
     "output_type": "execute_result"
    }
   ],
   "source": [
    "res = mod.get_prediction(sm.add_constant([5, 10, 15]))\n",
    "res.summary_frame()"
   ]
  },
  {
   "cell_type": "code",
   "execution_count": 15,
   "metadata": {},
   "outputs": [
    {
     "data": {
      "text/plain": [
       "<AxesSubplot:xlabel='lstat', ylabel='medv'>"
      ]
     },
     "execution_count": 15,
     "metadata": {},
     "output_type": "execute_result"
    },
    {
     "data": {
      "image/png": "[encoded data removed]",
      "text/plain": [
       "<Figure size 1080x864 with 1 Axes>"
      ]
     },
     "metadata": {
      "needs_background": "light"
     },
     "output_type": "display_data"
    }
   ],
   "source": [
    "_ = plt.figure(figsize=(15, 12))\n",
    "sns.regplot(data.lstat, data.medv)"
   ]
  },
  {
   "cell_type": "code",
   "execution_count": 18,
   "metadata": {},
   "outputs": [
    {
     "data": {
      "text/plain": [
       "<matplotlib.legend.Legend at 0x7f38f38ae130>"
      ]
     },
     "execution_count": 18,
     "metadata": {},
     "output_type": "execute_result"
    },
    {
     "data": {
      "image/png": "[encoded data removed]",
      "text/plain": [
       "<Figure size 1080x864 with 1 Axes>"
      ]
     },
     "metadata": {
      "needs_background": "light"
     },
     "output_type": "display_data"
    }
   ],
   "source": [
    "_ = plt.figure(figsize=(15, 12))\n",
    "residuals = data.medv - medv_on_lstat.predict(data.lstat.values.reshape(-1, 1))\n",
    "plt.scatter(data.lstat, residuals, label='residuals')\n",
    "studentized = mod.get_influence().resid_studentized_external\n",
    "plt.scatter(data.lstat, studentized, label='studentized')\n",
    "plt.legend()"
   ]
  },
  {
   "cell_type": "code",
   "execution_count": 17,
   "metadata": {},
   "outputs": [
    {
     "data": {
      "text/plain": [
       "374"
      ]
     },
     "execution_count": 17,
     "metadata": {},
     "output_type": "execute_result"
    },
    {
     "data": {
      "image/png": "[encoded data removed]",
      "text/plain": [
       "<Figure size 1080x864 with 1 Axes>"
      ]
     },
     "metadata": {
      "needs_background": "light"
     },
     "output_type": "display_data"
    }
   ],
   "source": [
    "_ = plt.figure(figsize=(15, 12))\n",
    "hat_values = mod.get_influence().hat_matrix_diag\n",
    "plt.plot(hat_values, 'o', label='leverages')\n",
    "plt.legend()\n",
    "hat_values.argmax()"
   ]
  },
  {
   "cell_type": "code",
   "execution_count": 32,
   "metadata": {},
   "outputs": [
    {
     "data": {
      "text/plain": [
       "(array([-1.03206856,  0.03454434]), 33.2227605317929)"
      ]
     },
     "execution_count": 32,
     "metadata": {},
     "output_type": "execute_result"
    }
   ],
   "source": [
    "medv_on_two = LinearRegression().fit(data.loc[:, ['lstat', 'age']], data.medv)\n",
    "medv_on_two.coef_, medv_on_two.intercept_"
   ]
  },
  {
   "cell_type": "code",
   "execution_count": 33,
   "metadata": {},
   "outputs": [
    {
     "name": "stdout",
     "output_type": "stream",
     "text": [
      "Residual stats: count    5.060000e+02\n",
      "mean    -9.885812e-15\n",
      "std      6.160900e+00\n",
      "min     -1.598124e+01\n",
      "25%     -3.977470e+00\n",
      "50%     -1.283443e+00\n",
      "75%      1.968309e+00\n",
      "max      2.315842e+01\n",
      "Name: medv, dtype: float64\n",
      "RSS: 19168.128608760813\n",
      "TSS: 42716.29541501976\n",
      "R squared: 0.5512689379421002\n",
      "F_score: 308.9693351215988\n",
      "Sigma squared estimation: 38.107611548232235\n",
      "RSE: 6.173136281359114\n",
      "Betha variance estimation: [[ 2.32234647e-03 -3.54870254e-04 -5.04960415e-03]\n",
      " [-3.54870254e-04  1.49462036e-04 -5.75914861e-03]\n",
      " [-5.04960415e-03 -5.75914861e-03  5.34137493e-01]]\n",
      "SE(beta_hat_0): 0.04819073014948507\n",
      "SE(beta_hat_1): 0.012225466717807387\n",
      "SE(beta_hat_2): 0.730847106250871\n"
     ]
    }
   ],
   "source": [
    "results = report_model(medv_on_two, data.loc[:, ['lstat', 'age']], data.medv)"
   ]
  },
  {
   "cell_type": "code",
   "execution_count": 34,
   "metadata": {},
   "outputs": [
    {
     "data": {
      "text/plain": [
       "(array([-1.08011358e-01,  4.64204584e-02,  2.05586264e-02,  2.68673382e+00,\n",
       "        -1.77666112e+01,  3.80986521e+00,  6.92224640e-04, -1.47556685e+00,\n",
       "         3.06049479e-01, -1.23345939e-02, -9.52747232e-01,  9.31168327e-03,\n",
       "        -5.24758378e-01]),\n",
       " 36.45948838509004)"
      ]
     },
     "execution_count": 34,
     "metadata": {},
     "output_type": "execute_result"
    }
   ],
   "source": [
    "medv_on_all = LinearRegression().fit(data.drop(['medv'], axis=1), data.medv)\n",
    "medv_on_all.coef_, medv_on_all.intercept_"
   ]
  },
  {
   "cell_type": "code",
   "execution_count": 36,
   "metadata": {},
   "outputs": [
    {
     "name": "stdout",
     "output_type": "stream",
     "text": [
      "Residual stats: count    5.060000e+02\n",
      "mean    -5.223753e-15\n",
      "std      4.683822e+00\n",
      "min     -1.559447e+01\n",
      "25%     -2.729716e+00\n",
      "50%     -5.180489e-01\n",
      "75%      1.777051e+00\n",
      "max      2.619927e+01\n",
      "Name: medv, dtype: float64\n",
      "RSS: 11078.784577954977\n",
      "TSS: 42716.29541501976\n",
      "R squared: 0.7406426641094094\n",
      "F_score: 108.0766661743262\n",
      "Sigma squared estimation: 22.517854833241824\n",
      "RSE: 4.745298181699631\n",
      "Betha variance estimation: [[ 1.08010784e-03 -3.93211613e-05  7.49975845e-05  1.41674163e-03\n",
      "   7.48388964e-03  3.61613108e-04 -1.45038554e-06  7.65725473e-04\n",
      "  -5.82087835e-04  1.46457971e-06  9.00625513e-05  1.03642927e-05\n",
      "  -2.54517638e-04 -1.07974757e-02]\n",
      " [-3.93211613e-05  1.88443200e-04  8.97733411e-05 -1.74615590e-04\n",
      "   1.87656747e-03 -8.93823328e-04  2.18802537e-05 -1.10252840e-03\n",
      "   9.63750012e-05 -1.15220593e-05  5.58841348e-04 -4.20703630e-07\n",
      "  -3.69897503e-05 -1.63910252e-03]\n",
      " [ 7.49975845e-05  8.97733411e-05  3.78171976e-03 -5.45752327e-03\n",
      "  -6.20060717e-02  2.36268966e-03 -8.95146683e-07  2.58926224e-03\n",
      "   1.13579822e-03 -1.01278395e-04 -1.04516456e-03  5.49383721e-06\n",
      "  -2.37621199e-04  1.75866093e-02]\n",
      " [ 1.41674163e-03 -1.74615590e-04 -5.45752327e-03  7.42319676e-01\n",
      "  -1.10409050e-01 -1.12247218e-02 -5.77870888e-04  2.70959782e-03\n",
      "  -6.15065527e-03  3.92674051e-04  1.05572901e-02 -1.18740827e-04\n",
      "   2.59692368e-03 -1.19487847e-01]\n",
      " [ 7.48388964e-03  1.87656747e-03 -6.20060717e-02 -1.10409050e-01\n",
      "   1.45904420e+01  1.49205152e-01 -1.33784110e-02  2.14795353e-01\n",
      "  -3.60262418e-02 -1.07152205e-03  1.64714420e-01  7.68114776e-04\n",
      "  -1.33216967e-02 -1.06426977e+01]\n",
      " [ 3.61613108e-04 -8.93823328e-04  2.36268966e-03 -1.12247218e-02\n",
      "   1.49205152e-01  1.74661518e-01 -1.14152365e-03  1.11332050e-02\n",
      "  -4.38308197e-03  1.16742587e-04  8.71943760e-03  1.17568292e-04\n",
      "   1.13379026e-02 -1.51322167e+00]\n",
      " [-1.45038554e-06  2.18802537e-05 -8.95146683e-07 -5.77870888e-04\n",
      "  -1.33784110e-02 -1.14152365e-03  1.74498340e-04  7.67520593e-04\n",
      "   6.64339273e-05 -1.48773423e-06 -1.35131424e-04 -2.26115370e-06\n",
      "  -2.28523227e-04  5.68743947e-03]\n",
      " [ 7.65725473e-04 -1.10252840e-03  2.58926224e-03  2.70959782e-03\n",
      "   2.14795353e-01  1.11332050e-02  7.67520593e-04  3.97821912e-02\n",
      "   2.09795287e-04 -1.46016672e-05 -2.44276168e-03  1.17662721e-05\n",
      "  -3.88902024e-04 -3.62219434e-01]\n",
      " [-5.82087835e-04  9.63750012e-05  1.13579822e-03 -6.15065527e-03\n",
      "  -3.60262418e-02 -4.38308197e-03  6.64339273e-05  2.09795287e-04\n",
      "   4.40185014e-03 -1.96595052e-04 -1.63980727e-03  1.28960051e-05\n",
      "  -1.19958524e-04  9.63663251e-02]\n",
      " [ 1.46457971e-06 -1.15220593e-05 -1.01278395e-04  3.92674051e-04\n",
      "  -1.07152205e-03  1.16742587e-04 -1.48773423e-06 -1.46016672e-05\n",
      "  -1.96595052e-04  1.41416344e-05 -3.71252769e-05  2.69145098e-07\n",
      "   2.92225841e-06 -2.09906747e-03]\n",
      " [ 9.00625513e-05  5.58841348e-04 -1.04516456e-03  1.05572901e-02\n",
      "   1.64714420e-01  8.71943760e-03 -1.35131424e-04 -2.44276168e-03\n",
      "  -1.63980727e-03 -3.71252769e-05  1.71156401e-02 -1.17875994e-05\n",
      "  -3.01315154e-04 -4.00440412e-01]\n",
      " [ 1.03642927e-05 -4.20703630e-07  5.49383721e-06 -1.18740827e-04\n",
      "   7.68114776e-04  1.17568292e-04 -2.26115370e-06  1.17662721e-05\n",
      "   1.28960051e-05  2.69145098e-07 -1.17875994e-05  7.21440767e-06\n",
      "   2.11207754e-05 -3.99609173e-03]\n",
      " [-2.54517638e-04 -3.69897503e-05 -2.37621199e-04  2.59692368e-03\n",
      "  -1.33216967e-02  1.13379026e-02 -2.28523227e-04 -3.88902024e-04\n",
      "  -1.19958524e-04  2.92225841e-06 -3.01315154e-04  2.11207754e-05\n",
      "   2.57203944e-03 -7.74754059e-02]\n",
      " [-1.07974757e-02 -1.63910252e-03  1.75866093e-02 -1.19487847e-01\n",
      "  -1.06426977e+01 -1.51322167e+00  5.68743947e-03 -3.62219434e-01\n",
      "   9.63663251e-02 -2.09906747e-03 -4.00440412e-01 -3.99609173e-03\n",
      "  -7.74754059e-02  2.60452918e+01]]\n",
      "SE(beta_hat_0): 0.032864994182947825\n",
      "SE(beta_hat_1): 0.013727461542885702\n",
      "SE(beta_hat_2): 0.061495688952086874\n",
      "SE(beta_hat_3): 0.8615797562099248\n",
      "SE(beta_hat_4): 3.8197437074031058\n",
      "SE(beta_hat_5): 0.4179252538095482\n",
      "SE(beta_hat_6): 0.01320978198368202\n",
      "SE(beta_hat_7): 0.19945473465911767\n",
      "SE(beta_hat_8): 0.0663464402885215\n",
      "SE(beta_hat_9): 0.0037605364462679762\n",
      "SE(beta_hat_10): 0.13082675587499942\n",
      "SE(beta_hat_11): 0.0026859649424287413\n",
      "SE(beta_hat_12): 0.0507152782024784\n",
      "SE(beta_hat_13): 5.1034588106363294\n"
     ]
    }
   ],
   "source": [
    "results = report_model(medv_on_all, data.drop(['medv'], axis=1), data.medv)"
   ]
  },
  {
   "cell_type": "code",
   "execution_count": 42,
   "metadata": {},
   "outputs": [],
   "source": [
    "from statsmodels.stats.outliers_influence import variance_inflation_factor"
   ]
  },
  {
   "cell_type": "code",
   "execution_count": 43,
   "metadata": {},
   "outputs": [],
   "source": [
    "complete_model = sm.OLS(data.medv, data.drop(['medv'], axis=1)).fit()"
   ]
  },
  {
   "cell_type": "code",
   "execution_count": 59,
   "metadata": {},
   "outputs": [
    {
     "data": {
      "text/plain": [
       "[('const', 585.2652379423121),\n",
       " ('crim', 1.7921915474332413),\n",
       " ('zn', 2.298758178749441),\n",
       " ('indus', 3.9915964183460297),\n",
       " ('chas', 1.0739953275537886),\n",
       " ('nox', 4.393719847577493),\n",
       " ('rm', 1.9337444357832565),\n",
       " ('age', 3.1008255128153372),\n",
       " ('dis', 3.95594490637273),\n",
       " ('rad', 7.484496335274472),\n",
       " ('tax', 9.00855394759707),\n",
       " ('ptratio', 1.7990840492488984),\n",
       " ('black', 1.3485210764063753),\n",
       " ('lstat', 2.9414910780919366)]"
      ]
     },
     "execution_count": 59,
     "metadata": {},
     "output_type": "execute_result"
    }
   ],
   "source": [
    "X = sm.add_constant(data.drop(['medv'], axis=1))\n",
    "[(col, variance_inflation_factor(X.to_numpy(), i)) for i, col in enumerate(X.columns)]"
   ]
  },
  {
   "cell_type": "code",
   "execution_count": 64,
   "metadata": {},
   "outputs": [
    {
     "data": {
      "text/plain": [
       "(array([-1.39211684e+00, -7.20859509e-04,  4.15595185e-03]), 36.08853593461289)"
      ]
     },
     "execution_count": 64,
     "metadata": {},
     "output_type": "execute_result"
    }
   ],
   "source": [
    "inter_term = pd.Series(data['lstat'] * data['age'], index=data.index, name='lstatxage')\n",
    "inter_term_X = pd.concat([data['lstat'], data['age'], inter_term], axis=1)\n",
    "inter_term_reg = LinearRegression().fit(inter_term_X, data.medv)\n",
    "inter_term_reg.coef_, inter_term_reg.intercept_"
   ]
  },
  {
   "cell_type": "code",
   "execution_count": 65,
   "metadata": {},
   "outputs": [
    {
     "name": "stdout",
     "output_type": "stream",
     "text": [
      "Residual stats: count    5.060000e+02\n",
      "mean    -7.133512e-15\n",
      "std      6.130223e+00\n",
      "min     -1.580652e+01\n",
      "25%     -4.044681e+00\n",
      "50%     -1.333163e+00\n",
      "75%      2.084707e+00\n",
      "max      2.755206e+01\n",
      "Name: medv, dtype: float64\n",
      "RSS: 18977.716144585767\n",
      "TSS: 42716.29541501976\n",
      "R squared: 0.5557265450993935\n",
      "F_score: 209.3115719328825\n",
      "Sigma squared estimation: 37.804215427461685\n",
      "RSE: 6.148513269682492\n",
      "Betha variance estimation: [[ 2.80413551e-02  2.16883360e-03 -2.97081836e-04 -2.09864955e-01]\n",
      " [ 2.16883360e-03  3.95181421e-04 -2.90979029e-05 -2.57780274e-02]\n",
      " [-2.97081836e-04 -2.90979029e-05  3.42914516e-06  2.36459906e-03]\n",
      " [-2.09864955e-01 -2.57780274e-02  2.36459906e-03  2.16041629e+00]]\n",
      "SE(beta_hat_0): 0.16745553177429914\n",
      "SE(beta_hat_1): 0.019879170528411972\n",
      "SE(beta_hat_2): 0.001851795117820738\n",
      "SE(beta_hat_3): 1.4698354633791413\n"
     ]
    }
   ],
   "source": [
    "results = report_model(inter_term_reg, inter_term_X, data.medv)"
   ]
  },
  {
   "cell_type": "code",
   "execution_count": 80,
   "metadata": {},
   "outputs": [
    {
     "data": {
      "text/plain": [
       "(array([-2.3328211 ,  0.04354689]), 42.862007328169355)"
      ]
     },
     "execution_count": 80,
     "metadata": {},
     "output_type": "execute_result"
    }
   ],
   "source": [
    "squared_term = pd.Series(data['lstat'] * data['lstat'], index=data.index, name='lstat^2')\n",
    "squared_term_X = pd.concat([data['lstat'], squared_term], axis=1)\n",
    "squared_term_reg = LinearRegression().fit(squared_term_X, data.medv)\n",
    "squared_term_reg.coef_, squared_term_reg.intercept_"
   ]
  },
  {
   "cell_type": "code",
   "execution_count": 81,
   "metadata": {},
   "outputs": [
    {
     "name": "stdout",
     "output_type": "stream",
     "text": [
      "Residual stats: count    5.060000e+02\n",
      "mean    -1.449170e-14\n",
      "std      5.512765e+00\n",
      "min     -1.528340e+01\n",
      "25%     -3.831307e+00\n",
      "50%     -5.295002e-01\n",
      "75%      2.309535e+00\n",
      "max      2.541481e+01\n",
      "Name: medv, dtype: float64\n",
      "RSS: 15347.24315838198\n",
      "TSS: 42716.29541501976\n",
      "R squared: 0.640716897163661\n",
      "F_score: 448.50508795027736\n",
      "Sigma squared estimation: 30.511417809904533\n",
      "RSE: 5.523714131805205\n",
      "Betha variance estimation: [[ 1.53272583e-02 -4.45380824e-04 -9.99640925e-02]\n",
      " [-4.45380824e-04  1.40261396e-05  2.67600060e-03]\n",
      " [-9.99640925e-02  2.67600060e-03  7.60531189e-01]]\n",
      "SE(beta_hat_0): 0.12380330503747428\n",
      "SE(beta_hat_1): 0.003745148802961689\n",
      "SE(beta_hat_2): 0.8720843930211493\n"
     ]
    }
   ],
   "source": [
    "results = report_model(squared_term_reg, squared_term_X, data.medv)"
   ]
  },
  {
   "cell_type": "code",
   "execution_count": 82,
   "metadata": {},
   "outputs": [],
   "source": [
    "squared_mod = sm.OLS(data.medv, sm.add_constant(squared_term_X)).fit()"
   ]
  },
  {
   "cell_type": "code",
   "execution_count": 83,
   "metadata": {},
   "outputs": [],
   "source": [
    "from statsmodels.stats.anova import anova_lm"
   ]
  },
  {
   "cell_type": "code",
   "execution_count": 84,
   "metadata": {},
   "outputs": [
    {
     "data": {
      "text/html": [
       "<div>\n",
       "<style scoped>\n",
       "    .dataframe tbody tr th:only-of-type {\n",
       "        vertical-align: middle;\n",
       "    }\n",
       "\n",
       "    .dataframe tbody tr th {\n",
       "        vertical-align: top;\n",
       "    }\n",
       "\n",
       "    .dataframe thead th {\n",
       "        text-align: right;\n",
       "    }\n",
       "</style>\n",
       "<table border=\"1\" class=\"dataframe\">\n",
       "  <thead>\n",
       "    <tr style=\"text-align: right;\">\n",
       "      <th></th>\n",
       "      <th>df_resid</th>\n",
       "      <th>ssr</th>\n",
       "      <th>df_diff</th>\n",
       "      <th>ss_diff</th>\n",
       "      <th>F</th>\n",
       "      <th>Pr(&gt;F)</th>\n",
       "    </tr>\n",
       "  </thead>\n",
       "  <tbody>\n",
       "    <tr>\n",
       "      <th>0</th>\n",
       "      <td>504.0</td>\n",
       "      <td>19472.381418</td>\n",
       "      <td>0.0</td>\n",
       "      <td>NaN</td>\n",
       "      <td>NaN</td>\n",
       "      <td>NaN</td>\n",
       "    </tr>\n",
       "    <tr>\n",
       "      <th>1</th>\n",
       "      <td>503.0</td>\n",
       "      <td>15347.243158</td>\n",
       "      <td>1.0</td>\n",
       "      <td>4125.13826</td>\n",
       "      <td>135.199822</td>\n",
       "      <td>7.630116e-28</td>\n",
       "    </tr>\n",
       "  </tbody>\n",
       "</table>\n",
       "</div>"
      ],
      "text/plain": [
       "   df_resid           ssr  df_diff     ss_diff           F        Pr(>F)\n",
       "0     504.0  19472.381418      0.0         NaN         NaN           NaN\n",
       "1     503.0  15347.243158      1.0  4125.13826  135.199822  7.630116e-28"
      ]
     },
     "execution_count": 84,
     "metadata": {},
     "output_type": "execute_result"
    }
   ],
   "source": [
    "anova_lm(mod, squared_mod)"
   ]
  },
  {
   "cell_type": "code",
   "execution_count": 85,
   "metadata": {},
   "outputs": [
    {
     "data": {
      "text/plain": [
       "<matplotlib.legend.Legend at 0x7f38e9098dc0>"
      ]
     },
     "execution_count": 85,
     "metadata": {},
     "output_type": "execute_result"
    },
    {
     "data": {
      "image/png": "[encoded data removed]",
      "text/plain": [
       "<Figure size 1080x864 with 1 Axes>"
      ]
     },
     "metadata": {
      "needs_background": "light"
     },
     "output_type": "display_data"
    }
   ],
   "source": [
    "_ = plt.figure(figsize=(15, 12))\n",
    "residuals = data.medv - squared_term_reg.predict(squared_term_X)\n",
    "plt.scatter(data.lstat, residuals, label='residuals')\n",
    "studentized = squared_mod.get_influence().resid_studentized_external\n",
    "plt.scatter(data.lstat, studentized, label='studentized')\n",
    "plt.legend()"
   ]
  },
  {
   "cell_type": "code",
   "execution_count": 92,
   "metadata": {},
   "outputs": [
    {
     "data": {
      "text/plain": [
       "(array([-1.19911168e+01,  1.27281826e+00, -6.82738394e-02,  1.72606825e-03,\n",
       "        -1.63199416e-05]),\n",
       " 67.69967680147366)"
      ]
     },
     "execution_count": 92,
     "metadata": {},
     "output_type": "execute_result"
    }
   ],
   "source": [
    "power_2_term = pd.Series(data['lstat'] ** 2, index=data.index, name='lstat^2')\n",
    "power_3_term = pd.Series(data['lstat'] ** 3, index=data.index, name='lstat^3')\n",
    "power_4_term = pd.Series(data['lstat'] ** 4, index=data.index, name='lstat^4')\n",
    "power_5_term = pd.Series(data['lstat'] ** 5, index=data.index, name='lstat^5')\n",
    "poly_X = pd.concat([data['lstat'], power_2_term, power_3_term, power_4_term, power_5_term], axis=1)\n",
    "poly_reg = LinearRegression().fit(poly_X, data.medv)\n",
    "poly_reg.coef_, poly_reg.intercept_"
   ]
  },
  {
   "cell_type": "code",
   "execution_count": 93,
   "metadata": {},
   "outputs": [
    {
     "name": "stdout",
     "output_type": "stream",
     "text": [
      "Residual stats: count    5.060000e+02\n",
      "mean    -1.046997e-13\n",
      "std      5.188913e+00\n",
      "min     -1.354329e+01\n",
      "25%     -3.103925e+00\n",
      "50%     -7.052316e-01\n",
      "75%      2.084364e+00\n",
      "max      2.711526e+01\n",
      "Name: medv, dtype: float64\n",
      "RSS: 13597.035027465221\n",
      "TSS: 42716.29541501976\n",
      "R squared: 0.6816897416931835\n",
      "F_score: 214.15889808870335\n",
      "Sigma squared estimation: 27.194070054930442\n",
      "RSE: 5.21479338564151\n",
      "Betha variance estimation: [[ 2.32781538e+00 -3.35454671e-01  2.09335319e-02 -5.83380338e-04\n",
      "   5.94205266e-06 -5.35152709e+00]\n",
      " [-3.35454671e-01  4.98034821e-02 -3.17963255e-03  9.01628399e-05\n",
      "  -9.30747059e-07  7.43610084e-01]\n",
      " [ 2.09335319e-02 -3.17963255e-03  2.06849804e-04 -5.95464863e-06\n",
      "   6.22188629e-08 -4.52424014e-02]\n",
      " [-5.83380338e-04  9.01628399e-05 -5.95464863e-06  1.73609688e-07\n",
      "  -1.83338770e-09  1.23803058e-03]\n",
      " [ 5.94205266e-06 -9.30747059e-07  6.22188629e-08 -1.83338770e-09\n",
      "   1.95407334e-11 -1.24401658e-05]\n",
      " [-5.35152709e+00  7.43610084e-01 -4.52424014e-02  1.23803058e-03\n",
      "  -1.24401658e-05  1.29909399e+01]]\n",
      "SE(beta_hat_0): 1.525717988825864\n",
      "SE(beta_hat_1): 0.22316693768870827\n",
      "SE(beta_hat_2): 0.014382273951347979\n",
      "SE(beta_hat_3): 0.0004166649594155731\n",
      "SE(beta_hat_4): 4.420490181061081e-06\n",
      "SE(beta_hat_5): 3.6042946533130276\n"
     ]
    }
   ],
   "source": [
    "results = report_model(poly_reg, poly_X, data.medv)"
   ]
  },
  {
   "cell_type": "code",
   "execution_count": 94,
   "metadata": {},
   "outputs": [
    {
     "data": {
      "text/plain": [
       "(array([  0.38043821, -16.74909763]), 57.43062469481366)"
      ]
     },
     "execution_count": 94,
     "metadata": {},
     "output_type": "execute_result"
    }
   ],
   "source": [
    "log_term = pd.Series(np.log(data['lstat']), index=data.index, name='log(lstat)')\n",
    "log_X = pd.concat([data['lstat'], log_term], axis=1)\n",
    "log_reg = LinearRegression().fit(log_X, data.medv)\n",
    "log_reg.coef_, log_reg.intercept_"
   ]
  },
  {
   "cell_type": "code",
   "execution_count": 95,
   "metadata": {},
   "outputs": [
    {
     "name": "stdout",
     "output_type": "stream",
     "text": [
      "Residual stats: count    5.060000e+02\n",
      "mean    -1.123388e-16\n",
      "std      5.247671e+00\n",
      "min     -1.395285e+01\n",
      "25%     -3.405554e+00\n",
      "50%     -5.632813e-01\n",
      "75%      2.405699e+00\n",
      "max      2.670371e+01\n",
      "Name: medv, dtype: float64\n",
      "RSS: 13906.713552994377\n",
      "TSS: 42716.29541501976\n",
      "R squared: 0.6744400838630649\n",
      "F_score: 521.0152499861672\n",
      "Sigma squared estimation: 27.647541854859597\n",
      "RSE: 5.258092986517032\n",
      "Betha variance estimation: [[ 0.00986707 -0.11069843  0.13761341]\n",
      " [-0.11069843  1.39354843 -1.90338052]\n",
      " [ 0.13761341 -1.90338052  2.82625719]]\n",
      "SE(beta_hat_0): 0.09933315026245947\n",
      "SE(beta_hat_1): 1.1804865226514307\n",
      "SE(beta_hat_2): 1.6811475813843444\n"
     ]
    }
   ],
   "source": [
    "results = report_model(log_reg, log_X, data.medv)"
   ]
  },
  {
   "cell_type": "code",
   "execution_count": null,
   "metadata": {},
   "outputs": [],
   "source": []
  }
 ],
 "metadata": {
  "kernelspec": {
   "display_name": "Python 3",
   "language": "python",
   "name": "python3"
  },
  "language_info": {
   "codemirror_mode": {
    "name": "ipython",
    "version": 3
   },
   "file_extension": ".py",
   "mimetype": "text/x-python",
   "name": "python",
   "nbconvert_exporter": "python",
   "pygments_lexer": "ipython3",
   "version": "3.8.2"
  }
 },
 "nbformat": 4,
 "nbformat_minor": 4
}
